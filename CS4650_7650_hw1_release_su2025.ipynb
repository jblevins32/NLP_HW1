{
 "cells": [
  {
   "cell_type": "markdown",
   "id": "3ffbb14288fe2c51",
   "metadata": {},
   "source": [
    "# CS 4650/7650 - Natural Language - HW - 1 \n",
    "Georgia Tech, Summer 2025 (Instructor: Kartik Goyal)\n",
    "\n",
    "Welcome to the first full programming assignment for CS 4650/7650! \n",
    "\n",
    "In this assignment, you will be implementing different deep learning models for text classification using the [20 Newsgroups](http://qwone.com/~jason/20Newsgroups/). It is esentially classifying news articles into different topics. This assignment will start with with data preprocessing techniques, implementing a baseline, and building up from there to more advanced model. It will cover basics of attention mechanism, something very central to modern NLP systems, and present you an opportunity to analyse different aspects of your training model.\n",
    "\n",
    "This assignment will help you diver deeper into the world of Neural Networks and how to implement them for one application in Natural Language Processing. You are expected to have a good understanding of NumPy and PyTorch before starting this assignment.\n",
    "\n",
    "- NumPy Quickstarter Guide: https://numpy.org/doc/stable/user/quickstart.html\n",
    "- A good tutorial on PyTorch: https://www.youtube.com/watch?v=OIenNRt2bjg\n",
    "- Detailed Documentation of PyTorch: https://pytorch.org/docs/stable/index.html\n",
    "- Lecture Material on PyTorch and HuggingFace: https://github.com/neelabhsinha/cs7650-gatech-nlp-pytorch-huggingface-tutorial\n",
    "\n",
    "DO NOT CHANGE the names of any of the files and contents outside the cells where you have to write code.\n",
    "\n",
    "NOTE: DO NOT USE ANY OTHER EXTERNAL LIBRARIES FOR THIS ASSIGNMENT\n",
    "\n",
    "<font color='red'> DEADLINE: July 21, 2025, 11:59 PM  </font><br>"
   ]
  },
  {
   "cell_type": "markdown",
   "id": "SiFjTT4jFEIW",
   "metadata": {
    "id": "SiFjTT4jFEIW"
   },
   "source": [
    "The assignment is broken down into 6 Sections. The sections are as follows:\n",
    "\n",
    "| Section | Part                                      | Points |\n",
    "|---------|-------------------------------------------|--------|\n",
    "| 1       | Loading and Preprocessing Data            | 7      |\n",
    "| 2       | Neural Bag of Words (NBOW)                | 3      |\n",
    "| 3       | Model Training (utilities for all models) | 15     |  \n",
    "| 4       | Deep Averaging Networks (DANs)            | 8      |\n",
    "| 5       | Attention-based Models                    | 30     |\n",
    "| 6       | Perceptron and Hinge Losses               | 16     |\n",
    "| 7       | Analysis                                  | 21     |\n",
    "| 8       | Bonus: Improving Attention Models         | 10     |\n",
    "| -       | Total                                     | 100 + 10 = 110     |\n",
    "\n",
    "\n",
    "All the best and happy coding!"
   ]
  },
  {
   "cell_type": "markdown",
   "id": "0e26764d",
   "metadata": {},
   "source": [
    "## 0. Setup"
   ]
  },
  {
   "cell_type": "code",
   "execution_count": 1,
   "id": "3faa2ce9",
   "metadata": {},
   "outputs": [
    {
     "name": "stdout",
     "output_type": "stream",
     "text": [
      "3.11.13 (main, Jun  5 2025, 13:12:00) [GCC 11.2.0]\n"
     ]
    }
   ],
   "source": [
    "%load_ext autoreload\n",
    "%autoreload 2\n",
    "\n",
    "import sys\n",
    "\n",
    "# Check what version of Python is running\n",
    "print(sys.version)"
   ]
  },
  {
   "cell_type": "code",
   "execution_count": 2,
   "id": "451c6eeb",
   "metadata": {},
   "outputs": [],
   "source": [
    "# export\n",
    "import os"
   ]
  },
  {
   "cell_type": "code",
   "execution_count": 3,
   "id": "4d87790e",
   "metadata": {},
   "outputs": [],
   "source": [
    "# folder_path = '/content/drive/My Drive/path/to/folder/HW0'\n",
    "# the above is what folder path should look like the folder path if you execute in colab\n",
    "folder_path = '.'\n",
    "\n",
    "# Files in the folder -\n",
    "os.listdir(folder_path)\n",
    "os.chdir(folder_path)"
   ]
  },
  {
   "cell_type": "code",
   "execution_count": 4,
   "id": "33fa9b2d",
   "metadata": {},
   "outputs": [
    {
     "name": "stdout",
     "output_type": "stream",
     "text": [
      "HF_HOME\n",
      "/home/jblevins32/scratch/hf_cache\n",
      "TRITON_CACHE_DIR\n",
      "/home/jblevins32/scratch/triton_cache\n",
      "TORCHINDUCTOR_CACHE_DIR\n",
      "/home/jblevins32/scratch/inductor_cache\n",
      "NLTK_DATA\n",
      "/home/jblevins32/scratch/nltk_data\n"
     ]
    }
   ],
   "source": [
    "# DO NOT CHANGE THIS CELL\n",
    "# RUN THIS CELL ONLY IF RUNNING ON PACE-ICE \n",
    "\n",
    "# You can ignore this cell if you have already changed the symlink of .cache/ to a location in scratch folder\n",
    "\n",
    "\n",
    "# override the huggingface cache path and nltk cache path\n",
    "dirs = {\n",
    "    \"HF_HOME\":\"~/scratch/hf_cache\",\n",
    "    \"TRITON_CACHE_DIR\":\"~/scratch/triton_cache\",\n",
    "    \"TORCHINDUCTOR_CACHE_DIR\":\"~/scratch/inductor_cache\",\n",
    "    'NLTK_DATA':\"~/scratch/nltk_data\"\n",
    "}\n",
    "\n",
    "for name in dirs:\n",
    "    d = dirs[name]\n",
    "    path = os.path.expanduser(d)\n",
    "    print(name)\n",
    "    print(path)\n",
    "    os.makedirs(path, exist_ok=True)\n",
    "    # making sure the cache dirs are rwx for owner\n",
    "    os.chmod(path, 0o700)\n",
    "    os.environ[name] = path\n"
   ]
  },
  {
   "cell_type": "code",
   "execution_count": 5,
   "id": "32e55cf463e82c55",
   "metadata": {
    "ExecuteTime": {
     "end_time": "2024-09-05T23:33:10.407318Z",
     "start_time": "2024-09-05T23:33:05.512054Z"
    }
   },
   "outputs": [],
   "source": [
    "# export\n",
    "# Importing required libraries\n",
    "# Do not change the libraries already imported or import additional libraries\n",
    "import torch\n",
    "import torch.nn as nn\n",
    "import random\n",
    "import numpy as np\n",
    "from collections import Counter\n",
    "import re\n",
    "import html\n",
    "import pandas as pd\n",
    "from tqdm import tqdm\n",
    "import torch.nn as nn\n",
    "import torch.nn.functional as F\n",
    "from torch.utils.data import Dataset, RandomSampler, DataLoader\n",
    "from torch.nn.utils.rnn import pad_sequence\n",
    "from sklearn.metrics import accuracy_score, f1_score, confusion_matrix, ConfusionMatrixDisplay\n",
    "import matplotlib.pyplot as plt"
   ]
  },
  {
   "cell_type": "code",
   "execution_count": 6,
   "id": "fbf8106b",
   "metadata": {},
   "outputs": [],
   "source": [
    "# export\n",
    "# SOME UTILITY FUNCTIONS - DO NOT CHANGE\n",
    "def save_checkpoint(model, model_name, loss_fn='ce'):\n",
    "    file_path = os.path.join(os.getcwd(), 'model_weights', f'checkpoint_{model_name}_{loss_fn}.pt')\n",
    "    os.makedirs(os.path.join(os.getcwd(), 'model_weights'), exist_ok=True)\n",
    "    checkpoint = { # create a dictionary with all the state information\n",
    "        'model_state_dict': model.state_dict()\n",
    "    }\n",
    "    torch.save(checkpoint, file_path)\n",
    "    print(f\"Checkpoint saved to {file_path}\")\n",
    "\n",
    "def load_checkpoint(model, model_name, loss_fn='ce', map_location='cpu'):\n",
    "    file_path = os.path.join(os.getcwd(), 'model_weights', f'checkpoint_{model_name}_{loss_fn}.pt')\n",
    "    checkpoint = torch.load(file_path, map_location=map_location) # load the checkpoint, ensure correct device\n",
    "    model.load_state_dict(checkpoint['model_state_dict'])"
   ]
  },
  {
   "cell_type": "code",
   "execution_count": 7,
   "id": "c24e5a02",
   "metadata": {},
   "outputs": [],
   "source": [
    "# SOME UTILITY FUNCTIONS - DO NOT CHANGE\n",
    "def plot_loss(train_loss_over_time, val_loss_over_time, model_name):\n",
    "    epochs = range(1, len(train_loss_over_time) + 1)\n",
    "    \n",
    "    plt.figure(figsize=(10, 6))\n",
    "    plt.plot(epochs, train_loss_over_time, color='red', label='Train Loss')\n",
    "    plt.plot(epochs, val_loss_over_time, color='blue', label='Val Loss')\n",
    "    \n",
    "    plt.xlabel('Epochs')\n",
    "    plt.ylabel('Loss')\n",
    "    plt.title(f'Training and Validation Loss for {model_name}')\n",
    "    plt.legend()\n",
    "    plt.grid(True)\n",
    "    plt.show()"
   ]
  },
  {
   "cell_type": "code",
   "execution_count": 8,
   "id": "e52d8b77a802b9b8",
   "metadata": {
    "ExecuteTime": {
     "end_time": "2024-09-05T23:33:10.448870Z",
     "start_time": "2024-09-05T23:33:10.417558Z"
    }
   },
   "outputs": [],
   "source": [
    "#export\n",
    "# Defining global constants - DO NOT CHANGE THESE VALUES (except batch size if you have memory issues)\n",
    "RANDOM_SEED = 42\n",
    "PADDING_VALUE = 0\n",
    "UNK_VALUE     = 1\n",
    "BATCH_SIZE = 128\n",
    "\n",
    "torch.manual_seed(RANDOM_SEED)\n",
    "random.seed(RANDOM_SEED)\n",
    "np.random.seed(RANDOM_SEED)\n",
    "device = torch.device('cuda' if torch.cuda.is_available() else('mps' if torch.backends.mps.is_available() else 'cpu'))"
   ]
  },
  {
   "cell_type": "code",
   "execution_count": 9,
   "id": "45fb7e17",
   "metadata": {
    "ExecuteTime": {
     "end_time": "2024-09-05T23:33:13.222334Z",
     "start_time": "2024-09-05T23:33:13.219647Z"
    }
   },
   "outputs": [
    {
     "name": "stdout",
     "output_type": "stream",
     "text": [
      "Device of execution -  cuda\n"
     ]
    }
   ],
   "source": [
    "# This is how we select a GPU if it's available on your computer or in the Colab environment.\n",
    "print('Device of execution - ', device)"
   ]
  },
  {
   "cell_type": "markdown",
   "id": "83360462",
   "metadata": {},
   "source": [
    "## 1. Preprocessing [7 points - Programming]"
   ]
  },
  {
   "cell_type": "markdown",
   "id": "0Fulh0MZ8y8b",
   "metadata": {
    "id": "0Fulh0MZ8y8b"
   },
   "source": [
    "### 1.1. Data Cleaning Methods [0 points]\n",
    "The following cell defines some methods to clean the dataset. Do not edit it, but feel free to take a look at some of the operations it's doing.\n"
   ]
  },
  {
   "cell_type": "code",
   "execution_count": 10,
   "id": "ctNnE1Ui8oKw",
   "metadata": {
    "ExecuteTime": {
     "end_time": "2024-09-05T23:33:16.511579Z",
     "start_time": "2024-09-05T23:33:16.505921Z"
    },
    "id": "ctNnE1Ui8oKw"
   },
   "outputs": [],
   "source": [
    "#export\n",
    "# example code taken from fast-bert\n",
    "# DO NOT CHANGE THIS CELL\n",
    "\n",
    "def spec_add_spaces(t: str) -> str:\n",
    "    \"Add spaces around / and # in `t`. \\n\"\n",
    "    return re.sub(r\"([/#\\n])\", r\" \\1 \", t)\n",
    "\n",
    "def rm_useless_spaces(t: str) -> str:\n",
    "    \"Remove multiple spaces in `t`.\"\n",
    "    return re.sub(\" {2,}\", \" \", t)\n",
    "\n",
    "def replace_multi_newline(t: str) -> str:\n",
    "    return re.sub(r\"(\\n(\\s)*){2,}\", \"\\n\", t)\n",
    "\n",
    "def fix_html(x: str) -> str:\n",
    "    \"List of replacements from html strings in `x`.\"\n",
    "    re1 = re.compile(r\"  +\")\n",
    "    x = (\n",
    "        x.replace(\"#39;\", \"'\")\n",
    "        .replace(\"amp;\", \"&\")\n",
    "        .replace(\"#146;\", \"'\")\n",
    "        .replace(\"nbsp;\", \" \")\n",
    "        .replace(\"#36;\", \"$\")\n",
    "        .replace(\"\\\\n\", \"\\n\")\n",
    "        .replace(\"quot;\", \"'\")\n",
    "        .replace(\"<br />\", \"\\n\")\n",
    "        .replace('\\\\\"', '\"')\n",
    "        .replace(\" @.@ \", \".\")\n",
    "        .replace(\" @-@ \", \"-\")\n",
    "        .replace(\" @,@ \", \",\")\n",
    "        .replace(\"\\\\\", \" \\\\ \")\n",
    "    )\n",
    "    return re1.sub(\" \", html.unescape(x))\n",
    "\n",
    "def clean_text(input_text):\n",
    "    text = fix_html(input_text)\n",
    "    text = replace_multi_newline(text)\n",
    "    text = spec_add_spaces(text)\n",
    "    text = rm_useless_spaces(text)\n",
    "    text = text.strip()\n",
    "    return text"
   ]
  },
  {
   "cell_type": "markdown",
   "id": "MiUlTSBB9Wx6",
   "metadata": {
    "id": "MiUlTSBB9Wx6"
   },
   "source": [
    "### 1.2. Data Cleaning and Tokenizing [0 points]\n",
    "\n",
    "Clean the data using the methods above and tokenize it using NLTK"
   ]
  },
  {
   "cell_type": "code",
   "execution_count": 11,
   "id": "vqtdrhF8FEIZ",
   "metadata": {
    "ExecuteTime": {
     "end_time": "2024-09-06T14:39:54.123042Z",
     "start_time": "2024-09-06T14:39:33.007172Z"
    },
    "id": "vqtdrhF8FEIZ"
   },
   "outputs": [
    {
     "name": "stderr",
     "output_type": "stream",
     "text": [
      "[nltk_data] Downloading package punkt to\n",
      "[nltk_data]     /home/jblevins32/scratch/nltk_data...\n",
      "[nltk_data]   Package punkt is already up-to-date!\n",
      "[nltk_data] Downloading package punkt_tab to\n",
      "[nltk_data]     /home/jblevins32/scratch/nltk_data...\n",
      "[nltk_data]   Package punkt_tab is already up-to-date!\n"
     ]
    },
    {
     "name": "stdout",
     "output_type": "stream",
     "text": [
      "(16962, 4)\n"
     ]
    }
   ],
   "source": [
    "# DO NOT CHANGE THIS CELL\n",
    "# Downloading the NLTK tokenizer\n",
    "import nltk\n",
    "nltk.download('punkt')\n",
    "nltk.download('punkt_tab')\n",
    "# Tokenizing the text\n",
    "df = pd.read_csv(\"vocab.csv\")\n",
    "df[\"tokenized\"] = df[\"data\"].apply(lambda x: nltk.word_tokenize(clean_text(x.lower())))\n",
    "func = lambda x: int(x) if x.isdigit() else x\n",
    "df['target'] = df['target'].apply(func)\n",
    "print(df.shape)"
   ]
  },
  {
   "cell_type": "code",
   "execution_count": 12,
   "id": "e0b94263",
   "metadata": {
    "ExecuteTime": {
     "end_time": "2024-09-05T23:33:43.837726Z",
     "start_time": "2024-09-05T23:33:43.827897Z"
    }
   },
   "outputs": [],
   "source": [
    "# DO NOT CHANGE THESE VALUES\n",
    "# Divide the dataset into training and validation sets\n",
    "# The following two lines are used to load the indices of the training and validation sets\n",
    "train_indices = np.load(\"train_indices.npy\")\n",
    "val_indices = np.load(\"valid_indices.npy\")\n",
    "# The following two lines are used to select the training and validation sets from the dataframe based on the indices loaded above\n",
    "train_data = df.iloc[train_indices].reset_index(drop=True)\n",
    "val_data = df.iloc[val_indices].reset_index(drop=True)\n",
    "func = lambda x: int(x) if str(x).isdigit() else x\n",
    "val_data['target'] = val_data['target'].apply(func)\n",
    "val_data = val_data.iloc[1:, :].reset_index(drop=True)"
   ]
  },
  {
   "cell_type": "markdown",
   "id": "qBBdVOYxFEIa",
   "metadata": {
    "id": "qBBdVOYxFEIa"
   },
   "source": [
    "Here's what the dataset looks like. You can index into specific rows with pandas, and try to guess some of these yourself :). If you're unfamiliar with pandas, it's a extremely useful and popular library for data analysis and manipulation. You can find their documentation [here](https://pandas.pydata.org/docs/).\n",
    "\n",
    "Pandas primary data structure is a DataFrame. The following cell will print out the basic information of this structure, including the labeled axes (both columns and rows) as well as show you what the first n (default=5) rows look like"
   ]
  },
  {
   "cell_type": "code",
   "execution_count": 13,
   "id": "sJjScqV3FEIb",
   "metadata": {
    "ExecuteTime": {
     "end_time": "2024-09-05T23:33:47.458775Z",
     "start_time": "2024-09-05T23:33:47.448945Z"
    },
    "id": "sJjScqV3FEIb"
   },
   "outputs": [
    {
     "data": {
      "text/html": [
       "<div>\n",
       "<style scoped>\n",
       "    .dataframe tbody tr th:only-of-type {\n",
       "        vertical-align: middle;\n",
       "    }\n",
       "\n",
       "    .dataframe tbody tr th {\n",
       "        vertical-align: top;\n",
       "    }\n",
       "\n",
       "    .dataframe thead th {\n",
       "        text-align: right;\n",
       "    }\n",
       "</style>\n",
       "<table border=\"1\" class=\"dataframe\">\n",
       "  <thead>\n",
       "    <tr style=\"text-align: right;\">\n",
       "      <th></th>\n",
       "      <th>data</th>\n",
       "      <th>target</th>\n",
       "      <th>target_names</th>\n",
       "      <th>tokenized</th>\n",
       "    </tr>\n",
       "  </thead>\n",
       "  <tbody>\n",
       "    <tr>\n",
       "      <th>0</th>\n",
       "      <td>From: Mamatha Devineni Ratnam &lt;mr47+@andrew.cm...</td>\n",
       "      <td>9</td>\n",
       "      <td>rec.sport.baseball</td>\n",
       "      <td>[from, :, mamatha, devineni, ratnam, &lt;, mr47+,...</td>\n",
       "    </tr>\n",
       "    <tr>\n",
       "      <th>1</th>\n",
       "      <td>From: glazier@isr.harvard.edu (Andrew Baker Gl...</td>\n",
       "      <td>6</td>\n",
       "      <td>misc.forsale</td>\n",
       "      <td>[from, :, glazier, @, isr.harvard.edu, (, andr...</td>\n",
       "    </tr>\n",
       "    <tr>\n",
       "      <th>2</th>\n",
       "      <td>From: simon@dcs.warwick.ac.uk (Simon Clippingd...</td>\n",
       "      <td>0</td>\n",
       "      <td>alt.atheism</td>\n",
       "      <td>[from, :, simon, @, dcs.warwick.ac.uk, (, simo...</td>\n",
       "    </tr>\n",
       "    <tr>\n",
       "      <th>3</th>\n",
       "      <td>From: keith@cco.caltech.edu (Keith Allan Schne...</td>\n",
       "      <td>0</td>\n",
       "      <td>alt.atheism</td>\n",
       "      <td>[from, :, keith, @, cco.caltech.edu, (, keith,...</td>\n",
       "    </tr>\n",
       "    <tr>\n",
       "      <th>4</th>\n",
       "      <td>From: mz@moscom.com (Matthew Zenkar)\\\\nSubject...</td>\n",
       "      <td>1</td>\n",
       "      <td>comp.graphics</td>\n",
       "      <td>[from, :, mz, @, moscom.com, (, matthew, zenka...</td>\n",
       "    </tr>\n",
       "  </tbody>\n",
       "</table>\n",
       "</div>"
      ],
      "text/plain": [
       "                                                data target  \\\n",
       "0  From: Mamatha Devineni Ratnam <mr47+@andrew.cm...      9   \n",
       "1  From: glazier@isr.harvard.edu (Andrew Baker Gl...      6   \n",
       "2  From: simon@dcs.warwick.ac.uk (Simon Clippingd...      0   \n",
       "3  From: keith@cco.caltech.edu (Keith Allan Schne...      0   \n",
       "4  From: mz@moscom.com (Matthew Zenkar)\\\\nSubject...      1   \n",
       "\n",
       "         target_names                                          tokenized  \n",
       "0  rec.sport.baseball  [from, :, mamatha, devineni, ratnam, <, mr47+,...  \n",
       "1        misc.forsale  [from, :, glazier, @, isr.harvard.edu, (, andr...  \n",
       "2         alt.atheism  [from, :, simon, @, dcs.warwick.ac.uk, (, simo...  \n",
       "3         alt.atheism  [from, :, keith, @, cco.caltech.edu, (, keith,...  \n",
       "4       comp.graphics  [from, :, mz, @, moscom.com, (, matthew, zenka...  "
      ]
     },
     "execution_count": 13,
     "metadata": {},
     "output_type": "execute_result"
    }
   ],
   "source": [
    "# Print training and validation set heads\n",
    "train_data.head()"
   ]
  },
  {
   "cell_type": "code",
   "execution_count": 14,
   "id": "532ebf95",
   "metadata": {},
   "outputs": [
    {
     "data": {
      "text/plain": [
       "{0: 'alt.atheism',\n",
       " 1: 'comp.graphics',\n",
       " 2: 'comp.os.ms-windows.misc',\n",
       " 3: 'comp.sys.ibm.pc.hardware',\n",
       " 4: 'comp.sys.mac.hardware',\n",
       " 5: 'comp.windows.x',\n",
       " 6: 'misc.forsale',\n",
       " 7: 'rec.autos',\n",
       " 8: 'rec.motorcycles',\n",
       " 9: 'rec.sport.baseball',\n",
       " 10: 'rec.sport.hockey',\n",
       " 11: 'sci.crypt',\n",
       " 12: 'sci.electronics',\n",
       " 13: 'sci.med',\n",
       " 14: 'sci.space',\n",
       " 15: 'soc.religion.christian',\n",
       " 16: 'talk.politics.guns',\n",
       " 17: 'talk.politics.mideast',\n",
       " 18: 'talk.politics.misc',\n",
       " 19: 'talk.religion.misc'}"
      ]
     },
     "execution_count": 14,
     "metadata": {},
     "output_type": "execute_result"
    }
   ],
   "source": [
    "# DO NOT CHANGE THIS CELL\n",
    "id2label = dict(zip(df['target'], df['target_names']))\n",
    "id2label = {k: id2label[k] for k in id2label if isinstance(k, int)}\n",
    "id2label = {k: id2label[k] for k in sorted(id2label)}\n",
    "id2label"
   ]
  },
  {
   "cell_type": "markdown",
   "id": "f698ac9f",
   "metadata": {},
   "source": [
    "This is a dictionary which maps ids to label names. It will be handy in the later part of the assignment."
   ]
  },
  {
   "cell_type": "markdown",
   "id": "TQVT6HUA9htQ",
   "metadata": {
    "id": "TQVT6HUA9htQ"
   },
   "source": [
    "### 1.3. Vocabulary Building [2 points - Programming]\n",
    "\n",
    "Generate a vocabulary map for all the words in your dataset"
   ]
  },
  {
   "cell_type": "markdown",
   "id": "GDI72x8XFEIc",
   "metadata": {
    "id": "GDI72x8XFEIc"
   },
   "source": [
    "Now that we've loaded this dataset, we need to create a vocab map for words, which will map tokens to numbers. This will be useful later, since torch PyTorch use tensors of sequences of numbers as inputs. **Go to the following cell, and fill out generate_vocab_map.**"
   ]
  },
  {
   "cell_type": "code",
   "execution_count": 52,
   "id": "zeo9kX6i9pbH",
   "metadata": {
    "ExecuteTime": {
     "end_time": "2024-09-05T23:33:53.394479Z",
     "start_time": "2024-09-05T23:33:53.388382Z"
    },
    "id": "zeo9kX6i9pbH"
   },
   "outputs": [],
   "source": [
    "# export\n",
    "\n",
    "def generate_vocab_map(df, cutoff=2):\n",
    "    \"\"\"\n",
    "    This method takes a dataframe and builds a vocabulary to unique number map.\n",
    "    It uses the cutoff argument to remove rare words occurring <= cutoff times.\n",
    "    \"\" and \"UNK\" are reserved tokens in our vocab that will be useful later. \n",
    "    You'll also find the Counter imported for you to be useful as well.\n",
    "    \n",
    "    Args:\n",
    "        df (pandas.DataFrame) : The entire dataset this mapping is built from\n",
    "        cutoff (int) : We exclude words from the vocab that appear less than or equal to cutoff\n",
    "             \n",
    "    Returns:\n",
    "        vocab (dict[str] = int) : In vocab, each str is a unique token, and each dict[str] is a\n",
    "            unique integer ID. Only elements that appear > cutoff times appear in vocab. \n",
    "        reversed_vocab (dict[int] = str) : A reversed version of vocab, which allows us to retrieve\n",
    "            words given their unique integer ID. This map will allow us to \"decode\" integer \n",
    "            sequences we'll encode using vocab!\n",
    "    \"\"\"\n",
    "    vocab = {\"\": PADDING_VALUE, \"UNK\": UNK_VALUE}\n",
    "    count = Counter(vocab.keys())\n",
    "    reversed_vocab = {}\n",
    "\n",
    "    ## YOUR CODE STARTS HERE ##\n",
    "    # hint: start by iterating over df[\"tokenized\"]\n",
    "    for tokens in df[\"tokenized\"]:\n",
    "        for token in tokens:\n",
    "            if token not in vocab:\n",
    "                count.update([token])\n",
    "                if count[token] > cutoff:\n",
    "                    vocab[token] = len(vocab)\n",
    "\n",
    "    # Create the reversed vocabulary\n",
    "    for item in vocab.items():\n",
    "        reversed_vocab[item[1]] = item[0]\n",
    "\n",
    "    ## YOUR CODE ENDS HERE ##\n",
    "\n",
    "    return vocab, reversed_vocab"
   ]
  },
  {
   "cell_type": "markdown",
   "id": "w9LEk83hRFgT",
   "metadata": {
    "id": "w9LEk83hRFgT"
   },
   "source": [
    "With the methods you have implemented above, you can now generate your dictionaries mapping from word tokens to IDs (and vice versa)."
   ]
  },
  {
   "cell_type": "code",
   "execution_count": 53,
   "id": "rcmX931OFEId",
   "metadata": {
    "ExecuteTime": {
     "end_time": "2024-09-05T23:34:00.216100Z",
     "start_time": "2024-09-05T23:33:59.772028Z"
    },
    "id": "rcmX931OFEId"
   },
   "outputs": [],
   "source": [
    "# DO NOT CHANGE THIS CELL\n",
    "train_vocab, reverse_vocab = generate_vocab_map(train_data)"
   ]
  },
  {
   "cell_type": "code",
   "execution_count": 54,
   "id": "57e50b95",
   "metadata": {
    "ExecuteTime": {
     "end_time": "2024-09-05T23:34:01.828924Z",
     "start_time": "2024-09-05T23:34:01.827202Z"
    }
   },
   "outputs": [],
   "source": [
    "# Check Vocabulary Size - DO NOT CHANGE THIS VALUE\n",
    "assert len(train_vocab) == 60233, f\"Vocabulary is of incorrect size: {len(train_vocab)}\"\n",
    "\n",
    "# No error means you've passed the test!"
   ]
  },
  {
   "cell_type": "markdown",
   "id": "5fCFfEHv1hnI",
   "metadata": {
    "id": "5fCFfEHv1hnI"
   },
   "source": [
    "### 1.4. Building a Dataset Class [2 points - Programming]"
   ]
  },
  {
   "cell_type": "markdown",
   "id": "8-qTQQa2FEIe",
   "metadata": {
    "id": "8-qTQQa2FEIe"
   },
   "source": [
    "PyTorch has custom Dataset Classes that have very useful extensions, we want to turn our current pandas DataFrame into a subclass of Dataset so that we can iterate and sample through it for minibatch updates. **In the following cell, fill out the HeadlineDataset class.** Refer to PyTorch documentation on [Dataset Classes](https://pytorch.org/tutorials/beginner/basics/data_tutorial.html)\n",
    "for help."
   ]
  },
  {
   "cell_type": "code",
   "execution_count": 289,
   "id": "tqt9q92J1QKK",
   "metadata": {
    "ExecuteTime": {
     "end_time": "2024-09-06T13:44:02.560883Z",
     "start_time": "2024-09-06T13:44:02.556557Z"
    },
    "id": "tqt9q92J1QKK"
   },
   "outputs": [],
   "source": [
    "#export\n",
    "\n",
    "class HeadlineDataset(Dataset):\n",
    "    \"\"\"\n",
    "    This class takes a Pandas DataFrame and wraps in a Torch Dataset.\n",
    "    Read more about Torch Datasets here:\n",
    "    https://pytorch.org/tutorials/beginner/basics/data_tutorial.html\n",
    "    \"\"\"\n",
    "    def __init__(self, vocab, df, max_length=200):\n",
    "        \"\"\"\n",
    "        Initialize the class with appropriate instance variables. In this method, we \n",
    "        STRONGLY recommend storing the dataframe itself as an instance variable, and \n",
    "        keeping this method very simple. Leave processing to __getitem__.\n",
    "        \n",
    "        Args:\n",
    "            vocab (dict[str] = int) : In vocab, each str is a unique token, and each dict[str] is a\n",
    "                unique integer ID. Only elements that appear > cutoff times appear in vocab. \n",
    "            df (pandas.DataFrame) : The entire dataset this mapping is built from\n",
    "            max_length (int) : The max length of a headline we'll allow in our dataset.\n",
    "            \n",
    "        Returns:\n",
    "            None\n",
    "        \"\"\"\n",
    "        \n",
    "        ## YOUR CODE STARTS HERE - initialize parameters ##\n",
    "\n",
    "        self.vocab = vocab\n",
    "        self.df = df\n",
    "        self.max_length = max_length\n",
    "\n",
    "        ## YOUR CODE ENDS HERE ##\n",
    "    \n",
    "    def __len__(self):\n",
    "        \"\"\"\n",
    "        This method returns the length of the underlying dataframe,\n",
    "        Args:\n",
    "            None\n",
    "        Returns:\n",
    "            df_len (int) : The length of the underlying dataframe\n",
    "        \"\"\"\n",
    "\n",
    "        df_len = None\n",
    "        \n",
    "        ## YOUR CODE STARTS HERE ##\n",
    "        \n",
    "        df_len = len(self.df)\n",
    "\n",
    "        ## YOUR CODE ENDS HERE ##\n",
    "        \n",
    "        return df_len\n",
    "    \n",
    "    def __getitem__(self, index: int):\n",
    "        \"\"\"\n",
    "        This method converts a dataframe row (row[\"tokenized\"]) to an encoded torch LongTensor,\n",
    "        using our vocab map created using generate_vocab_map. Restricts the encoded headline\n",
    "        length to max_length.\n",
    "        \n",
    "        The purpose of this method is to convert the row - a list of words - into a corresponding\n",
    "        list of numbers.\n",
    "        \n",
    "        i.e. using a map of {\"hi\": 2, \"hello\": 3, \"UNK\": 0}\n",
    "        this list [\"hi\", \"hello\", \"NOT_IN_DICT\"] will turn into [2, 3, 0]\n",
    "        \n",
    "        Args:\n",
    "            index (int) : The index of the dataframe we want to retrieve.\n",
    "            \n",
    "        Returns:\n",
    "            tokenized_word_tensor (torch.LongTensor) : A 1D tensor of type Long, that has each\n",
    "                token in the dataframe mapped to a number. These numbers are retrieved from the\n",
    "                vocab_map we created in generate_vocab_map.\n",
    "                \n",
    "                IMPORTANT: If we filtered out the word because it's infrequent (and it doesn't\n",
    "                exist in the vocab) we need to replace it w/ the UNK token\n",
    "                \n",
    "            curr_label (int) : Label index of the class between 0 to len(num_classes) - 1 representing which \n",
    "            class label does this data instance belong to\n",
    "        \"\"\"\n",
    "        \n",
    "        tokenized_word_tensor = []\n",
    "        \n",
    "        ## YOUR CODE STARTS HERE ##\n",
    "\n",
    "        # Iterate through words to create tokenized_word_tensor\n",
    "        for word in self.df.iloc[index][\"tokenized\"]:\n",
    "            if word not in self.vocab:\n",
    "                tokenized_word_tensor.append(self.vocab[\"UNK\"])\n",
    "            else:\n",
    "                tokenized_word_tensor.append(self.vocab[word])\n",
    "\n",
    "            if len(tokenized_word_tensor) >= self.max_length:\n",
    "                break\n",
    "\n",
    "        tokenized_word_tensor = torch.LongTensor(tokenized_word_tensor)\n",
    "        curr_label = self.df.iloc[index][\"target\"]\n",
    "\n",
    "        ## YOUR CODE ENDS HERE ##\n",
    "        \n",
    "        return tokenized_word_tensor, curr_label"
   ]
  },
  {
   "cell_type": "code",
   "execution_count": 290,
   "id": "KuLtIOAZFEIe",
   "metadata": {
    "ExecuteTime": {
     "end_time": "2024-09-06T13:44:06.793866Z",
     "start_time": "2024-09-06T13:44:06.790572Z"
    },
    "id": "KuLtIOAZFEIe"
   },
   "outputs": [],
   "source": [
    "# DO NOT CHANGE THIS CELL\n",
    "train_dataset = HeadlineDataset(train_vocab, train_data)\n",
    "val_dataset   = HeadlineDataset(train_vocab, val_data)\n",
    "\n",
    "# Now that we're wrapping our dataframes in PyTorch datsets, we can make use of PyTorch Random Samplers, they'll define how our DataLoaders sample elements from the HeadlineDatasets\n",
    "train_sampler = RandomSampler(train_dataset)\n",
    "val_sampler   = RandomSampler(val_dataset)"
   ]
  },
  {
   "cell_type": "code",
   "execution_count": 291,
   "id": "f4aa6f12",
   "metadata": {
    "ExecuteTime": {
     "end_time": "2024-09-06T13:44:07.819048Z",
     "start_time": "2024-09-06T13:44:07.816085Z"
    }
   },
   "outputs": [],
   "source": [
    "# Check Dataset Lengths - DO NOT CHANGE THESE VALUES\n",
    "assert len(train_dataset) == 15076, f\"Training Dataset is of incorrect size {len(train_dataset)}\"\n",
    "assert len(val_dataset)   ==  1885, f\"Validation Dataset is of incorrect size {len(val_dataset)}\"\n",
    "\n",
    "# No error means you've passed the test!"
   ]
  },
  {
   "cell_type": "markdown",
   "id": "n9iBiSKF1yXA",
   "metadata": {
    "id": "n9iBiSKF1yXA"
   },
   "source": [
    "### 1.5. Finalizing our DataLoader [3 points - Programming]"
   ]
  },
  {
   "cell_type": "markdown",
   "id": "lfXSbxoFFEIe",
   "metadata": {
    "id": "lfXSbxoFFEIe"
   },
   "source": [
    "We can now use PyTorch DataLoaders to batch our data for us. **In the following cell fill out collate_fn.** Refer to PyTorch documentation on [DataLoaders](https://pytorch.org/tutorials/beginner/basics/data_tutorial.html) for help. Apply padding and other post-processing required here."
   ]
  },
  {
   "cell_type": "code",
   "execution_count": 297,
   "id": "Zp1aQAvn1_mz",
   "metadata": {
    "ExecuteTime": {
     "end_time": "2024-09-06T13:44:09.644199Z",
     "start_time": "2024-09-06T13:44:09.639812Z"
    },
    "id": "Zp1aQAvn1_mz"
   },
   "outputs": [],
   "source": [
    "#export\n",
    "\n",
    "def collate_fn(batch, padding_value=PADDING_VALUE):\n",
    "    \"\"\"\n",
    "    This function is passed as a parameter to Torch DataSampler. collate_fn collects\n",
    "    batched rows, in the form of tuples, from a DataLoader and applies some final\n",
    "    pre-processing.\n",
    "    \n",
    "    Objective:\n",
    "    In our case, we need to take the batched input array of 1D tokenized_word_tensors,\n",
    "    and create a 2D tensor that's padded to be the max length from all our tokenized_word_tensors\n",
    "    in a batch. We're moving from a Python array of tuples, to a padded 2D tensor.\n",
    "    \n",
    "    *HINT*: you're allowed to use torch.nn.utils.rnn.pad_sequence (ALREADY IMPORTED)\n",
    "    \n",
    "    Finally, you can read more about collate_fn here: https://pytorch.org/docs/stable/data.html\n",
    "    \n",
    "    :param batch: PythonArray[tuple(tokenized_word_tensor: 1D Torch.LongTensor, curr_label: int)] of length BATCH_SIZE\n",
    "    :param padding_value: int\n",
    "    \n",
    "    :return padded_tokens: 2D LongTensor of shape (BATCH_SIZE, max len of all tokenized_word_tensor))\n",
    "    :return y_labels: 1D FloatTensor of shape (BATCH_SIZE)\n",
    "    \"\"\"\n",
    "        \n",
    "    ## YOUR CODE STARTS HERE - take the input and target from batch, pad the tokens, convert batches to tensor ##\n",
    "\n",
    "    # Unzip the batch\n",
    "    token_tensors, labels = zip(*batch)\n",
    "\n",
    "    # Pad the token tensors to the maximum length in the batch\n",
    "    padded_tokens = torch.nn.utils.rnn.pad_sequence(token_tensors, batch_first=True, padding_value=padding_value)\n",
    "    \n",
    "    y_labels = torch.tensor(labels, dtype=torch.long)  # Convert labels to a tensor of type long\n",
    "\n",
    "\n",
    "    ## YOUR CODE ENDS HERE ##\n",
    "    \n",
    "    return padded_tokens, y_labels"
   ]
  },
  {
   "cell_type": "code",
   "execution_count": 298,
   "id": "OayoJRTeFEIf",
   "metadata": {
    "ExecuteTime": {
     "end_time": "2024-09-06T13:44:12.546122Z",
     "start_time": "2024-09-06T13:44:12.542206Z"
    },
    "id": "OayoJRTeFEIf"
   },
   "outputs": [],
   "source": [
    "# DO NOT CHANGE THIS CELL\n",
    "train_iterator = DataLoader(train_dataset, batch_size=BATCH_SIZE, sampler=train_sampler, collate_fn=collate_fn)\n",
    "val_iterator   = DataLoader(val_dataset, batch_size=BATCH_SIZE, sampler=val_sampler, collate_fn=collate_fn)"
   ]
  },
  {
   "cell_type": "code",
   "execution_count": 301,
   "id": "pidbg12AFEIf",
   "metadata": {
    "ExecuteTime": {
     "end_time": "2024-09-06T13:44:13.424618Z",
     "start_time": "2024-09-06T13:44:13.409237Z"
    },
    "id": "pidbg12AFEIf"
   },
   "outputs": [
    {
     "name": "stdout",
     "output_type": "stream",
     "text": [
      "x: torch.Size([128, 200])\n",
      "y: torch.Size([128])\n"
     ]
    }
   ],
   "source": [
    "# Use this to test your collate_fn implementation.\n",
    "# You can look at the shapes of x and y or put print statements in collate_fn while running this snippet\n",
    "# DO NOT CHANGE THIS CELL\n",
    "\n",
    "for x, y in train_iterator:\n",
    "    print(f'x: {x.shape}')\n",
    "    print(f'y: {y.shape}')\n",
    "    break"
   ]
  },
  {
   "cell_type": "markdown",
   "id": "BWLK7T1uFEIg",
   "metadata": {
    "id": "BWLK7T1uFEIg"
   },
   "source": [
    "## 2. Neural Bag of Words (NBOW) [3 pts - Programming]\n",
    "Let's move to modeling, now that we have dataset iterators that batch our data for us. The first model is a simple model called NBOW-RAND.\n",
    "\n",
    "In the following code block, you'll build a feed-forward neural network implementing a neural bag-of-words baseline, NBOW-RAND, described in section 2.1 of [this paper](https://www.aclweb.org/anthology/P15-1162.pdf). You'll find [this](https://pytorch.org/docs/stable/nn.html) page useful for understanding the different layers and [this](https://pytorch.org/tutorials/beginner/nlp/sequence_models_tutorial.html) page useful for how to put them into action.\n",
    "\n",
    "The core idea behind this baseline is that after we embed each word for a document, we average the embeddings to produce a single vector that hopefully captures some general information spread across the sequence of embeddings. This means we first turn each document of length *n* into a matrix of *nxd*, where *d* is the dimension of the embedding. Then we average this matrix to produce a vector of length *d*, summarizing the contents of the document and proceed with the rest of the network.\n",
    "\n",
    "While you're working through this implementation, keep in mind how the dimensions change and what each axes represents, as documents will be passed in as minibatches requiring careful selection of which axes you apply certain operations too. Stick to only the architecture described in the instructions below, do not add additional layers, this will impact the validity of local checks.\n",
    "\n",
    "Refer to the following equation on how to define NBOW -\n",
    "\n",
    "\n",
    "$$ h_{avg} = \\frac{1}{n} \\sum_t emb(x_t) $$\n",
    "\n",
    "The probability of a data instance belonging to class $y_i$ is given by:\n",
    "\n",
    "$$ p(y|x) = softmax(w^T h_{avg}) $$\n",
    "\n",
    "where $w \\in R^d$ is a parameter vector.\n",
    "\n",
    "*HINT*: In the forward step, the BATCH_SIZE is the first dimension.\n",
    "\n",
    "*Hint*: Make sure to handle the case where the input contains pad tokens. We don't want to consider them in our average."
   ]
  },
  {
   "cell_type": "markdown",
   "id": "pZDPs0Sf-H3V",
   "metadata": {
    "id": "pZDPs0Sf-H3V"
   },
   "source": [
    "#### 2.1. Define the NBOW model class [3 points]"
   ]
  },
  {
   "cell_type": "code",
   "execution_count": 302,
   "id": "jzGx2q0jLqyU",
   "metadata": {
    "ExecuteTime": {
     "end_time": "2024-09-06T13:44:18.987942Z",
     "start_time": "2024-09-06T13:44:18.980032Z"
    },
    "id": "jzGx2q0jLqyU"
   },
   "outputs": [],
   "source": [
    "#export\n",
    "\n",
    "class NBOW(nn.Module):\n",
    "    # Instantiate layers for your model-\n",
    "    #\n",
    "    # Your model architecture will be a feed-forward neural network.\n",
    "    #\n",
    "    # You'll need 3 nn.Modules:\n",
    "    # 1. An embeddings layer (see nn.Embedding)\n",
    "    # 2. A linear layer (see nn.Linear)\n",
    "    #\n",
    "    # HINT: In the forward step, the BATCH_SIZE is the first dimension.\n",
    "    #\n",
    "    def __init__(self, vocab_size, embedding_dim, num_classes=20):\n",
    "        super().__init__()\n",
    "        ## YOUR CODE STARTS HERE ##\n",
    "\n",
    "        # batch size x vocab size x embedding_dim x num_classes\n",
    "        self.embedding = nn.Embedding(vocab_size, embedding_dim)\n",
    "        self.linear = nn.Linear(embedding_dim, num_classes)\n",
    "\n",
    "        ## YOUR CODE ENDS HERE ##\n",
    "\n",
    "    # Complete the forward pass of the model.\n",
    "    #\n",
    "    # Use the output of the embedding layer to create\n",
    "    # the average vector, which will be input into the\n",
    "    # linear layer.\n",
    "    #   \n",
    "    # args:\n",
    "    # x - 2D LongTensor of shape (BATCH_SIZE, max len of all tokenized_word_tensor))\n",
    "    #     This is the same output that comes out of the collate_fn function you completed\n",
    "    def forward(self, x):\n",
    "        ## Hint: Make sure to handle the case where x contains pad tokens. We don't want to consider them in our average.\n",
    "        ## YOUR CODE STARTS HERE ##\n",
    "        # print(x.shape)\n",
    "        avg = self.get_h_avg(x)\n",
    "        out = self.linear(avg)\n",
    "        return out\n",
    "\n",
    "        ## YOUR CODE ENDS HERE ##\n",
    "    \n",
    "    def get_embeddings(self, x):\n",
    "        '''\n",
    "        This function returns the embeddings of the input x\n",
    "        '''\n",
    "        ### YOUR CODE STARTS HERE ###\n",
    "        \n",
    "        return self.embedding(x)\n",
    "        \n",
    "        ### YOUR CODE ENDS HERE ###\n",
    "    \n",
    "    def set_embedding_weight(self, weight):\n",
    "        '''\n",
    "        This function sets the embedding weights to the input weight. Ensure you aren't recording gradients for this.\n",
    "        Hint: Refer to nn.Parameter to do this.\n",
    "        Args:\n",
    "            weight: torch.tensor of shape (vocab_size, embedding_dim)\n",
    "        '''\n",
    "        ### YOUR CODE STARTS HERE ###\n",
    "        with torch.no_grad():\n",
    "            self.embedding.weight = nn.Parameter(weight, requires_grad=False)\n",
    "\n",
    "        ### YOUR CODE ENDS HERE ###\n",
    "\n",
    "    def get_h_avg(self, x):\n",
    "        '''\n",
    "        This function returns the average of the embeddings of the input x\n",
    "        '''\n",
    "        ### YOUR CODE STARTS HERE ###\n",
    "        embeddings = self.get_embeddings(x)\n",
    "\n",
    "        mask = (x!= PADDING_VALUE)\n",
    "\n",
    "        # Count the number of non-padding tokens in each sequence for averaging later\n",
    "        num_non_pads = mask.sum(dim=1).unsqueeze(-1)\n",
    "\n",
    "        # Apply the mask to the embeddings\n",
    "        embeddings = embeddings * mask.unsqueeze(-1) \n",
    "\n",
    "        return embeddings.sum(dim=1)/num_non_pads # gives batch_size x 1\n",
    "\n",
    "        ### YOUR CODE ENDS HERE ###"
   ]
  },
  {
   "cell_type": "code",
   "execution_count": 303,
   "id": "74f6141a",
   "metadata": {
    "ExecuteTime": {
     "end_time": "2024-09-06T13:44:22.181835Z",
     "start_time": "2024-09-06T13:44:22.172804Z"
    }
   },
   "outputs": [
    {
     "name": "stdout",
     "output_type": "stream",
     "text": [
      "Test failed, expected value was\n",
      "tensor([[0.1000, 0.1000, 0.1000, 0.1000, 0.1000, 0.1000, 0.1000, 0.1000, 0.1000,\n",
      "         0.1000, 0.1000, 0.1000, 0.1000, 0.1000, 0.1000, 0.1000, 0.1000, 0.1000,\n",
      "         0.1000, 0.1000],\n",
      "        [0.1000, 0.1000, 0.1000, 0.1000, 0.1000, 0.1000, 0.1000, 0.1000, 0.1000,\n",
      "         0.1000, 0.1000, 0.1000, 0.1000, 0.1000, 0.1000, 0.1000, 0.1000, 0.1000,\n",
      "         0.1000, 0.1000]])\n",
      "but you got:\n",
      "tensor([[0.2000, 0.2000, 0.2000, 0.2000, 0.2000, 0.2000, 0.2000, 0.2000, 0.2000,\n",
      "         0.2000, 0.2000, 0.2000, 0.2000, 0.2000, 0.2000, 0.2000, 0.2000, 0.2000,\n",
      "         0.2000, 0.2000],\n",
      "        [0.2000, 0.2000, 0.2000, 0.2000, 0.2000, 0.2000, 0.2000, 0.2000, 0.2000,\n",
      "         0.2000, 0.2000, 0.2000, 0.2000, 0.2000, 0.2000, 0.2000, 0.2000, 0.2000,\n",
      "         0.2000, 0.2000]])\n",
      "Passed local embedding test\n",
      "Passed local h_avg test\n"
     ]
    }
   ],
   "source": [
    "# local test for sanity:\n",
    "# DO NOT CHANGE THIS CELL\n",
    "\n",
    "def nbow_test_local():\n",
    "    embedding_dim = 10\n",
    "    vocab_size = 5\n",
    "    model = NBOW(vocab_size=vocab_size, embedding_dim=embedding_dim)\n",
    "    for _, module in model.named_parameters():\n",
    "        if hasattr(module, \"data\"):\n",
    "            nn.init.constant_(module, 0.1)\n",
    "    input = torch.arange(12).reshape(2,6) % vocab_size\n",
    "    expected_result = torch.tensor(\n",
    "        [[0.1000, 0.1000, 0.1000, 0.1000, 0.1000, 0.1000, 0.1000, 0.1000, 0.1000,\n",
    "         0.1000, 0.1000, 0.1000, 0.1000, 0.1000, 0.1000, 0.1000, 0.1000, 0.1000,\n",
    "         0.1000, 0.1000],\n",
    "        [0.1000, 0.1000, 0.1000, 0.1000, 0.1000, 0.1000, 0.1000, 0.1000, 0.1000,\n",
    "         0.1000, 0.1000, 0.1000, 0.1000, 0.1000, 0.1000, 0.1000, 0.1000, 0.1000,\n",
    "         0.1000, 0.1000]]\n",
    "    )\n",
    "    with torch.no_grad():\n",
    "        local_result = model(input)\n",
    "    if torch.allclose(expected_result, local_result, rtol=0.001):\n",
    "        print(\"Passed local check\")\n",
    "    else:\n",
    "        print(f\"Test failed, expected value was\\n{expected_result}\\nbut you got:\\n{local_result}\")\n",
    "\n",
    "def nbow_test_local_embeddings():\n",
    "    embedding_dim = 3\n",
    "    vocab_size = 5\n",
    "    model = NBOW(embedding_dim=embedding_dim, vocab_size=vocab_size)\n",
    "    model.set_embedding_weight(torch.arange(15).reshape(5,3) / 50)\n",
    "    embeddings = model.get_embeddings(torch.tensor([[1,2,3,4,1],[1,2,3,0,0]]))\n",
    "    correct_embeddings = torch.tensor([[[0.0600, 0.0800, 0.1000],\n",
    "                                        [0.1200, 0.1400, 0.1600],\n",
    "                                        [0.1800, 0.2000, 0.2200],\n",
    "                                        [0.2400, 0.2600, 0.2800],\n",
    "                                        [0.0600, 0.0800, 0.1000]],\n",
    "\n",
    "                                        [[0.0600, 0.0800, 0.1000],\n",
    "                                        [0.1200, 0.1400, 0.1600],\n",
    "                                        [0.1800, 0.2000, 0.2200],\n",
    "                                        [0.0000, 0.0200, 0.0400],\n",
    "                                        [0.0000, 0.0200, 0.0400]]])\n",
    "    if torch.allclose(embeddings, correct_embeddings, rtol=0.001):\n",
    "        print(\"Passed local embedding test\")\n",
    "    else:\n",
    "        print(f\"Embedding Test failed, expected value was\\n{correct_embeddings}\\nbut you got:\\n{embeddings}\")\n",
    "def nbow_test_local_h_avg():\n",
    "    embedding_dim = 3\n",
    "    vocab_size = 5\n",
    "    model = NBOW(embedding_dim=embedding_dim, vocab_size=vocab_size)\n",
    "    model.set_embedding_weight(torch.arange(15).reshape(5,3) / 50)\n",
    "    h_avg = model.get_h_avg(torch.tensor([[1,2,3,4,1],[1,2,3,0,0]]))\n",
    "    correct_h_avg = torch.tensor([[0.1320, 0.1520, 0.1720],\n",
    "                                  [0.1200, 0.1400, 0.1600]])\n",
    "    if torch.allclose(h_avg, correct_h_avg, rtol=0.001):\n",
    "        print(\"Passed local h_avg test\")\n",
    "    else:\n",
    "        print(f\"h_avg Test failed, expected value was\\n{correct_h_avg}\\nbut you got:\\n{h_avg}\")\n",
    "nbow_test_local()\n",
    "nbow_test_local_embeddings()\n",
    "nbow_test_local_h_avg()"
   ]
  },
  {
   "cell_type": "markdown",
   "id": "116d61c4",
   "metadata": {},
   "source": [
    "## 3. Model Training [12 points - Programming + 3 points - Non-programming]"
   ]
  },
  {
   "cell_type": "markdown",
   "id": "fad2a8d9",
   "metadata": {},
   "source": [
    "Training a PyTorch model involves several key components:\n",
    "\n",
    "- **Training Loop**: This is the process where the model learns from the training data. In each iteration, the model processes the input data, makes predictions, calculates the loss, and updates its weights using backpropagation.\n",
    "- **Validation Loop**: Performed after the training loop, this evaluates the model on a separate dataset (validation data) to check its performance. It helps in detecting overfitting.\n",
    "- **Optimizer**: This is an algorithm that updates the model's weights during training. Common optimizers include SGD, Adam, etc.\n",
    "- **Criterion (Loss Function)**: This measures how well the model is performing. It calculates the difference between the model's predictions and the actual data. Common loss functions include Mean Squared Error for regression tasks and Cross Entropy Loss for classification.\n",
    "\n",
    "During training, the optimizer uses the gradient of the loss function to adjust the model's parameters. The model's performance is evaluated periodically on the validation set to monitor its generalization capability. This process continues for a specified number of epochs or until the model achieves a desired level of accuracy.\n",
    "\n",
    "*Note - In the following code cells (of this section), the above components will be defined. These functions/objects will be used to train and evaluate all your models in this assignment. So, make sure to implement these in a generic way, so that they can be used for all the models.*\n"
   ]
  },
  {
   "cell_type": "markdown",
   "id": "60d6e836",
   "metadata": {},
   "source": [
    "### 3.0. Evaluation Metrics [0 points]\n",
    "\n",
    "Accuracy is a measure used to evaluate classification models, representing the ratio of correctly predicted observations to the total observations. It's simple and intuitive but may not be suitable for imbalanced datasets, as it can be misleading if the class distribution is skewed.\n",
    "\n",
    "The F1-score, on the other hand, combines precision and recall into a single number. It is particularly useful when dealing with imbalanced datasets or when the cost of false positives and false negatives varies. F1-score provides a better measure of the incorrectly classified cases than the Accuracy Metric. It's calculated as the harmonic mean of precision and recall, thus balancing the two aspects of model performance.\n",
    "\n",
    "You can read about the terms mentioned above here: https://scikit-learn.org/stable/modules/model_evaluation.html\n",
    "\n",
    "For this assignment, we are already defining the above metrics for you to use in your implementation"
   ]
  },
  {
   "cell_type": "code",
   "execution_count": 304,
   "id": "542f53a1",
   "metadata": {
    "ExecuteTime": {
     "end_time": "2024-09-06T13:44:26.127388Z",
     "start_time": "2024-09-06T13:44:26.123867Z"
    }
   },
   "outputs": [],
   "source": [
    "#export\n",
    "# DO NOT CHANGE THIS CELL\n",
    "def get_accuracy_and_f1_score(y_true, y_predicted):\n",
    "    \"\"\"\n",
    "    This function takes in two numpy arrays and computes the accuracy and F1 score\n",
    "    between them. You can use the imported sklearn functions to do this.\n",
    "    \n",
    "    Args:\n",
    "        y_true (list) : A 1D numpy array of ground truth labels\n",
    "        y_predicted (list) : A 1D numpy array of predicted labels\n",
    "        \n",
    "    Returns:\n",
    "        accuracy (float) : The accuracy of the predictions\n",
    "        f1_score (float) : The F1 score of the predictions\n",
    "    \"\"\"\n",
    "    \n",
    "    # Get the accuracy\n",
    "    accuracy = accuracy_score(y_true, y_predicted)\n",
    "    \n",
    "    # Get the F1 score\n",
    "    f1 = f1_score(y_true, y_predicted, average='macro')\n",
    "    \n",
    "    return accuracy, f1\n"
   ]
  },
  {
   "cell_type": "code",
   "execution_count": 305,
   "id": "cd6b6170",
   "metadata": {},
   "outputs": [],
   "source": [
    "# DO NOT CHANGE THIS CELL\n",
    "def plot_confusion_matrix(y_true, y_pred, classes):\n",
    "    cm = confusion_matrix(y_true, y_pred, labels=range(len(classes)))\n",
    "    disp = ConfusionMatrixDisplay(confusion_matrix=cm, display_labels=classes)\n",
    "    disp.plot(cmap=plt.cm.Blues)\n",
    "    plt.xticks(rotation=90)\n",
    "    plt.show()"
   ]
  },
  {
   "cell_type": "markdown",
   "id": "01467d21",
   "metadata": {},
   "source": [
    "### 3.1. Criterion [2 points - Programming]\n",
    "\n",
    "Criterion in PyTorch, refers to the loss function used to evaluate the model's performance. It quantifies how far off the model's predictions are from the actual target values\n",
    "\n",
    "In PyTorch, **nn.CrossEntropyLoss()** is used for classification tasks. It first does a softmax on the scores, and then calculates the negative log likelihood. This is why you don't need to do sotmax in the model, you can return the scores. In the cell below, implement this."
   ]
  },
  {
   "cell_type": "code",
   "execution_count": 255,
   "id": "de7cd432",
   "metadata": {
    "ExecuteTime": {
     "end_time": "2024-09-06T13:35:55.706533Z",
     "start_time": "2024-09-06T13:35:55.702832Z"
    }
   },
   "outputs": [],
   "source": [
    "#export\n",
    "\n",
    "def get_criterion(loss_type='ce'):\n",
    "    \n",
    "    ## YOUR CODE STARTS HERE ##\n",
    "\n",
    "    criterion = nn.CrossEntropyLoss()\n",
    "\n",
    "    ## YOUR CODE ENDS HERE ##\n",
    "    \n",
    "    return criterion"
   ]
  },
  {
   "cell_type": "markdown",
   "id": "b0d02cdd",
   "metadata": {},
   "source": [
    "### 3.2. Optimizer [2 points - Programming]\n",
    "\n",
    "In PyTorch, an optimizer is a tool that updates the weights of the neural network to minimize the loss. Among these, Adam (Adaptive Moment Estimation) is a widely-used optimizer. Adam combines the best properties of the AdaGrad and RMSProp algorithms to handle sparse gradients on noisy problems. It's known for its effectiveness in deep learning models, especially where large datasets and high-dimensional spaces are involved. Adam adjusts the learning rate during training, making it efficient and effective across a wide range of tasks and model architectures.\n",
    "\n",
    "In the cell below, define your optimizer. We recommend using Adam, but you are free to experiment with other optimizers as well.\n",
    "\n",
    "The following function takes a model and learning rate value as input, and defines an optimizer for that model's parameters with that learning rate.\n",
    "\n",
    "*HINT: model.parameters() can give you all the parameters of a PyTorch model*"
   ]
  },
  {
   "cell_type": "code",
   "execution_count": 256,
   "id": "a19ba82c",
   "metadata": {
    "ExecuteTime": {
     "end_time": "2024-09-06T13:35:59.120826Z",
     "start_time": "2024-09-06T13:35:59.117307Z"
    }
   },
   "outputs": [],
   "source": [
    "#export\n",
    "def get_optimizer(model, learning_rate):\n",
    "    \"\"\"\n",
    "    This function takes a model and a learning rate, and returns an optimizer.\n",
    "    Feel free to experiment with different optimizers.\n",
    "    \"\"\"\n",
    "    \n",
    "    ## YOUR CODE STARTS HERE ##\n",
    "\n",
    "    optimizer = torch.optim.Adam(model.parameters(), lr=learning_rate)\n",
    "\n",
    "    ## YOUR CODE ENDS HERE ##\n",
    "    \n",
    "    return optimizer"
   ]
  },
  {
   "cell_type": "markdown",
   "id": "05074dc0",
   "metadata": {},
   "source": [
    "### 3.3. Training Loop [3 points - Programming]\n",
    "\n",
    "The training loop function in PyTorch is a critical component where the actual learning from data occurs. It typically involves iterating over the training dataset, feeding the data to the model, computing the loss (difference between the predictions and true values), and updating the model's weights.\n",
    "\n",
    "Creating a training loop involves several steps:\n",
    "\n",
    "1. Iterate Over Dataset: Loop through the training dataset, often in mini-batches.\n",
    "2. Forward Pass: Feed the input data to the model to get predictions.\n",
    "3. Compute Loss: Calculate the loss using a loss function.\n",
    "4. Backward Pass: Perform backpropagation by calling loss.backward(), which computes the gradient of the loss function with respect to each weight.\n",
    "5. Update Weights: Use an optimizer (like SGD or Adam) to adjust the weights based on the gradients calculated.\n",
    "6. Zero the Gradients: Reset the gradients to zero after each mini-batch to prevent accumulation of gradients from multiple passes.\n",
    "\n",
    "This loop repeats for a specified number of epochs or until a certain level of accuracy or loss is achieved.\n",
    "\n",
    "In the end, return the mean loss over all samples for this particular iteration"
   ]
  },
  {
   "cell_type": "code",
   "execution_count": 242,
   "id": "2cd922fa",
   "metadata": {
    "ExecuteTime": {
     "end_time": "2024-09-06T13:39:47.408272Z",
     "start_time": "2024-09-06T13:39:47.402392Z"
    }
   },
   "outputs": [],
   "source": [
    "#export\n",
    "def train_loop(model, criterion, optimizer, iterator, epoch, save_every=10):\n",
    "    \"\"\"\n",
    "    This function is used to train a model for one epoch.\n",
    "    :param model: The model to be trained\n",
    "    :param criterion: The loss function\n",
    "    :param optim: The optimizer\n",
    "    :param iterator: The training data iterator\n",
    "    :return: The average loss for this epoch\n",
    "    \"\"\"\n",
    "    model.train() # Is used to put the model in training mode\n",
    "    total_loss = 0\n",
    "    for x, y in tqdm(iterator, total=len(iterator), desc=\"Training Model\"):\n",
    "        ### YOUR CODE STARTS HERE ###\n",
    "\n",
    "        out = model(x.to(device))\n",
    "        loss = criterion(out, y.to(device))\n",
    "        optimizer.zero_grad()  # Zero the gradients before backward pass\n",
    "        loss.backward()  # Backward pass to compute gradients\n",
    "        optimizer.step()  # Update the model parameters\n",
    "        total_loss += loss.item()\n",
    "        \n",
    "        ### YOUR CODE ENDS HERE ###\n",
    "\n",
    "    average_loss = total_loss / len(iterator)\n",
    "    return average_loss"
   ]
  },
  {
   "cell_type": "markdown",
   "id": "cd15bb79",
   "metadata": {},
   "source": [
    "### 3.4. Validation Loop [3 points - Programming]\n",
    "\n",
    "The validation loop in PyTorch is where the model's performance is evaluated on a dataset different from the one used for training. It does not involve updating the model's weights, focusing instead on assessing how well the model generalizes to new data. Here's how it typically works:\n",
    "\n",
    "1. Iterate Over Validation Dataset: Loop through the validation dataset, usually in mini-batches, without the need for shuffling as in the training loop.\n",
    "2. Forward Pass: Feed the input data to the model to obtain predictions.\n",
    "3. Compute Loss: Calculate the loss (e.g., Cross-Entropy, Mean Squared Error) to assess the performance on the validation dataset.\n",
    "4. Calculate Metrics: Besides loss, other performance metrics like accuracy, F1 score, etc., are computed to evaluate model performance.\n",
    "\n",
    "Note: No Backpropagation: Unlike the training loop, there is no backward pass or weight updates.\n",
    "\n",
    "The validation loop is crucial for monitoring overfitting and tuning hyperparameters. It provides insight into how the model is likely to perform on unseen data."
   ]
  },
  {
   "cell_type": "code",
   "execution_count": 244,
   "id": "de0dacf7",
   "metadata": {
    "ExecuteTime": {
     "end_time": "2024-09-06T13:39:49.367274Z",
     "start_time": "2024-09-06T13:39:49.362458Z"
    }
   },
   "outputs": [],
   "source": [
    "# export\n",
    "def val_loop(model, criterion, iterator):\n",
    "    \"\"\"\n",
    "    This function is used to evaluate a model on the validation set.\n",
    "    :param model: The model to be evaluated\n",
    "    :param iterator: The validation data iterator\n",
    "    :return: true: a Python boolean array of all the ground truth values\n",
    "             pred: a Python boolean array of all model predictions.\n",
    "            average_loss: The average loss over the validation set\n",
    "    \"\"\"\n",
    "    \n",
    "    true, pred = [], []\n",
    "    total_loss = 0\n",
    "    model.eval()\n",
    "    for x, y in tqdm(iterator, total=len(iterator), desc=\"Evaluating Model\"):\n",
    "    ### YOUR CODE STARTS HERE ###\n",
    "        \n",
    "        out = model(x.to(device))\n",
    "        loss = criterion(out, y.to(device))\n",
    "        total_loss += loss.item()\n",
    "\n",
    "        true.extend(y.cpu().numpy())\n",
    "        pred.extend(torch.argmax(out, dim=1).cpu().numpy())\n",
    "\n",
    "    ### YOUR CODE ENDS HERE ###\n",
    "    average_loss = total_loss / len(iterator)\n",
    "    return true, pred, average_loss"
   ]
  },
  {
   "cell_type": "markdown",
   "id": "Q2to0kWVFEIi",
   "metadata": {
    "id": "Q2to0kWVFEIi"
   },
   "source": [
    "### 3.5. Training NBOW [3 points - Non-programming]\n",
    "Assign and tune the below hyperparameters to optimize your model. Make sure that the output graph of the cell where training happens is clear in your submission."
   ]
  },
  {
   "cell_type": "code",
   "execution_count": 249,
   "id": "118a4748",
   "metadata": {
    "ExecuteTime": {
     "end_time": "2024-09-06T13:39:52.905374Z",
     "start_time": "2024-09-06T13:39:52.902829Z"
    }
   },
   "outputs": [],
   "source": [
    "#export\n",
    "# Assigning hyperparameters and training parameters\n",
    "# Experiment with different values for these hyperparaters to optimize your model's performance\n",
    "def get_hyperparams_nbow():\n",
    "  ### your hyper parameters\n",
    "  learning_rate = 0.001\n",
    "  epochs = 100\n",
    "  embedding_dim = 64\n",
    "  ### \n",
    "  return learning_rate, epochs, embedding_dim"
   ]
  },
  {
   "cell_type": "markdown",
   "id": "829cc27a",
   "metadata": {},
   "source": [
    "Since the NBOW model is rather basic, assuming you haven't added any additional layers, there's really only one hyperparameter for the model architecture: the size of the embedding dimension.\n",
    "\n",
    "The vocab_size parameter here is based on the number of unique words kept in the vocab after removing those occurring too infrequently, so this is determined by our dataset and is in turn not a true hyperparameter (though the cutoff we used previously might be). The embedding_dim parameter dictates what size vector each word can be embedded as.\n",
    "\n",
    "A special note concerning the model initialization: We're specifically sending the model to the device set in Part 1, to speed up training if the GPU is available. **Be aware**, you'll have to ensure other tensors are on the same device inside your training and validation loops."
   ]
  },
  {
   "cell_type": "code",
   "execution_count": 232,
   "id": "5701279e",
   "metadata": {
    "ExecuteTime": {
     "end_time": "2024-09-06T13:55:54.107586Z",
     "start_time": "2024-09-06T13:55:54.104787Z"
    }
   },
   "outputs": [],
   "source": [
    "# export\n",
    "def get_nbow_model(vocab_size, embedding_dim):\n",
    "    \"\"\"\n",
    "    This function returns an instance of the NBOW model.\n",
    "    \"\"\"\n",
    "    model = None\n",
    "    # Define a model and return\n",
    "    # YOUR CODE STARTS HERE\n",
    "    \n",
    "    model = NBOW(vocab_size=vocab_size, embedding_dim=embedding_dim)\n",
    "    \n",
    "    # YOUR CODE ENDS HERE\n",
    "    return model"
   ]
  },
  {
   "cell_type": "code",
   "execution_count": 251,
   "id": "N-iuqkKCFEIj",
   "metadata": {
    "ExecuteTime": {
     "end_time": "2024-09-06T13:56:14.603139Z",
     "start_time": "2024-09-06T13:55:55.252263Z"
    },
    "id": "N-iuqkKCFEIj",
    "scrolled": false
   },
   "outputs": [
    {
     "name": "stderr",
     "output_type": "stream",
     "text": [
      "Training Model: 100%|██████████| 118/118 [00:03<00:00, 30.50it/s]\n",
      "Evaluating Model: 100%|██████████| 15/15 [00:00<00:00, 65.63it/s]\n"
     ]
    },
    {
     "name": "stdout",
     "output_type": "stream",
     "text": [
      "Epoch 1 -- Train_Loss: 2.9675724566993065 -- Val_Loss: 2.929689121246338 -- Val_Accuracy: 0.14164456233421752 -- Val_F1: 0.10419242488590505\n"
     ]
    },
    {
     "name": "stderr",
     "output_type": "stream",
     "text": [
      "Training Model: 100%|██████████| 118/118 [00:03<00:00, 32.82it/s]\n",
      "Evaluating Model: 100%|██████████| 15/15 [00:00<00:00, 70.15it/s]\n"
     ]
    },
    {
     "name": "stdout",
     "output_type": "stream",
     "text": [
      "Epoch 2 -- Train_Loss: 2.885343876935668 -- Val_Loss: 2.8375008583068846 -- Val_Accuracy: 0.21061007957559683 -- Val_F1: 0.15967011258318436\n"
     ]
    },
    {
     "name": "stderr",
     "output_type": "stream",
     "text": [
      "Training Model: 100%|██████████| 118/118 [00:03<00:00, 33.13it/s]\n",
      "Evaluating Model: 100%|██████████| 15/15 [00:00<00:00, 66.56it/s]\n"
     ]
    },
    {
     "name": "stdout",
     "output_type": "stream",
     "text": [
      "Epoch 3 -- Train_Loss: 2.7682530859769403 -- Val_Loss: 2.7073963483174643 -- Val_Accuracy: 0.27692307692307694 -- Val_F1: 0.23794730149727067\n"
     ]
    },
    {
     "name": "stderr",
     "output_type": "stream",
     "text": [
      "Training Model: 100%|██████████| 118/118 [00:03<00:00, 32.93it/s]\n",
      "Evaluating Model: 100%|██████████| 15/15 [00:00<00:00, 64.45it/s]\n"
     ]
    },
    {
     "name": "stdout",
     "output_type": "stream",
     "text": [
      "Epoch 4 -- Train_Loss: 2.616403680736736 -- Val_Loss: 2.551301622390747 -- Val_Accuracy: 0.33156498673740054 -- Val_F1: 0.28941078181658264\n"
     ]
    },
    {
     "name": "stderr",
     "output_type": "stream",
     "text": [
      "Training Model: 100%|██████████| 118/118 [00:03<00:00, 31.29it/s]\n",
      "Evaluating Model: 100%|██████████| 15/15 [00:00<00:00, 67.06it/s]\n"
     ]
    },
    {
     "name": "stdout",
     "output_type": "stream",
     "text": [
      "Epoch 5 -- Train_Loss: 2.441908458531913 -- Val_Loss: 2.378230826059977 -- Val_Accuracy: 0.4042440318302387 -- Val_F1: 0.36753609647383767\n"
     ]
    },
    {
     "name": "stderr",
     "output_type": "stream",
     "text": [
      "Training Model: 100%|██████████| 118/118 [00:03<00:00, 30.97it/s]\n",
      "Evaluating Model: 100%|██████████| 15/15 [00:00<00:00, 68.07it/s]\n"
     ]
    },
    {
     "name": "stdout",
     "output_type": "stream",
     "text": [
      "Epoch 6 -- Train_Loss: 2.249844276298911 -- Val_Loss: 2.1958418528238934 -- Val_Accuracy: 0.48222811671087534 -- Val_F1: 0.4447312391203898\n"
     ]
    },
    {
     "name": "stderr",
     "output_type": "stream",
     "text": [
      "Training Model: 100%|██████████| 118/118 [00:03<00:00, 33.17it/s]\n",
      "Evaluating Model: 100%|██████████| 15/15 [00:00<00:00, 51.93it/s]\n"
     ]
    },
    {
     "name": "stdout",
     "output_type": "stream",
     "text": [
      "Epoch 7 -- Train_Loss: 2.0482401676097157 -- Val_Loss: 2.0125857671101888 -- Val_Accuracy: 0.5474801061007958 -- Val_F1: 0.5153502583055486\n"
     ]
    },
    {
     "name": "stderr",
     "output_type": "stream",
     "text": [
      "Training Model: 100%|██████████| 118/118 [00:03<00:00, 31.85it/s]\n",
      "Evaluating Model: 100%|██████████| 15/15 [00:00<00:00, 71.22it/s]\n"
     ]
    },
    {
     "name": "stdout",
     "output_type": "stream",
     "text": [
      "Epoch 8 -- Train_Loss: 1.8463206826630285 -- Val_Loss: 1.8335185766220092 -- Val_Accuracy: 0.6005305039787798 -- Val_F1: 0.569567002966069\n"
     ]
    },
    {
     "name": "stderr",
     "output_type": "stream",
     "text": [
      "Training Model: 100%|██████████| 118/118 [00:03<00:00, 32.01it/s]\n",
      "Evaluating Model: 100%|██████████| 15/15 [00:00<00:00, 48.22it/s]\n"
     ]
    },
    {
     "name": "stdout",
     "output_type": "stream",
     "text": [
      "Epoch 9 -- Train_Loss: 1.6516920712034582 -- Val_Loss: 1.662993359565735 -- Val_Accuracy: 0.6525198938992043 -- Val_F1: 0.6230832322192226\n"
     ]
    },
    {
     "name": "stderr",
     "output_type": "stream",
     "text": [
      "Training Model: 100%|██████████| 118/118 [00:03<00:00, 31.32it/s]\n",
      "Evaluating Model: 100%|██████████| 15/15 [00:00<00:00, 53.00it/s]\n"
     ]
    },
    {
     "name": "stdout",
     "output_type": "stream",
     "text": [
      "Epoch 10 -- Train_Loss: 1.4713314569602578 -- Val_Loss: 1.5087120850880942 -- Val_Accuracy: 0.6981432360742705 -- Val_F1: 0.6714857906181774\n"
     ]
    },
    {
     "name": "stderr",
     "output_type": "stream",
     "text": [
      "Training Model: 100%|██████████| 118/118 [00:03<00:00, 31.15it/s]\n",
      "Evaluating Model: 100%|██████████| 15/15 [00:00<00:00, 65.19it/s]\n"
     ]
    },
    {
     "name": "stdout",
     "output_type": "stream",
     "text": [
      "Epoch 11 -- Train_Loss: 1.307404119079396 -- Val_Loss: 1.3708706061045328 -- Val_Accuracy: 0.729973474801061 -- Val_F1: 0.7068111080719259\n"
     ]
    },
    {
     "name": "stderr",
     "output_type": "stream",
     "text": [
      "Training Model: 100%|██████████| 118/118 [00:03<00:00, 32.32it/s]\n",
      "Evaluating Model: 100%|██████████| 15/15 [00:00<00:00, 63.01it/s]\n"
     ]
    },
    {
     "name": "stdout",
     "output_type": "stream",
     "text": [
      "Epoch 12 -- Train_Loss: 1.161572884199983 -- Val_Loss: 1.2501374324162802 -- Val_Accuracy: 0.7549071618037135 -- Val_F1: 0.735649472265341\n"
     ]
    },
    {
     "name": "stderr",
     "output_type": "stream",
     "text": [
      "Training Model: 100%|██████████| 118/118 [00:03<00:00, 31.08it/s]\n",
      "Evaluating Model: 100%|██████████| 15/15 [00:00<00:00, 59.13it/s]\n"
     ]
    },
    {
     "name": "stdout",
     "output_type": "stream",
     "text": [
      "Epoch 13 -- Train_Loss: 1.0334912846654147 -- Val_Loss: 1.1419164737065632 -- Val_Accuracy: 0.7660477453580902 -- Val_F1: 0.7472453803360689\n"
     ]
    },
    {
     "name": "stderr",
     "output_type": "stream",
     "text": [
      "Training Model: 100%|██████████| 118/118 [00:03<00:00, 32.03it/s]\n",
      "Evaluating Model: 100%|██████████| 15/15 [00:00<00:00, 67.32it/s]\n"
     ]
    },
    {
     "name": "stdout",
     "output_type": "stream",
     "text": [
      "Epoch 14 -- Train_Loss: 0.9213500088554317 -- Val_Loss: 1.0457714478174844 -- Val_Accuracy: 0.7846153846153846 -- Val_F1: 0.7712352412347583\n"
     ]
    },
    {
     "name": "stderr",
     "output_type": "stream",
     "text": [
      "Training Model: 100%|██████████| 118/118 [00:03<00:00, 32.28it/s]\n",
      "Evaluating Model: 100%|██████████| 15/15 [00:00<00:00, 61.79it/s]\n"
     ]
    },
    {
     "name": "stdout",
     "output_type": "stream",
     "text": [
      "Epoch 15 -- Train_Loss: 0.8230046594547014 -- Val_Loss: 0.9620601614316304 -- Val_Accuracy: 0.8 -- Val_F1: 0.7878635510671155\n"
     ]
    },
    {
     "name": "stderr",
     "output_type": "stream",
     "text": [
      "Training Model: 100%|██████████| 118/118 [00:03<00:00, 31.55it/s]\n",
      "Evaluating Model: 100%|██████████| 15/15 [00:00<00:00, 66.42it/s]\n"
     ]
    },
    {
     "name": "stdout",
     "output_type": "stream",
     "text": [
      "Epoch 16 -- Train_Loss: 0.7377353588403281 -- Val_Loss: 0.8932492772738139 -- Val_Accuracy: 0.8122015915119364 -- Val_F1: 0.8023807323339796\n"
     ]
    },
    {
     "name": "stderr",
     "output_type": "stream",
     "text": [
      "Training Model: 100%|██████████| 118/118 [00:03<00:00, 33.06it/s]\n",
      "Evaluating Model: 100%|██████████| 15/15 [00:00<00:00, 65.27it/s]\n"
     ]
    },
    {
     "name": "stdout",
     "output_type": "stream",
     "text": [
      "Epoch 17 -- Train_Loss: 0.6632380662328106 -- Val_Loss: 0.8337235490481059 -- Val_Accuracy: 0.8222811671087533 -- Val_F1: 0.8131099445645124\n"
     ]
    },
    {
     "name": "stderr",
     "output_type": "stream",
     "text": [
      "Training Model: 100%|██████████| 118/118 [00:03<00:00, 31.42it/s]\n",
      "Evaluating Model: 100%|██████████| 15/15 [00:00<00:00, 65.33it/s]\n"
     ]
    },
    {
     "name": "stdout",
     "output_type": "stream",
     "text": [
      "Epoch 18 -- Train_Loss: 0.5980646734015417 -- Val_Loss: 0.7762093583742777 -- Val_Accuracy: 0.8339522546419098 -- Val_F1: 0.8254617698232876\n"
     ]
    },
    {
     "name": "stderr",
     "output_type": "stream",
     "text": [
      "Training Model: 100%|██████████| 118/118 [00:03<00:00, 31.92it/s]\n",
      "Evaluating Model: 100%|██████████| 15/15 [00:00<00:00, 61.09it/s]\n"
     ]
    },
    {
     "name": "stdout",
     "output_type": "stream",
     "text": [
      "Epoch 19 -- Train_Loss: 0.54107143464735 -- Val_Loss: 0.725298281510671 -- Val_Accuracy: 0.839787798408488 -- Val_F1: 0.8313997148083783\n"
     ]
    },
    {
     "name": "stderr",
     "output_type": "stream",
     "text": [
      "Training Model: 100%|██████████| 118/118 [00:03<00:00, 32.61it/s]\n",
      "Evaluating Model: 100%|██████████| 15/15 [00:00<00:00, 65.66it/s]\n"
     ]
    },
    {
     "name": "stdout",
     "output_type": "stream",
     "text": [
      "Epoch 20 -- Train_Loss: 0.49084832430896114 -- Val_Loss: 0.6848001837730407 -- Val_Accuracy: 0.8493368700265252 -- Val_F1: 0.8408681364573358\n"
     ]
    },
    {
     "name": "stderr",
     "output_type": "stream",
     "text": [
      "Training Model: 100%|██████████| 118/118 [00:03<00:00, 32.25it/s]\n",
      "Evaluating Model: 100%|██████████| 15/15 [00:00<00:00, 65.72it/s]\n"
     ]
    },
    {
     "name": "stdout",
     "output_type": "stream",
     "text": [
      "Epoch 21 -- Train_Loss: 0.4462441847486011 -- Val_Loss: 0.6472437461217244 -- Val_Accuracy: 0.8583554376657825 -- Val_F1: 0.8509325617254886\n"
     ]
    },
    {
     "name": "stderr",
     "output_type": "stream",
     "text": [
      "Training Model: 100%|██████████| 118/118 [00:03<00:00, 31.43it/s]\n",
      "Evaluating Model: 100%|██████████| 15/15 [00:00<00:00, 57.48it/s]\n"
     ]
    },
    {
     "name": "stdout",
     "output_type": "stream",
     "text": [
      "Epoch 22 -- Train_Loss: 0.4065625950441522 -- Val_Loss: 0.6133125960826874 -- Val_Accuracy: 0.8625994694960212 -- Val_F1: 0.8558385756024718\n"
     ]
    },
    {
     "name": "stderr",
     "output_type": "stream",
     "text": [
      "Training Model: 100%|██████████| 118/118 [00:03<00:00, 32.50it/s]\n",
      "Evaluating Model: 100%|██████████| 15/15 [00:00<00:00, 61.58it/s]\n"
     ]
    },
    {
     "name": "stdout",
     "output_type": "stream",
     "text": [
      "Epoch 23 -- Train_Loss: 0.3716319008903988 -- Val_Loss: 0.5866420865058899 -- Val_Accuracy: 0.8710875331564987 -- Val_F1: 0.8645126084875875\n"
     ]
    },
    {
     "name": "stderr",
     "output_type": "stream",
     "text": [
      "Training Model: 100%|██████████| 118/118 [00:03<00:00, 31.87it/s]\n",
      "Evaluating Model: 100%|██████████| 15/15 [00:00<00:00, 58.93it/s]\n"
     ]
    },
    {
     "name": "stdout",
     "output_type": "stream",
     "text": [
      "Epoch 24 -- Train_Loss: 0.3401546819230257 -- Val_Loss: 0.5610975543657939 -- Val_Accuracy: 0.8732095490716181 -- Val_F1: 0.8656123955865551\n"
     ]
    },
    {
     "name": "stderr",
     "output_type": "stream",
     "text": [
      "Training Model: 100%|██████████| 118/118 [00:03<00:00, 32.52it/s]\n",
      "Evaluating Model: 100%|██████████| 15/15 [00:00<00:00, 62.48it/s]\n"
     ]
    },
    {
     "name": "stdout",
     "output_type": "stream",
     "text": [
      "Epoch 25 -- Train_Loss: 0.31183741380602625 -- Val_Loss: 0.5373126844565074 -- Val_Accuracy: 0.8748010610079575 -- Val_F1: 0.8684041978133816\n"
     ]
    },
    {
     "name": "stderr",
     "output_type": "stream",
     "text": [
      "Training Model: 100%|██████████| 118/118 [00:03<00:00, 33.22it/s]\n",
      "Evaluating Model: 100%|██████████| 15/15 [00:00<00:00, 65.32it/s]\n"
     ]
    },
    {
     "name": "stdout",
     "output_type": "stream",
     "text": [
      "Epoch 26 -- Train_Loss: 0.28624893484984415 -- Val_Loss: 0.5124243458112081 -- Val_Accuracy: 0.8785145888594165 -- Val_F1: 0.8726950978216743\n"
     ]
    },
    {
     "name": "stderr",
     "output_type": "stream",
     "text": [
      "Training Model: 100%|██████████| 118/118 [00:03<00:00, 32.18it/s]\n",
      "Evaluating Model: 100%|██████████| 15/15 [00:00<00:00, 54.08it/s]\n"
     ]
    },
    {
     "name": "stdout",
     "output_type": "stream",
     "text": [
      "Epoch 27 -- Train_Loss: 0.2631526488368794 -- Val_Loss: 0.49303857088088987 -- Val_Accuracy: 0.8806366047745358 -- Val_F1: 0.8749565455919823\n"
     ]
    },
    {
     "name": "stderr",
     "output_type": "stream",
     "text": [
      "Training Model: 100%|██████████| 118/118 [00:03<00:00, 32.41it/s]\n",
      "Evaluating Model: 100%|██████████| 15/15 [00:00<00:00, 56.35it/s]\n"
     ]
    },
    {
     "name": "stdout",
     "output_type": "stream",
     "text": [
      "Epoch 28 -- Train_Loss: 0.2423943738311024 -- Val_Loss: 0.478492933511734 -- Val_Accuracy: 0.8864721485411141 -- Val_F1: 0.8810185902551384\n"
     ]
    },
    {
     "name": "stderr",
     "output_type": "stream",
     "text": [
      "Training Model: 100%|██████████| 118/118 [00:03<00:00, 31.64it/s]\n",
      "Evaluating Model: 100%|██████████| 15/15 [00:00<00:00, 62.11it/s]\n"
     ]
    },
    {
     "name": "stdout",
     "output_type": "stream",
     "text": [
      "Epoch 29 -- Train_Loss: 0.2234686697691174 -- Val_Loss: 0.46169182856877644 -- Val_Accuracy: 0.8891246684350133 -- Val_F1: 0.8835917896853948\n"
     ]
    },
    {
     "name": "stderr",
     "output_type": "stream",
     "text": [
      "Training Model: 100%|██████████| 118/118 [00:03<00:00, 33.78it/s]\n",
      "Evaluating Model: 100%|██████████| 15/15 [00:00<00:00, 61.13it/s]\n"
     ]
    },
    {
     "name": "stdout",
     "output_type": "stream",
     "text": [
      "Epoch 30 -- Train_Loss: 0.20634668661376177 -- Val_Loss: 0.4443948189417521 -- Val_Accuracy: 0.8907161803713528 -- Val_F1: 0.8853144154745433\n"
     ]
    },
    {
     "name": "stderr",
     "output_type": "stream",
     "text": [
      "Training Model: 100%|██████████| 118/118 [00:03<00:00, 33.04it/s]\n",
      "Evaluating Model: 100%|██████████| 15/15 [00:00<00:00, 63.23it/s]\n"
     ]
    },
    {
     "name": "stdout",
     "output_type": "stream",
     "text": [
      "Epoch 31 -- Train_Loss: 0.1903600335373717 -- Val_Loss: 0.43486043413480124 -- Val_Accuracy: 0.893368700265252 -- Val_F1: 0.8892937229164156\n"
     ]
    },
    {
     "name": "stderr",
     "output_type": "stream",
     "text": [
      "Training Model: 100%|██████████| 118/118 [00:03<00:00, 32.30it/s]\n",
      "Evaluating Model: 100%|██████████| 15/15 [00:00<00:00, 50.86it/s]\n"
     ]
    },
    {
     "name": "stdout",
     "output_type": "stream",
     "text": [
      "Epoch 32 -- Train_Loss: 0.17577311024069786 -- Val_Loss: 0.41913852095603943 -- Val_Accuracy: 0.8938992042440318 -- Val_F1: 0.8893319498826614\n"
     ]
    },
    {
     "name": "stderr",
     "output_type": "stream",
     "text": [
      "Training Model: 100%|██████████| 118/118 [00:03<00:00, 31.58it/s]\n",
      "Evaluating Model: 100%|██████████| 15/15 [00:00<00:00, 67.03it/s]\n"
     ]
    },
    {
     "name": "stdout",
     "output_type": "stream",
     "text": [
      "Epoch 33 -- Train_Loss: 0.16268764985567433 -- Val_Loss: 0.4094189782937368 -- Val_Accuracy: 0.8981432360742706 -- Val_F1: 0.8939316271100871\n"
     ]
    },
    {
     "name": "stderr",
     "output_type": "stream",
     "text": [
      "Training Model: 100%|██████████| 118/118 [00:03<00:00, 32.44it/s]\n",
      "Evaluating Model: 100%|██████████| 15/15 [00:00<00:00, 71.62it/s]\n"
     ]
    },
    {
     "name": "stdout",
     "output_type": "stream",
     "text": [
      "Epoch 34 -- Train_Loss: 0.15056780479469542 -- Val_Loss: 0.40072812835375465 -- Val_Accuracy: 0.9018567639257294 -- Val_F1: 0.8973461191803409\n"
     ]
    },
    {
     "name": "stderr",
     "output_type": "stream",
     "text": [
      "Training Model: 100%|██████████| 118/118 [00:03<00:00, 33.10it/s]\n",
      "Evaluating Model: 100%|██████████| 15/15 [00:00<00:00, 66.98it/s]\n"
     ]
    },
    {
     "name": "stdout",
     "output_type": "stream",
     "text": [
      "Epoch 35 -- Train_Loss: 0.13941199029401197 -- Val_Loss: 0.3908589402834574 -- Val_Accuracy: 0.9013262599469496 -- Val_F1: 0.8972144921730374\n"
     ]
    },
    {
     "name": "stderr",
     "output_type": "stream",
     "text": [
      "Training Model: 100%|██████████| 118/118 [00:03<00:00, 32.41it/s]\n",
      "Evaluating Model: 100%|██████████| 15/15 [00:00<00:00, 61.41it/s]\n"
     ]
    },
    {
     "name": "stdout",
     "output_type": "stream",
     "text": [
      "Epoch 36 -- Train_Loss: 0.12917729587120524 -- Val_Loss: 0.380945618947347 -- Val_Accuracy: 0.9013262599469496 -- Val_F1: 0.896817895144261\n"
     ]
    },
    {
     "name": "stderr",
     "output_type": "stream",
     "text": [
      "Training Model: 100%|██████████| 118/118 [00:03<00:00, 31.44it/s]\n",
      "Evaluating Model: 100%|██████████| 15/15 [00:00<00:00, 52.74it/s]\n"
     ]
    },
    {
     "name": "stdout",
     "output_type": "stream",
     "text": [
      "Epoch 37 -- Train_Loss: 0.11970273178007643 -- Val_Loss: 0.3759291748205821 -- Val_Accuracy: 0.9050397877984084 -- Val_F1: 0.9005987208382003\n"
     ]
    },
    {
     "name": "stderr",
     "output_type": "stream",
     "text": [
      "Training Model: 100%|██████████| 118/118 [00:03<00:00, 31.78it/s]\n",
      "Evaluating Model: 100%|██████████| 15/15 [00:00<00:00, 67.15it/s]\n"
     ]
    },
    {
     "name": "stdout",
     "output_type": "stream",
     "text": [
      "Epoch 38 -- Train_Loss: 0.11104408878896196 -- Val_Loss: 0.3656130294005076 -- Val_Accuracy: 0.9071618037135278 -- Val_F1: 0.9024900001639169\n"
     ]
    },
    {
     "name": "stderr",
     "output_type": "stream",
     "text": [
      "Training Model: 100%|██████████| 118/118 [00:03<00:00, 31.27it/s]\n",
      "Evaluating Model: 100%|██████████| 15/15 [00:00<00:00, 60.41it/s]\n"
     ]
    },
    {
     "name": "stdout",
     "output_type": "stream",
     "text": [
      "Epoch 39 -- Train_Loss: 0.10299212504493988 -- Val_Loss: 0.3594004889329275 -- Val_Accuracy: 0.9061007957559681 -- Val_F1: 0.9013241076233351\n"
     ]
    },
    {
     "name": "stderr",
     "output_type": "stream",
     "text": [
      "Training Model: 100%|██████████| 118/118 [00:03<00:00, 32.17it/s]\n",
      "Evaluating Model: 100%|██████████| 15/15 [00:00<00:00, 52.35it/s]\n"
     ]
    },
    {
     "name": "stdout",
     "output_type": "stream",
     "text": [
      "Epoch 40 -- Train_Loss: 0.09552775594895169 -- Val_Loss: 0.35439578890800477 -- Val_Accuracy: 0.9076923076923077 -- Val_F1: 0.9026736157513151\n"
     ]
    },
    {
     "name": "stderr",
     "output_type": "stream",
     "text": [
      "Training Model: 100%|██████████| 118/118 [00:03<00:00, 32.10it/s]\n",
      "Evaluating Model: 100%|██████████| 15/15 [00:00<00:00, 66.22it/s]\n"
     ]
    },
    {
     "name": "stdout",
     "output_type": "stream",
     "text": [
      "Epoch 41 -- Train_Loss: 0.08869844949725321 -- Val_Loss: 0.34834338823954264 -- Val_Accuracy: 0.9071618037135278 -- Val_F1: 0.9021716549487973\n"
     ]
    },
    {
     "name": "stderr",
     "output_type": "stream",
     "text": [
      "Training Model: 100%|██████████| 118/118 [00:03<00:00, 31.59it/s]\n",
      "Evaluating Model: 100%|██████████| 15/15 [00:00<00:00, 62.95it/s]\n"
     ]
    },
    {
     "name": "stdout",
     "output_type": "stream",
     "text": [
      "Epoch 42 -- Train_Loss: 0.08232705194061085 -- Val_Loss: 0.34301475882530214 -- Val_Accuracy: 0.9098143236074271 -- Val_F1: 0.9048122351933747\n"
     ]
    },
    {
     "name": "stderr",
     "output_type": "stream",
     "text": [
      "Training Model: 100%|██████████| 118/118 [00:03<00:00, 32.24it/s]\n",
      "Evaluating Model: 100%|██████████| 15/15 [00:00<00:00, 65.72it/s]\n"
     ]
    },
    {
     "name": "stdout",
     "output_type": "stream",
     "text": [
      "Epoch 43 -- Train_Loss: 0.07644147792104948 -- Val_Loss: 0.3363577276468277 -- Val_Accuracy: 0.9103448275862069 -- Val_F1: 0.9057764153053046\n"
     ]
    },
    {
     "name": "stderr",
     "output_type": "stream",
     "text": [
      "Training Model: 100%|██████████| 118/118 [00:03<00:00, 34.44it/s]\n",
      "Evaluating Model: 100%|██████████| 15/15 [00:00<00:00, 59.89it/s]\n"
     ]
    },
    {
     "name": "stdout",
     "output_type": "stream",
     "text": [
      "Epoch 44 -- Train_Loss: 0.07103771394339659 -- Val_Loss: 0.33132230838139853 -- Val_Accuracy: 0.9092838196286472 -- Val_F1: 0.9048365469985808\n"
     ]
    },
    {
     "name": "stderr",
     "output_type": "stream",
     "text": [
      "Training Model: 100%|██████████| 118/118 [00:03<00:00, 30.87it/s]\n",
      "Evaluating Model: 100%|██████████| 15/15 [00:00<00:00, 68.71it/s]\n"
     ]
    },
    {
     "name": "stdout",
     "output_type": "stream",
     "text": [
      "Epoch 45 -- Train_Loss: 0.06608843067818779 -- Val_Loss: 0.32742261290550234 -- Val_Accuracy: 0.9119363395225464 -- Val_F1: 0.9077312532427767\n"
     ]
    },
    {
     "name": "stderr",
     "output_type": "stream",
     "text": [
      "Training Model: 100%|██████████| 118/118 [00:03<00:00, 32.67it/s]\n",
      "Evaluating Model: 100%|██████████| 15/15 [00:00<00:00, 66.70it/s]\n"
     ]
    },
    {
     "name": "stdout",
     "output_type": "stream",
     "text": [
      "Epoch 46 -- Train_Loss: 0.06134271372299073 -- Val_Loss: 0.32429630557696026 -- Val_Accuracy: 0.9119363395225464 -- Val_F1: 0.9079639470570013\n"
     ]
    },
    {
     "name": "stderr",
     "output_type": "stream",
     "text": [
      "Training Model: 100%|██████████| 118/118 [00:03<00:00, 31.82it/s]\n",
      "Evaluating Model: 100%|██████████| 15/15 [00:00<00:00, 60.05it/s]\n"
     ]
    },
    {
     "name": "stdout",
     "output_type": "stream",
     "text": [
      "Epoch 47 -- Train_Loss: 0.05710439383983612 -- Val_Loss: 0.31852238277594247 -- Val_Accuracy: 0.9140583554376658 -- Val_F1: 0.910821270636933\n"
     ]
    },
    {
     "name": "stderr",
     "output_type": "stream",
     "text": [
      "Training Model: 100%|██████████| 118/118 [00:03<00:00, 31.21it/s]\n",
      "Evaluating Model: 100%|██████████| 15/15 [00:00<00:00, 67.22it/s]\n"
     ]
    },
    {
     "name": "stdout",
     "output_type": "stream",
     "text": [
      "Epoch 48 -- Train_Loss: 0.052977063361618476 -- Val_Loss: 0.3133067061503728 -- Val_Accuracy: 0.9156498673740053 -- Val_F1: 0.9119937834228452\n"
     ]
    },
    {
     "name": "stderr",
     "output_type": "stream",
     "text": [
      "Training Model: 100%|██████████| 118/118 [00:03<00:00, 31.35it/s]\n",
      "Evaluating Model: 100%|██████████| 15/15 [00:00<00:00, 54.54it/s]\n"
     ]
    },
    {
     "name": "stdout",
     "output_type": "stream",
     "text": [
      "Epoch 49 -- Train_Loss: 0.04928835853934288 -- Val_Loss: 0.31150333484013876 -- Val_Accuracy: 0.9145888594164456 -- Val_F1: 0.9113098995586209\n"
     ]
    },
    {
     "name": "stderr",
     "output_type": "stream",
     "text": [
      "Training Model: 100%|██████████| 118/118 [00:03<00:00, 32.33it/s]\n",
      "Evaluating Model: 100%|██████████| 15/15 [00:00<00:00, 60.42it/s]\n"
     ]
    },
    {
     "name": "stdout",
     "output_type": "stream",
     "text": [
      "Epoch 50 -- Train_Loss: 0.0458128730119285 -- Val_Loss: 0.3080398817857107 -- Val_Accuracy: 0.9145888594164456 -- Val_F1: 0.9114790688918305\n"
     ]
    },
    {
     "name": "stderr",
     "output_type": "stream",
     "text": [
      "Training Model: 100%|██████████| 118/118 [00:03<00:00, 30.90it/s]\n",
      "Evaluating Model: 100%|██████████| 15/15 [00:00<00:00, 60.50it/s]\n"
     ]
    },
    {
     "name": "stdout",
     "output_type": "stream",
     "text": [
      "Epoch 51 -- Train_Loss: 0.042650893156937625 -- Val_Loss: 0.30690729717413584 -- Val_Accuracy: 0.916710875331565 -- Val_F1: 0.9138107716814012\n"
     ]
    },
    {
     "name": "stderr",
     "output_type": "stream",
     "text": [
      "Training Model: 100%|██████████| 118/118 [00:03<00:00, 32.99it/s]\n",
      "Evaluating Model: 100%|██████████| 15/15 [00:00<00:00, 60.90it/s]\n"
     ]
    },
    {
     "name": "stdout",
     "output_type": "stream",
     "text": [
      "Epoch 52 -- Train_Loss: 0.03976757485040669 -- Val_Loss: 0.30251056849956515 -- Val_Accuracy: 0.919893899204244 -- Val_F1: 0.9170773867865517\n"
     ]
    },
    {
     "name": "stderr",
     "output_type": "stream",
     "text": [
      "Training Model: 100%|██████████| 118/118 [00:03<00:00, 30.42it/s]\n",
      "Evaluating Model: 100%|██████████| 15/15 [00:00<00:00, 62.01it/s]\n"
     ]
    },
    {
     "name": "stdout",
     "output_type": "stream",
     "text": [
      "Epoch 53 -- Train_Loss: 0.036983315911838566 -- Val_Loss: 0.29930576384067537 -- Val_Accuracy: 0.9177718832891246 -- Val_F1: 0.9149998956190034\n"
     ]
    },
    {
     "name": "stderr",
     "output_type": "stream",
     "text": [
      "Training Model: 100%|██████████| 118/118 [00:03<00:00, 31.71it/s]\n",
      "Evaluating Model: 100%|██████████| 15/15 [00:00<00:00, 54.72it/s]\n"
     ]
    },
    {
     "name": "stdout",
     "output_type": "stream",
     "text": [
      "Epoch 54 -- Train_Loss: 0.03441572047264899 -- Val_Loss: 0.29791906972726184 -- Val_Accuracy: 0.9177718832891246 -- Val_F1: 0.9151317791533631\n"
     ]
    },
    {
     "name": "stderr",
     "output_type": "stream",
     "text": [
      "Training Model: 100%|██████████| 118/118 [00:03<00:00, 31.50it/s]\n",
      "Evaluating Model: 100%|██████████| 15/15 [00:00<00:00, 54.74it/s]\n"
     ]
    },
    {
     "name": "stdout",
     "output_type": "stream",
     "text": [
      "Epoch 55 -- Train_Loss: 0.032074649834026726 -- Val_Loss: 0.29602153996626535 -- Val_Accuracy: 0.9183023872679045 -- Val_F1: 0.9158384556548752\n"
     ]
    },
    {
     "name": "stderr",
     "output_type": "stream",
     "text": [
      "Training Model: 100%|██████████| 118/118 [00:03<00:00, 30.68it/s]\n",
      "Evaluating Model: 100%|██████████| 15/15 [00:00<00:00, 61.15it/s]\n"
     ]
    },
    {
     "name": "stdout",
     "output_type": "stream",
     "text": [
      "Epoch 56 -- Train_Loss: 0.029849411019960703 -- Val_Loss: 0.29385116696357727 -- Val_Accuracy: 0.9193633952254642 -- Val_F1: 0.9168238872106771\n"
     ]
    },
    {
     "name": "stderr",
     "output_type": "stream",
     "text": [
      "Training Model: 100%|██████████| 118/118 [00:03<00:00, 33.02it/s]\n",
      "Evaluating Model: 100%|██████████| 15/15 [00:00<00:00, 64.97it/s]\n"
     ]
    },
    {
     "name": "stdout",
     "output_type": "stream",
     "text": [
      "Epoch 57 -- Train_Loss: 0.02787298571823512 -- Val_Loss: 0.29386203587055204 -- Val_Accuracy: 0.9193633952254642 -- Val_F1: 0.9170922223563942\n"
     ]
    },
    {
     "name": "stderr",
     "output_type": "stream",
     "text": [
      "Training Model: 100%|██████████| 118/118 [00:03<00:00, 33.72it/s]\n",
      "Evaluating Model: 100%|██████████| 15/15 [00:00<00:00, 65.21it/s]\n"
     ]
    },
    {
     "name": "stdout",
     "output_type": "stream",
     "text": [
      "Epoch 58 -- Train_Loss: 0.026027198052191634 -- Val_Loss: 0.2901536742846171 -- Val_Accuracy: 0.9204244031830239 -- Val_F1: 0.9180622529215056\n"
     ]
    },
    {
     "name": "stderr",
     "output_type": "stream",
     "text": [
      "Training Model: 100%|██████████| 118/118 [00:03<00:00, 32.93it/s]\n",
      "Evaluating Model: 100%|██████████| 15/15 [00:00<00:00, 69.88it/s]\n"
     ]
    },
    {
     "name": "stdout",
     "output_type": "stream",
     "text": [
      "Epoch 59 -- Train_Loss: 0.0242613620456245 -- Val_Loss: 0.28694996535778045 -- Val_Accuracy: 0.9209549071618037 -- Val_F1: 0.9186544315235553\n"
     ]
    },
    {
     "name": "stderr",
     "output_type": "stream",
     "text": [
      "Training Model: 100%|██████████| 118/118 [00:03<00:00, 31.71it/s]\n",
      "Evaluating Model: 100%|██████████| 15/15 [00:00<00:00, 66.49it/s]\n"
     ]
    },
    {
     "name": "stdout",
     "output_type": "stream",
     "text": [
      "Epoch 60 -- Train_Loss: 0.02259109597811002 -- Val_Loss: 0.28482273320357004 -- Val_Accuracy: 0.9214854111405836 -- Val_F1: 0.9188217835398301\n"
     ]
    },
    {
     "name": "stderr",
     "output_type": "stream",
     "text": [
      "Training Model: 100%|██████████| 118/118 [00:03<00:00, 31.98it/s]\n",
      "Evaluating Model: 100%|██████████| 15/15 [00:00<00:00, 68.29it/s]\n"
     ]
    },
    {
     "name": "stdout",
     "output_type": "stream",
     "text": [
      "Epoch 61 -- Train_Loss: 0.021068745174334717 -- Val_Loss: 0.2866987347602844 -- Val_Accuracy: 0.9204244031830239 -- Val_F1: 0.9183750284516682\n"
     ]
    },
    {
     "name": "stderr",
     "output_type": "stream",
     "text": [
      "Training Model: 100%|██████████| 118/118 [00:03<00:00, 32.52it/s]\n",
      "Evaluating Model: 100%|██████████| 15/15 [00:00<00:00, 56.84it/s]\n"
     ]
    },
    {
     "name": "stdout",
     "output_type": "stream",
     "text": [
      "Epoch 62 -- Train_Loss: 0.019718127364640015 -- Val_Loss: 0.287071626385053 -- Val_Accuracy: 0.9209549071618037 -- Val_F1: 0.9187524247211408\n"
     ]
    },
    {
     "name": "stderr",
     "output_type": "stream",
     "text": [
      "Training Model: 100%|██████████| 118/118 [00:03<00:00, 32.57it/s]\n",
      "Evaluating Model: 100%|██████████| 15/15 [00:00<00:00, 68.42it/s]\n"
     ]
    },
    {
     "name": "stdout",
     "output_type": "stream",
     "text": [
      "Epoch 63 -- Train_Loss: 0.01840713746466879 -- Val_Loss: 0.2816909223794937 -- Val_Accuracy: 0.9225464190981433 -- Val_F1: 0.9202890910860531\n"
     ]
    },
    {
     "name": "stderr",
     "output_type": "stream",
     "text": [
      "Training Model: 100%|██████████| 118/118 [00:03<00:00, 32.32it/s]\n",
      "Evaluating Model: 100%|██████████| 15/15 [00:00<00:00, 64.94it/s]\n"
     ]
    },
    {
     "name": "stdout",
     "output_type": "stream",
     "text": [
      "Epoch 64 -- Train_Loss: 0.01720499106035647 -- Val_Loss: 0.2818852444489797 -- Val_Accuracy: 0.9209549071618037 -- Val_F1: 0.9189231287881385\n"
     ]
    },
    {
     "name": "stderr",
     "output_type": "stream",
     "text": [
      "Training Model: 100%|██████████| 118/118 [00:03<00:00, 32.36it/s]\n",
      "Evaluating Model: 100%|██████████| 15/15 [00:00<00:00, 65.54it/s]\n"
     ]
    },
    {
     "name": "stdout",
     "output_type": "stream",
     "text": [
      "Epoch 65 -- Train_Loss: 0.01612440162038399 -- Val_Loss: 0.28019685844580333 -- Val_Accuracy: 0.9209549071618037 -- Val_F1: 0.9182369886725175\n"
     ]
    },
    {
     "name": "stderr",
     "output_type": "stream",
     "text": [
      "Training Model: 100%|██████████| 118/118 [00:03<00:00, 33.35it/s]\n",
      "Evaluating Model: 100%|██████████| 15/15 [00:00<00:00, 59.33it/s]\n"
     ]
    },
    {
     "name": "stdout",
     "output_type": "stream",
     "text": [
      "Epoch 66 -- Train_Loss: 0.01506423382325319 -- Val_Loss: 0.27687108318010967 -- Val_Accuracy: 0.9220159151193634 -- Val_F1: 0.9195122240471909\n"
     ]
    },
    {
     "name": "stderr",
     "output_type": "stream",
     "text": [
      "Training Model: 100%|██████████| 118/118 [00:03<00:00, 32.42it/s]\n",
      "Evaluating Model: 100%|██████████| 15/15 [00:00<00:00, 66.06it/s]\n"
     ]
    },
    {
     "name": "stdout",
     "output_type": "stream",
     "text": [
      "Epoch 67 -- Train_Loss: 0.014120440081677448 -- Val_Loss: 0.2766057014465332 -- Val_Accuracy: 0.9220159151193634 -- Val_F1: 0.9196103741303254\n"
     ]
    },
    {
     "name": "stderr",
     "output_type": "stream",
     "text": [
      "Training Model: 100%|██████████| 118/118 [00:03<00:00, 32.52it/s]\n",
      "Evaluating Model: 100%|██████████| 15/15 [00:00<00:00, 67.46it/s]\n"
     ]
    },
    {
     "name": "stdout",
     "output_type": "stream",
     "text": [
      "Epoch 68 -- Train_Loss: 0.01324664568528533 -- Val_Loss: 0.27657820930083593 -- Val_Accuracy: 0.9220159151193634 -- Val_F1: 0.9197978639022514\n"
     ]
    },
    {
     "name": "stderr",
     "output_type": "stream",
     "text": [
      "Training Model: 100%|██████████| 118/118 [00:03<00:00, 33.58it/s]\n",
      "Evaluating Model: 100%|██████████| 15/15 [00:00<00:00, 57.37it/s]\n"
     ]
    },
    {
     "name": "stdout",
     "output_type": "stream",
     "text": [
      "Epoch 69 -- Train_Loss: 0.012443264413593431 -- Val_Loss: 0.27501328686873117 -- Val_Accuracy: 0.9225464190981433 -- Val_F1: 0.9204047580504419\n"
     ]
    },
    {
     "name": "stderr",
     "output_type": "stream",
     "text": [
      "Training Model: 100%|██████████| 118/118 [00:03<00:00, 32.70it/s]\n",
      "Evaluating Model: 100%|██████████| 15/15 [00:00<00:00, 72.40it/s]\n"
     ]
    },
    {
     "name": "stdout",
     "output_type": "stream",
     "text": [
      "Epoch 70 -- Train_Loss: 0.011663020477961685 -- Val_Loss: 0.27679041425387063 -- Val_Accuracy: 0.9230769230769231 -- Val_F1: 0.9208114815304181\n"
     ]
    },
    {
     "name": "stderr",
     "output_type": "stream",
     "text": [
      "Training Model: 100%|██████████| 118/118 [00:03<00:00, 32.31it/s]\n",
      "Evaluating Model: 100%|██████████| 15/15 [00:00<00:00, 67.34it/s]\n"
     ]
    },
    {
     "name": "stdout",
     "output_type": "stream",
     "text": [
      "Epoch 71 -- Train_Loss: 0.01093657916980022 -- Val_Loss: 0.2728177467981974 -- Val_Accuracy: 0.9246684350132626 -- Val_F1: 0.9225484157453703\n"
     ]
    },
    {
     "name": "stderr",
     "output_type": "stream",
     "text": [
      "Training Model: 100%|██████████| 118/118 [00:03<00:00, 33.14it/s]\n",
      "Evaluating Model: 100%|██████████| 15/15 [00:00<00:00, 55.11it/s]\n"
     ]
    },
    {
     "name": "stdout",
     "output_type": "stream",
     "text": [
      "Epoch 72 -- Train_Loss: 0.010305095732338348 -- Val_Loss: 0.27288621564706167 -- Val_Accuracy: 0.9262599469496021 -- Val_F1: 0.9237949159888549\n"
     ]
    },
    {
     "name": "stderr",
     "output_type": "stream",
     "text": [
      "Training Model: 100%|██████████| 118/118 [00:03<00:00, 30.69it/s]\n",
      "Evaluating Model: 100%|██████████| 15/15 [00:00<00:00, 60.69it/s]\n"
     ]
    },
    {
     "name": "stdout",
     "output_type": "stream",
     "text": [
      "Epoch 73 -- Train_Loss: 0.009692405011126046 -- Val_Loss: 0.2719120373328527 -- Val_Accuracy: 0.9241379310344827 -- Val_F1: 0.9219519740991844\n"
     ]
    },
    {
     "name": "stderr",
     "output_type": "stream",
     "text": [
      "Training Model: 100%|██████████| 118/118 [00:03<00:00, 31.60it/s]\n",
      "Evaluating Model: 100%|██████████| 15/15 [00:00<00:00, 64.28it/s]\n"
     ]
    },
    {
     "name": "stdout",
     "output_type": "stream",
     "text": [
      "Epoch 74 -- Train_Loss: 0.009121948892597929 -- Val_Loss: 0.2745609790086746 -- Val_Accuracy: 0.9246684350132626 -- Val_F1: 0.922715245622791\n"
     ]
    },
    {
     "name": "stderr",
     "output_type": "stream",
     "text": [
      "Training Model: 100%|██████████| 118/118 [00:03<00:00, 29.73it/s]\n",
      "Evaluating Model: 100%|██████████| 15/15 [00:00<00:00, 63.12it/s]\n"
     ]
    },
    {
     "name": "stdout",
     "output_type": "stream",
     "text": [
      "Epoch 75 -- Train_Loss: 0.008611578277264864 -- Val_Loss: 0.2723573406537374 -- Val_Accuracy: 0.9246684350132626 -- Val_F1: 0.9224283323328967\n"
     ]
    },
    {
     "name": "stderr",
     "output_type": "stream",
     "text": [
      "Training Model: 100%|██████████| 118/118 [00:03<00:00, 31.20it/s]\n",
      "Evaluating Model: 100%|██████████| 15/15 [00:00<00:00, 65.14it/s]\n"
     ]
    },
    {
     "name": "stdout",
     "output_type": "stream",
     "text": [
      "Epoch 76 -- Train_Loss: 0.00808213644866216 -- Val_Loss: 0.27091428836186726 -- Val_Accuracy: 0.9273209549071618 -- Val_F1: 0.9248628955273845\n"
     ]
    },
    {
     "name": "stderr",
     "output_type": "stream",
     "text": [
      "Training Model: 100%|██████████| 118/118 [00:03<00:00, 30.80it/s]\n",
      "Evaluating Model: 100%|██████████| 15/15 [00:00<00:00, 54.73it/s]\n"
     ]
    },
    {
     "name": "stdout",
     "output_type": "stream",
     "text": [
      "Epoch 77 -- Train_Loss: 0.007639932580355366 -- Val_Loss: 0.27436697085698447 -- Val_Accuracy: 0.926790450928382 -- Val_F1: 0.9247765750676141\n"
     ]
    },
    {
     "name": "stderr",
     "output_type": "stream",
     "text": [
      "Training Model: 100%|██████████| 118/118 [00:03<00:00, 32.60it/s]\n",
      "Evaluating Model: 100%|██████████| 15/15 [00:00<00:00, 68.83it/s]\n"
     ]
    },
    {
     "name": "stdout",
     "output_type": "stream",
     "text": [
      "Epoch 78 -- Train_Loss: 0.007238443212788868 -- Val_Loss: 0.2714916249116262 -- Val_Accuracy: 0.9283819628647215 -- Val_F1: 0.92652205918369\n"
     ]
    },
    {
     "name": "stderr",
     "output_type": "stream",
     "text": [
      "Training Model: 100%|██████████| 118/118 [00:03<00:00, 31.65it/s]\n",
      "Evaluating Model: 100%|██████████| 15/15 [00:00<00:00, 58.23it/s]\n"
     ]
    },
    {
     "name": "stdout",
     "output_type": "stream",
     "text": [
      "Epoch 79 -- Train_Loss: 0.006832986580744638 -- Val_Loss: 0.2728577087322871 -- Val_Accuracy: 0.9278514588859417 -- Val_F1: 0.9256352239386529\n"
     ]
    },
    {
     "name": "stderr",
     "output_type": "stream",
     "text": [
      "Training Model: 100%|██████████| 118/118 [00:03<00:00, 31.87it/s]\n",
      "Evaluating Model: 100%|██████████| 15/15 [00:00<00:00, 70.17it/s]\n"
     ]
    },
    {
     "name": "stdout",
     "output_type": "stream",
     "text": [
      "Epoch 80 -- Train_Loss: 0.006464104969212312 -- Val_Loss: 0.27082592248916626 -- Val_Accuracy: 0.9278514588859417 -- Val_F1: 0.9257171667759512\n"
     ]
    },
    {
     "name": "stderr",
     "output_type": "stream",
     "text": [
      "Training Model: 100%|██████████| 118/118 [00:03<00:00, 34.64it/s]\n",
      "Evaluating Model: 100%|██████████| 15/15 [00:00<00:00, 70.68it/s]\n"
     ]
    },
    {
     "name": "stdout",
     "output_type": "stream",
     "text": [
      "Epoch 81 -- Train_Loss: 0.0061139527400482 -- Val_Loss: 0.27131863832473757 -- Val_Accuracy: 0.9262599469496021 -- Val_F1: 0.9243996016315972\n"
     ]
    },
    {
     "name": "stderr",
     "output_type": "stream",
     "text": [
      "Training Model: 100%|██████████| 118/118 [00:03<00:00, 31.44it/s]\n",
      "Evaluating Model: 100%|██████████| 15/15 [00:00<00:00, 66.25it/s]\n"
     ]
    },
    {
     "name": "stdout",
     "output_type": "stream",
     "text": [
      "Epoch 82 -- Train_Loss: 0.005803537953613421 -- Val_Loss: 0.27191341817379 -- Val_Accuracy: 0.9278514588859417 -- Val_F1: 0.9259939523180656\n"
     ]
    },
    {
     "name": "stderr",
     "output_type": "stream",
     "text": [
      "Training Model: 100%|██████████| 118/118 [00:03<00:00, 31.21it/s]\n",
      "Evaluating Model: 100%|██████████| 15/15 [00:00<00:00, 68.20it/s]\n"
     ]
    },
    {
     "name": "stdout",
     "output_type": "stream",
     "text": [
      "Epoch 83 -- Train_Loss: 0.0055000852552731915 -- Val_Loss: 0.2732284923394521 -- Val_Accuracy: 0.9278514588859417 -- Val_F1: 0.9259520144207947\n"
     ]
    },
    {
     "name": "stderr",
     "output_type": "stream",
     "text": [
      "Training Model: 100%|██████████| 118/118 [00:03<00:00, 32.48it/s]\n",
      "Evaluating Model: 100%|██████████| 15/15 [00:00<00:00, 56.04it/s]\n"
     ]
    },
    {
     "name": "stdout",
     "output_type": "stream",
     "text": [
      "Epoch 84 -- Train_Loss: 0.005208194869475723 -- Val_Loss: 0.26978249152501427 -- Val_Accuracy: 0.926790450928382 -- Val_F1: 0.924908102712623\n"
     ]
    },
    {
     "name": "stderr",
     "output_type": "stream",
     "text": [
      "Training Model: 100%|██████████| 118/118 [00:03<00:00, 30.30it/s]\n",
      "Evaluating Model: 100%|██████████| 15/15 [00:00<00:00, 55.15it/s]\n"
     ]
    },
    {
     "name": "stdout",
     "output_type": "stream",
     "text": [
      "Epoch 85 -- Train_Loss: 0.004969620795020739 -- Val_Loss: 0.26764652331670125 -- Val_Accuracy: 0.9278514588859417 -- Val_F1: 0.925844196801647\n"
     ]
    },
    {
     "name": "stderr",
     "output_type": "stream",
     "text": [
      "Training Model: 100%|██████████| 118/118 [00:03<00:00, 31.51it/s]\n",
      "Evaluating Model: 100%|██████████| 15/15 [00:00<00:00, 64.49it/s]\n"
     ]
    },
    {
     "name": "stdout",
     "output_type": "stream",
     "text": [
      "Epoch 86 -- Train_Loss: 0.004713675699796591 -- Val_Loss: 0.2707637260357539 -- Val_Accuracy: 0.9283819628647215 -- Val_F1: 0.9266093152715081\n"
     ]
    },
    {
     "name": "stderr",
     "output_type": "stream",
     "text": [
      "Training Model: 100%|██████████| 118/118 [00:03<00:00, 31.30it/s]\n",
      "Evaluating Model: 100%|██████████| 15/15 [00:00<00:00, 51.75it/s]\n"
     ]
    },
    {
     "name": "stdout",
     "output_type": "stream",
     "text": [
      "Epoch 87 -- Train_Loss: 0.004463450243238801 -- Val_Loss: 0.2681985214352608 -- Val_Accuracy: 0.9278514588859417 -- Val_F1: 0.9258376881064624\n"
     ]
    },
    {
     "name": "stderr",
     "output_type": "stream",
     "text": [
      "Training Model: 100%|██████████| 118/118 [00:03<00:00, 32.94it/s]\n",
      "Evaluating Model: 100%|██████████| 15/15 [00:00<00:00, 67.70it/s]\n"
     ]
    },
    {
     "name": "stdout",
     "output_type": "stream",
     "text": [
      "Epoch 88 -- Train_Loss: 0.004265174606096757 -- Val_Loss: 0.26977501114209496 -- Val_Accuracy: 0.9294429708222812 -- Val_F1: 0.9275975174960825\n"
     ]
    },
    {
     "name": "stderr",
     "output_type": "stream",
     "text": [
      "Training Model: 100%|██████████| 118/118 [00:03<00:00, 33.85it/s]\n",
      "Evaluating Model: 100%|██████████| 15/15 [00:00<00:00, 56.60it/s]\n"
     ]
    },
    {
     "name": "stdout",
     "output_type": "stream",
     "text": [
      "Epoch 89 -- Train_Loss: 0.004071876088993908 -- Val_Loss: 0.27170634468396504 -- Val_Accuracy: 0.926790450928382 -- Val_F1: 0.9250715941724816\n"
     ]
    },
    {
     "name": "stderr",
     "output_type": "stream",
     "text": [
      "Training Model: 100%|██████████| 118/118 [00:03<00:00, 31.98it/s]\n",
      "Evaluating Model: 100%|██████████| 15/15 [00:00<00:00, 58.09it/s]\n"
     ]
    },
    {
     "name": "stdout",
     "output_type": "stream",
     "text": [
      "Epoch 90 -- Train_Loss: 0.0039017153647333638 -- Val_Loss: 0.2720725014805794 -- Val_Accuracy: 0.9294429708222812 -- Val_F1: 0.9276225057019862\n"
     ]
    },
    {
     "name": "stderr",
     "output_type": "stream",
     "text": [
      "Training Model: 100%|██████████| 118/118 [00:03<00:00, 31.79it/s]\n",
      "Evaluating Model: 100%|██████████| 15/15 [00:00<00:00, 67.93it/s]\n"
     ]
    },
    {
     "name": "stdout",
     "output_type": "stream",
     "text": [
      "Epoch 91 -- Train_Loss: 0.0036987637542582794 -- Val_Loss: 0.26891116400559745 -- Val_Accuracy: 0.926790450928382 -- Val_F1: 0.924914852184967\n"
     ]
    },
    {
     "name": "stderr",
     "output_type": "stream",
     "text": [
      "Training Model: 100%|██████████| 118/118 [00:03<00:00, 30.64it/s]\n",
      "Evaluating Model: 100%|██████████| 15/15 [00:00<00:00, 57.87it/s]\n"
     ]
    },
    {
     "name": "stdout",
     "output_type": "stream",
     "text": [
      "Epoch 92 -- Train_Loss: 0.0035511364300056534 -- Val_Loss: 0.2681462715069453 -- Val_Accuracy: 0.9305039787798408 -- Val_F1: 0.9287159508947977\n"
     ]
    },
    {
     "name": "stderr",
     "output_type": "stream",
     "text": [
      "Training Model: 100%|██████████| 118/118 [00:03<00:00, 31.30it/s]\n",
      "Evaluating Model: 100%|██████████| 15/15 [00:00<00:00, 63.33it/s]\n"
     ]
    },
    {
     "name": "stdout",
     "output_type": "stream",
     "text": [
      "Epoch 93 -- Train_Loss: 0.0033783749026104304 -- Val_Loss: 0.2700120578209559 -- Val_Accuracy: 0.9305039787798408 -- Val_F1: 0.928729565594437\n"
     ]
    },
    {
     "name": "stderr",
     "output_type": "stream",
     "text": [
      "Training Model: 100%|██████████| 118/118 [00:03<00:00, 31.19it/s]\n",
      "Evaluating Model: 100%|██████████| 15/15 [00:00<00:00, 67.48it/s]\n"
     ]
    },
    {
     "name": "stdout",
     "output_type": "stream",
     "text": [
      "Epoch 94 -- Train_Loss: 0.003193810882078389 -- Val_Loss: 0.2699965129295985 -- Val_Accuracy: 0.9289124668435014 -- Val_F1: 0.9270853414833361\n"
     ]
    },
    {
     "name": "stderr",
     "output_type": "stream",
     "text": [
      "Training Model: 100%|██████████| 118/118 [00:03<00:00, 33.25it/s]\n",
      "Evaluating Model: 100%|██████████| 15/15 [00:00<00:00, 67.67it/s]\n"
     ]
    },
    {
     "name": "stdout",
     "output_type": "stream",
     "text": [
      "Epoch 95 -- Train_Loss: 0.0030568942715713788 -- Val_Loss: 0.2678285832206408 -- Val_Accuracy: 0.9315649867374005 -- Val_F1: 0.9296769945509353\n"
     ]
    },
    {
     "name": "stderr",
     "output_type": "stream",
     "text": [
      "Training Model: 100%|██████████| 118/118 [00:03<00:00, 33.04it/s]\n",
      "Evaluating Model: 100%|██████████| 15/15 [00:00<00:00, 49.93it/s]\n"
     ]
    },
    {
     "name": "stdout",
     "output_type": "stream",
     "text": [
      "Epoch 96 -- Train_Loss: 0.0029240533284314164 -- Val_Loss: 0.26839767197767894 -- Val_Accuracy: 0.9310344827586207 -- Val_F1: 0.9291513575130285\n"
     ]
    },
    {
     "name": "stderr",
     "output_type": "stream",
     "text": [
      "Training Model: 100%|██████████| 118/118 [00:03<00:00, 30.28it/s]\n",
      "Evaluating Model: 100%|██████████| 15/15 [00:00<00:00, 66.23it/s]\n"
     ]
    },
    {
     "name": "stdout",
     "output_type": "stream",
     "text": [
      "Epoch 97 -- Train_Loss: 0.0028246878670978408 -- Val_Loss: 0.26743754297494887 -- Val_Accuracy: 0.9305039787798408 -- Val_F1: 0.9287159508947977\n"
     ]
    },
    {
     "name": "stderr",
     "output_type": "stream",
     "text": [
      "Training Model: 100%|██████████| 118/118 [00:03<00:00, 31.60it/s]\n",
      "Evaluating Model: 100%|██████████| 15/15 [00:00<00:00, 63.85it/s]\n"
     ]
    },
    {
     "name": "stdout",
     "output_type": "stream",
     "text": [
      "Epoch 98 -- Train_Loss: 0.0027088351894004304 -- Val_Loss: 0.27039509018262226 -- Val_Accuracy: 0.9305039787798408 -- Val_F1: 0.9285389716433455\n"
     ]
    },
    {
     "name": "stderr",
     "output_type": "stream",
     "text": [
      "Training Model: 100%|██████████| 118/118 [00:03<00:00, 31.91it/s]\n",
      "Evaluating Model: 100%|██████████| 15/15 [00:00<00:00, 62.17it/s]\n"
     ]
    },
    {
     "name": "stdout",
     "output_type": "stream",
     "text": [
      "Epoch 99 -- Train_Loss: 0.002607015383792883 -- Val_Loss: 0.2683901776870092 -- Val_Accuracy: 0.9294429708222812 -- Val_F1: 0.9273475001203266\n"
     ]
    },
    {
     "name": "stderr",
     "output_type": "stream",
     "text": [
      "Training Model: 100%|██████████| 118/118 [00:03<00:00, 32.88it/s]\n",
      "Evaluating Model: 100%|██████████| 15/15 [00:00<00:00, 66.61it/s]"
     ]
    },
    {
     "name": "stdout",
     "output_type": "stream",
     "text": [
      "Epoch 100 -- Train_Loss: 0.002504989269023793 -- Val_Loss: 0.2699225331346194 -- Val_Accuracy: 0.9315649867374005 -- Val_F1: 0.9297063256768288\n",
      "Checkpoint saved to /home/jblevins32/NLP_HW1/model_weights/checkpoint_nbow_ce.pt\n"
     ]
    },
    {
     "name": "stderr",
     "output_type": "stream",
     "text": [
      "\n"
     ]
    }
   ],
   "source": [
    "# This is the main training loop. You'll need to complete the train_loop and val_loop functions.\n",
    "# You'll also need to complete the criterion and optimizer functions.\n",
    "# Feel free to experiment with different optimizers and learning rates.\n",
    "# Do not change anything else in this cell\n",
    "learning_rate, epochs, embedding_dim = get_hyperparams_nbow()\n",
    "nbow_model = get_nbow_model(vocab_size= len(train_vocab.keys()), embedding_dim = embedding_dim).to(device)\n",
    "criterion = get_criterion()\n",
    "optimizer = get_optimizer(nbow_model, learning_rate)\n",
    "train_loss_over_time_nbow = []\n",
    "val_loss_over_time_nbow = []\n",
    "for epoch in range(epochs):\n",
    "    train_loss = train_loop(nbow_model, criterion, optimizer, train_iterator, epoch, save_every=2)\n",
    "    true, pred, val_loss = val_loop(nbow_model, criterion, val_iterator)\n",
    "    accuracy, f1 = get_accuracy_and_f1_score(true, pred)\n",
    "    print(f\"Epoch {epoch+1} -- Train_Loss: {train_loss} -- Val_Loss: {val_loss} -- Val_Accuracy: {accuracy} -- Val_F1: {f1}\")\n",
    "    train_loss_over_time_nbow.append(train_loss)\n",
    "    val_loss_over_time_nbow.append(val_loss)\n",
    "save_checkpoint(nbow_model, 'nbow')"
   ]
  },
  {
   "cell_type": "code",
   "execution_count": 252,
   "id": "6d11cc22",
   "metadata": {},
   "outputs": [
    {
     "data": {
      "image/png": "[encoded data removed]",
      "text/plain": [
       "<Figure size 1000x600 with 1 Axes>"
      ]
     },
     "metadata": {},
     "output_type": "display_data"
    }
   ],
   "source": [
    "# DO NOT CHANGE THIS CELL - retain the outputs in submission PDF for credits  \n",
    "plot_loss(train_loss_over_time_nbow, val_loss_over_time_nbow, 'NBOW')"
   ]
  },
  {
   "cell_type": "markdown",
   "id": "_l91F4ooFEIj",
   "metadata": {
    "id": "_l91F4ooFEIj"
   },
   "source": [
    "### 3.6. Model Evaluation [2 points - Programming]\n",
    "The final points for this will be awarded as per Gradescope's test split, which is different from the local versions. The cell below is just for a sanity check. Your metrics here may not exactly match with the ones on Gradescope, but if your model is fairly generalized, it should not be far off.\n",
    "- 0 points for accuracy <= 84%\n",
    "- 1 point for accuracy > 84% but <= 88%\n",
    "- 2 points for accuracy > 88%"
   ]
  },
  {
   "cell_type": "code",
   "execution_count": 253,
   "id": "vs8Fy_ncFEIo",
   "metadata": {
    "ExecuteTime": {
     "end_time": "2024-09-06T13:57:50.036837Z",
     "start_time": "2024-09-06T13:57:49.521419Z"
    },
    "id": "vs8Fy_ncFEIo"
   },
   "outputs": [
    {
     "name": "stderr",
     "output_type": "stream",
     "text": [
      "Evaluating Model: 100%|██████████| 15/15 [00:00<00:00, 61.59it/s]"
     ]
    },
    {
     "name": "stdout",
     "output_type": "stream",
     "text": [
      "Final Validation Accuracy: 0.9315649867374005\n",
      "Final Validation F1-Score: 0.9297063256768288\n"
     ]
    },
    {
     "name": "stderr",
     "output_type": "stream",
     "text": [
      "\n"
     ]
    }
   ],
   "source": [
    "# load best model from checkpoint\n",
    "# DO NOT CHANGE THIS CELL\n",
    "learning_rate, epochs, embedding_dim = get_hyperparams_nbow()\n",
    "nbow_model = get_nbow_model(vocab_size= len(train_vocab.keys()), embedding_dim = embedding_dim).to(device)\n",
    "load_checkpoint(nbow_model, 'nbow', map_location=device)\n",
    "\n",
    "# evaluate model \n",
    "true, pred, val_loss = val_loop(nbow_model, criterion, val_iterator)\n",
    "accuracy, f1 = get_accuracy_and_f1_score(true, pred)\n",
    "print(f\"Final Validation Accuracy: {accuracy}\")\n",
    "print(f\"Final Validation F1-Score: {f1}\")"
   ]
  },
  {
   "cell_type": "code",
   "execution_count": 254,
   "id": "311270f5",
   "metadata": {},
   "outputs": [
    {
     "data": {
      "image/png": "[encoded data removed]",
      "text/plain": [
       "<Figure size 640x480 with 2 Axes>"
      ]
     },
     "metadata": {},
     "output_type": "display_data"
    }
   ],
   "source": [
    "# DO NOT CHANGE THIS CELL \n",
    "plot_confusion_matrix(true, pred, classes=id2label.values())"
   ]
  },
  {
   "cell_type": "markdown",
   "id": "a9604440dfb05da0",
   "metadata": {},
   "source": [
    "## 4. Simple Deep Averaging Networks (DAN) [5 points - Programming + 3 points - Non-programming]"
   ]
  },
  {
   "cell_type": "markdown",
   "id": "b0c5bd67",
   "metadata": {},
   "source": [
    "Now, let's look at how to improve performance of the NBOW model. One such way without drastically changing the model complexity is DAN.\n",
    "\n",
    "The core idea of a DAN is to simplify the process of understanding text by averaging the embeddings of words in a sentence or document. This creates a single vector representation that captures the overall meaning of the text.\n",
    "\n",
    "In implementation, a DAN typically involves the following steps:\n",
    "\n",
    "1. Convert each token into an embedding.\n",
    "2. Average these embeddings to create a single vector that represents the entire document.\n",
    "3. Pass this averaged vector through one hidden fully connected neural network layer.\n",
    "4. Use ReLU activation\n",
    "5. Use the output of these layers for tasks like classification.\n",
    "\n",
    "This approach is simpler and often faster than more complex architectures like LSTMs or Transformers, while still providing robust performance for many tasks. However, it might not capture nuances in language as effectively as these more complex models.\n",
    "\n",
    "*NOTE*: Use the same approach to handle pad_tokens as you used in NBOW."
   ]
  },
  {
   "cell_type": "markdown",
   "id": "260eb012",
   "metadata": {},
   "source": [
    "### 4.1. Model Definition [3 points - Programming]\n",
    "\n",
    "In the following cell, define the architecture of a DAN in the same way as you implemented NBOW-RAND in Section 2 with. Use the following image as a reference along with Section 3 and Figure 1 (right) of [this paper](https://www.aclweb.org/anthology/P15-1162.pdf).\n",
    "\n",
    "Refer to the following equation on how to define DAN -\n",
    "\n",
    "\n",
    "$$ h_{avg} = \\frac{1}{n} \\sum_t emb(x_t) $$\n",
    "\n",
    "$$ h_2 = (w_1h_{avg}) $$\n",
    "\n",
    "$$ h'_{2} = max(0, h_2) $$\n",
    "\n",
    "The probability of a data instance belonging to class $y_i$ is given by:\n",
    "\n",
    "$$ p(y|x) = softmax(w_2^T h'_{2} + b) $$\n",
    "\n",
    "where $w \\in R^d$ is a parameter vector.\n",
    "\n",
    "*Hint*: Make sure to handle the case where the input contains pad tokens. We don't want to consider them in our average.\n"
   ]
  },
  {
   "cell_type": "code",
   "execution_count": 378,
   "id": "c142df6f",
   "metadata": {
    "ExecuteTime": {
     "end_time": "2024-09-06T13:45:06.583458Z",
     "start_time": "2024-09-06T13:45:06.573213Z"
    }
   },
   "outputs": [],
   "source": [
    "# export\n",
    "class DAN(nn.Module):\n",
    "    # Instantiate layers for your model-\n",
    "    #\n",
    "    # Your model architecture will be a feed-forward neural network.\n",
    "    #\n",
    "    # You'll need 5 nn.Modules:\n",
    "    # 1. An embeddings layer (see nn.Embedding)\n",
    "    # 2. A linear layer (see nn.Linear)\n",
    "    # 3. A ReLU activation (see nn.ReLU)\n",
    "    # 4. A linear layer (see nn.Linear)\n",
    "    #\n",
    "    def __init__(self, vocab_size, embedding_dim, hidden_dim, num_classes=20):\n",
    "        # voab_size is the size of the vocabulary\n",
    "        # use bias in your hidden layer\n",
    "        # embedding_dim is the dimension of the word embeddings\n",
    "        # hidden_dim is the dimension of the hidden layer outputs, i.e., the 2nd module as per the definition above\n",
    "        super().__init__()\n",
    "        ## YOUR CODE STARTS HERE ##\n",
    "    \n",
    "        self.vocab_size = vocab_size\n",
    "        self.embedding_dim = embedding_dim\n",
    "        self.hidden_dim = hidden_dim\n",
    "        self.num_classes = num_classes\n",
    "\n",
    "        self.embedding = nn.Embedding(vocab_size, embedding_dim) # 2 x 5\n",
    "        self.hidden = nn.Linear(embedding_dim, hidden_dim) # 1 x 3\n",
    "        self.relu = nn.ReLU()\n",
    "        self.linear = nn.Linear(hidden_dim, num_classes)\n",
    "\n",
    "        ## YOUR CODE ENDS HERE ##\n",
    "\n",
    "    # Complete the forward pass of the model.\n",
    "    #\n",
    "    # Use the output of the embedding layer to create\n",
    "    # the average vector, which will be input into the\n",
    "    # linear layer.\n",
    "    #\n",
    "    # args:\n",
    "    # x - 2D LongTensor of shape (BATCH_SIZE, max len of all tokenized_word_tensor))\n",
    "    #     This is the same output that comes out of the collate_fn function you completed\n",
    "    def forward(self, x):\n",
    "        ## YOUR CODE STARTS HERE ##\n",
    "        hidden = self.get_hidden(x) \n",
    "        relu_out = self.relu(hidden) \n",
    "        return self.linear(relu_out)  \n",
    "\n",
    "        ## YOUR CODE ENDS HERE ##\n",
    "    \n",
    "    def get_embeddings(self, x):\n",
    "        '''\n",
    "        This function returns the embeddings of the input x\n",
    "        '''\n",
    "        ### YOUR CODE STARTS HERE ###\n",
    "        \n",
    "        return self.embedding(x)\n",
    "\n",
    "        ### YOUR CODE ENDS HERE ###\n",
    "    \n",
    "    def set_embedding_weight(self, weight):\n",
    "        '''\n",
    "        This function sets the embedding weights to the input weight ensure you aren't recording gradients for this\n",
    "        Args:\n",
    "            weight: torch.tensor of shape (vocab_size, embedding_dim)\n",
    "        '''\n",
    "        ### YOUR CODE STARTS HERE ###\n",
    "\n",
    "        self.embedding.weight = nn.Parameter(weight, requires_grad=False)\n",
    "        \n",
    "        ### YOUR CODE ENDS HERE ###\n",
    "    \n",
    "    def get_hidden(self, x):\n",
    "        '''\n",
    "        This function returns the embeddings of the input x\n",
    "        '''\n",
    "        ### YOUR CODE STARTS HERE ###\n",
    "\n",
    "        embeddings = self.get_embeddings(x)\n",
    "\n",
    "        mask = (x!= PADDING_VALUE)\n",
    "\n",
    "        # Count the number of non-padding tokens in each sequence for averaging later\n",
    "        num_non_pads = mask.sum(dim=1).unsqueeze(-1)\n",
    "\n",
    "        # Apply the mask to the embeddings\n",
    "        embeddings = embeddings * mask.unsqueeze(-1) \n",
    "\n",
    "        avg_embeddings = embeddings.sum(dim=1)/num_non_pads # gives batch_size x 1\n",
    "    \n",
    "        return self.hidden(avg_embeddings)\n",
    "\n",
    "        ### YOUR CODE ENDS HERE ###\n",
    "    \n",
    "    def set_hidden_weight(self, weight, bias):\n",
    "        '''\n",
    "        This function sets the embedding weights to the input weight ensure you aren't recording gradients for this\n",
    "        Args:\n",
    "            weight: torch.tensor of shape (embedding_dim, hidden_dim)\n",
    "            bias: torch.tensor of shape (1, hidden_dim)\n",
    "        '''\n",
    "        ### YOUR CODE STARTS HERE ###\n",
    "        \n",
    "        self.hidden.weight = nn.Parameter(weight, requires_grad=False)\n",
    "        self.hidden.bias = nn.Parameter(bias.view(-1), requires_grad=False)\n",
    "\n",
    "        ### YOUR CODE ENDS HERE ###\n"
   ]
  },
  {
   "cell_type": "code",
   "execution_count": 379,
   "id": "c7bcaf9910149a3e",
   "metadata": {
    "ExecuteTime": {
     "end_time": "2024-09-06T13:58:46.013995Z",
     "start_time": "2024-09-06T13:58:46.005274Z"
    }
   },
   "outputs": [
    {
     "name": "stdout",
     "output_type": "stream",
     "text": [
      "Passed local embedding test\n",
      "Passed local hidden layer test\n"
     ]
    }
   ],
   "source": [
    "# local test for sanity:\n",
    "# DO NOT CHANGE THIS CELL\n",
    "def dan_test_local_embeddings():\n",
    "    embedding_dim = 3\n",
    "    vocab_size = 5\n",
    "    model = DAN(embedding_dim=embedding_dim, vocab_size=vocab_size, hidden_dim=10)\n",
    "    model.set_embedding_weight(torch.arange(15).reshape(5,3) / 50)\n",
    "    embeddings = model.get_embeddings(torch.tensor([[1,2,3,4,1],[1,2,3,0,0]]))\n",
    "    correct_embeddings = torch.tensor([[[0.0600, 0.0800, 0.1000],\n",
    "                                        [0.1200, 0.1400, 0.1600],\n",
    "                                        [0.1800, 0.2000, 0.2200],\n",
    "                                        [0.2400, 0.2600, 0.2800],\n",
    "                                        [0.0600, 0.0800, 0.1000]],\n",
    "\n",
    "                                        [[0.0600, 0.0800, 0.1000],\n",
    "                                        [0.1200, 0.1400, 0.1600],\n",
    "                                        [0.1800, 0.2000, 0.2200],\n",
    "                                        [0.0000, 0.0200, 0.0400],\n",
    "                                        [0.0000, 0.0200, 0.0400]]])\n",
    "    if torch.allclose(embeddings, correct_embeddings, rtol=0.001):\n",
    "        print(\"Passed local embedding test\")\n",
    "    else:\n",
    "        print(f\"Embedding Test failed, expected value was\\n{correct_embeddings}\\nbut you got:\\n{embeddings}\")\n",
    "    \n",
    "def dan_test_local_hidden_layer():\n",
    "    vocab_size = 5\n",
    "    embedding_dim = 3\n",
    "    hidden_dim = 3\n",
    "    \n",
    "    model = DAN(vocab_size, embedding_dim, hidden_dim)\n",
    "    model.set_embedding_weight(torch.arange(15).reshape(5,3) / 50)\n",
    "    model.set_hidden_weight(torch.arange(9).reshape(embedding_dim, hidden_dim) / 50, torch.arange(3).reshape(1, hidden_dim) / 50)\n",
    "    \n",
    "    output = model.get_hidden(torch.tensor([[1,2,3,4,1],[1,2,3,0,0]]))\n",
    "    correct_output = torch.tensor([[0.0099, 0.0573, 0.1046],\n",
    "                                    [0.0092, 0.0544, 0.0996]])\n",
    "    \n",
    "    if torch.allclose(output, correct_output, atol=0.001):\n",
    "        print(\"Passed local hidden layer test\")\n",
    "    else:\n",
    "        print(f\"Embedding Test failed, expected value was\\n{correct_output}\\nbut you got:\\n{output}\")\n",
    "\n",
    "dan_test_local_embeddings()\n",
    "dan_test_local_hidden_layer()"
   ]
  },
  {
   "cell_type": "markdown",
   "id": "7774e866",
   "metadata": {},
   "source": [
    "### 4.2. DAN Training [3 points - Non-programming]\n",
    "\n",
    "In this section (and all later sections), you will leverage the same functions defined in Section 3 to train your DAN. To do this, simply initialize your DAN Model and pass that object to the training and evaluation loop to train your model.\n",
    "\n",
    "Assign and tune the below hyperparameters to optimize your model"
   ]
  },
  {
   "cell_type": "code",
   "execution_count": 380,
   "id": "a67e812e",
   "metadata": {
    "ExecuteTime": {
     "end_time": "2024-09-06T13:58:47.917291Z",
     "start_time": "2024-09-06T13:58:47.914036Z"
    }
   },
   "outputs": [],
   "source": [
    "# export\n",
    "def get_dan_model(vocab_size, embedding_dim, hidden_dim):\n",
    "    \"\"\"\n",
    "    This function returns an instance of the DAN model. Initialize the DAN model here and return it. Note that the hidden_dim will be the dimension of the hidden layer in DAN.\n",
    "    \"\"\"\n",
    "    ## YOUR CODE STARTS HERE ##\n",
    "\n",
    "    model = DAN(vocab_size=vocab_size, embedding_dim=embedding_dim, hidden_dim=hidden_dim)\n",
    "\n",
    "    ## YOUR CODE ENDS HERE ##\n",
    "    return model"
   ]
  },
  {
   "cell_type": "code",
   "execution_count": 381,
   "id": "715ffda1",
   "metadata": {
    "ExecuteTime": {
     "end_time": "2024-09-06T13:58:48.958313Z",
     "start_time": "2024-09-06T13:58:48.955593Z"
    }
   },
   "outputs": [],
   "source": [
    "#export\n",
    "# Assign hyperparameters and training parameters\n",
    "# Experiment with different values for these hyperparaters to optimize your model's performance\n",
    "def get_hyperparams_dan():\n",
    "  ### your hyper parameters\n",
    "    learning_rate = 0.001\n",
    "    epochs = 100\n",
    "    hidden_layer_dimensions = 64\n",
    "    embedding_dim = 64\n",
    "    ### \n",
    "    return learning_rate, epochs, hidden_layer_dimensions, embedding_dim\n"
   ]
  },
  {
   "cell_type": "code",
   "execution_count": 382,
   "id": "ec5e8143",
   "metadata": {
    "ExecuteTime": {
     "end_time": "2024-09-06T13:59:29.633396Z",
     "start_time": "2024-09-06T13:58:50.611200Z"
    }
   },
   "outputs": [
    {
     "name": "stderr",
     "output_type": "stream",
     "text": [
      "Training Model: 100%|██████████| 118/118 [00:01<00:00, 114.42it/s]\n",
      "Evaluating Model: 100%|██████████| 15/15 [00:00<00:00, 142.90it/s]\n"
     ]
    },
    {
     "name": "stdout",
     "output_type": "stream",
     "text": [
      "Epoch 1 -- Train_Loss: 2.9529657222456853 -- Val_Loss: 2.869205617904663 -- Val_Accuracy: 0.0986737400530504 -- Val_F1: 0.041255679141693556\n"
     ]
    },
    {
     "name": "stderr",
     "output_type": "stream",
     "text": [
      "Training Model: 100%|██████████| 118/118 [00:00<00:00, 120.81it/s]\n",
      "Evaluating Model: 100%|██████████| 15/15 [00:00<00:00, 142.63it/s]\n"
     ]
    },
    {
     "name": "stdout",
     "output_type": "stream",
     "text": [
      "Epoch 2 -- Train_Loss: 2.7419474529007735 -- Val_Loss: 2.6047747770945233 -- Val_Accuracy: 0.1989389920424403 -- Val_F1: 0.1444312494012933\n"
     ]
    },
    {
     "name": "stderr",
     "output_type": "stream",
     "text": [
      "Training Model: 100%|██████████| 118/118 [00:00<00:00, 122.09it/s]\n",
      "Evaluating Model: 100%|██████████| 15/15 [00:00<00:00, 143.61it/s]\n"
     ]
    },
    {
     "name": "stdout",
     "output_type": "stream",
     "text": [
      "Epoch 3 -- Train_Loss: 2.426673996246467 -- Val_Loss: 2.2701159636179606 -- Val_Accuracy: 0.30822281167108756 -- Val_F1: 0.26094647190160636\n"
     ]
    },
    {
     "name": "stderr",
     "output_type": "stream",
     "text": [
      "Training Model: 100%|██████████| 118/118 [00:00<00:00, 121.76it/s]\n",
      "Evaluating Model: 100%|██████████| 15/15 [00:00<00:00, 135.43it/s]\n"
     ]
    },
    {
     "name": "stdout",
     "output_type": "stream",
     "text": [
      "Epoch 4 -- Train_Loss: 2.0538963251194713 -- Val_Loss: 1.9510243256886801 -- Val_Accuracy: 0.41909814323607425 -- Val_F1: 0.39739597505270885\n"
     ]
    },
    {
     "name": "stderr",
     "output_type": "stream",
     "text": [
      "Training Model: 100%|██████████| 118/118 [00:00<00:00, 120.14it/s]\n",
      "Evaluating Model: 100%|██████████| 15/15 [00:00<00:00, 146.73it/s]\n"
     ]
    },
    {
     "name": "stdout",
     "output_type": "stream",
     "text": [
      "Epoch 5 -- Train_Loss: 1.7083806233890986 -- Val_Loss: 1.674237028757731 -- Val_Accuracy: 0.5055702917771884 -- Val_F1: 0.4782557977105964\n"
     ]
    },
    {
     "name": "stderr",
     "output_type": "stream",
     "text": [
      "Training Model: 100%|██████████| 118/118 [00:00<00:00, 121.46it/s]\n",
      "Evaluating Model: 100%|██████████| 15/15 [00:00<00:00, 142.63it/s]\n"
     ]
    },
    {
     "name": "stdout",
     "output_type": "stream",
     "text": [
      "Epoch 6 -- Train_Loss: 1.4087630247665663 -- Val_Loss: 1.4383970975875855 -- Val_Accuracy: 0.5787798408488064 -- Val_F1: 0.5568003346937712\n"
     ]
    },
    {
     "name": "stderr",
     "output_type": "stream",
     "text": [
      "Training Model: 100%|██████████| 118/118 [00:00<00:00, 121.99it/s]\n",
      "Evaluating Model: 100%|██████████| 15/15 [00:00<00:00, 143.69it/s]\n"
     ]
    },
    {
     "name": "stdout",
     "output_type": "stream",
     "text": [
      "Epoch 7 -- Train_Loss: 1.149504793397451 -- Val_Loss: 1.239076550801595 -- Val_Accuracy: 0.6350132625994694 -- Val_F1: 0.6133376904430962\n"
     ]
    },
    {
     "name": "stderr",
     "output_type": "stream",
     "text": [
      "Training Model: 100%|██████████| 118/118 [00:01<00:00, 114.35it/s]\n",
      "Evaluating Model: 100%|██████████| 15/15 [00:00<00:00, 146.38it/s]\n"
     ]
    },
    {
     "name": "stdout",
     "output_type": "stream",
     "text": [
      "Epoch 8 -- Train_Loss: 0.9358255312604419 -- Val_Loss: 1.076077409585317 -- Val_Accuracy: 0.6907161803713527 -- Val_F1: 0.6785894864406791\n"
     ]
    },
    {
     "name": "stderr",
     "output_type": "stream",
     "text": [
      "Training Model: 100%|██████████| 118/118 [00:00<00:00, 125.25it/s]\n",
      "Evaluating Model: 100%|██████████| 15/15 [00:00<00:00, 144.37it/s]\n"
     ]
    },
    {
     "name": "stdout",
     "output_type": "stream",
     "text": [
      "Epoch 9 -- Train_Loss: 0.7635404891886953 -- Val_Loss: 0.9608322342236837 -- Val_Accuracy: 0.7262599469496022 -- Val_F1: 0.7208261610102411\n"
     ]
    },
    {
     "name": "stderr",
     "output_type": "stream",
     "text": [
      "Training Model: 100%|██████████| 118/118 [00:00<00:00, 121.52it/s]\n",
      "Evaluating Model: 100%|██████████| 15/15 [00:00<00:00, 145.64it/s]\n"
     ]
    },
    {
     "name": "stdout",
     "output_type": "stream",
     "text": [
      "Epoch 10 -- Train_Loss: 0.6246216231483525 -- Val_Loss: 0.8504474759101868 -- Val_Accuracy: 0.7559681697612732 -- Val_F1: 0.7496340789337815\n"
     ]
    },
    {
     "name": "stderr",
     "output_type": "stream",
     "text": [
      "Training Model: 100%|██████████| 118/118 [00:00<00:00, 120.19it/s]\n",
      "Evaluating Model: 100%|██████████| 15/15 [00:00<00:00, 143.07it/s]\n"
     ]
    },
    {
     "name": "stdout",
     "output_type": "stream",
     "text": [
      "Epoch 11 -- Train_Loss: 0.5128869197126162 -- Val_Loss: 0.7823451240857442 -- Val_Accuracy: 0.7687002652519894 -- Val_F1: 0.7640396133930857\n"
     ]
    },
    {
     "name": "stderr",
     "output_type": "stream",
     "text": [
      "Training Model: 100%|██████████| 118/118 [00:00<00:00, 120.51it/s]\n",
      "Evaluating Model: 100%|██████████| 15/15 [00:00<00:00, 143.89it/s]\n"
     ]
    },
    {
     "name": "stdout",
     "output_type": "stream",
     "text": [
      "Epoch 12 -- Train_Loss: 0.4230769652936418 -- Val_Loss: 0.7169777115186056 -- Val_Accuracy: 0.7904509283819628 -- Val_F1: 0.7869329005730631\n"
     ]
    },
    {
     "name": "stderr",
     "output_type": "stream",
     "text": [
      "Training Model: 100%|██████████| 118/118 [00:01<00:00, 115.95it/s]\n",
      "Evaluating Model: 100%|██████████| 15/15 [00:00<00:00, 133.34it/s]\n"
     ]
    },
    {
     "name": "stdout",
     "output_type": "stream",
     "text": [
      "Epoch 13 -- Train_Loss: 0.3500293712999861 -- Val_Loss: 0.6714272220929464 -- Val_Accuracy: 0.8010610079575596 -- Val_F1: 0.7963845640138222\n"
     ]
    },
    {
     "name": "stderr",
     "output_type": "stream",
     "text": [
      "Training Model: 100%|██████████| 118/118 [00:01<00:00, 114.69it/s]\n",
      "Evaluating Model: 100%|██████████| 15/15 [00:00<00:00, 139.97it/s]\n"
     ]
    },
    {
     "name": "stdout",
     "output_type": "stream",
     "text": [
      "Epoch 14 -- Train_Loss: 0.2906356668573315 -- Val_Loss: 0.6322375456492106 -- Val_Accuracy: 0.813262599469496 -- Val_F1: 0.8108517261917138\n"
     ]
    },
    {
     "name": "stderr",
     "output_type": "stream",
     "text": [
      "Training Model: 100%|██████████| 118/118 [00:00<00:00, 122.20it/s]\n",
      "Evaluating Model: 100%|██████████| 15/15 [00:00<00:00, 151.82it/s]\n"
     ]
    },
    {
     "name": "stdout",
     "output_type": "stream",
     "text": [
      "Epoch 15 -- Train_Loss: 0.24163918121386382 -- Val_Loss: 0.6072461128234863 -- Val_Accuracy: 0.8238726790450929 -- Val_F1: 0.8211485841461823\n"
     ]
    },
    {
     "name": "stderr",
     "output_type": "stream",
     "text": [
      "Training Model: 100%|██████████| 118/118 [00:01<00:00, 114.68it/s]\n",
      "Evaluating Model: 100%|██████████| 15/15 [00:00<00:00, 138.22it/s]\n"
     ]
    },
    {
     "name": "stdout",
     "output_type": "stream",
     "text": [
      "Epoch 16 -- Train_Loss: 0.202464283522913 -- Val_Loss: 0.5871737480163575 -- Val_Accuracy: 0.8228116710875332 -- Val_F1: 0.8208265271536194\n"
     ]
    },
    {
     "name": "stderr",
     "output_type": "stream",
     "text": [
      "Training Model: 100%|██████████| 118/118 [00:01<00:00, 114.28it/s]\n",
      "Evaluating Model: 100%|██████████| 15/15 [00:00<00:00, 144.79it/s]\n"
     ]
    },
    {
     "name": "stdout",
     "output_type": "stream",
     "text": [
      "Epoch 17 -- Train_Loss: 0.1691844006842476 -- Val_Loss: 0.5712901830673218 -- Val_Accuracy: 0.8307692307692308 -- Val_F1: 0.8281883261332672\n"
     ]
    },
    {
     "name": "stderr",
     "output_type": "stream",
     "text": [
      "Training Model: 100%|██████████| 118/118 [00:00<00:00, 119.07it/s]\n",
      "Evaluating Model: 100%|██████████| 15/15 [00:00<00:00, 139.32it/s]\n"
     ]
    },
    {
     "name": "stdout",
     "output_type": "stream",
     "text": [
      "Epoch 18 -- Train_Loss: 0.1418538031057786 -- Val_Loss: 0.5569010674953461 -- Val_Accuracy: 0.83342175066313 -- Val_F1: 0.8299037777404873\n"
     ]
    },
    {
     "name": "stderr",
     "output_type": "stream",
     "text": [
      "Training Model: 100%|██████████| 118/118 [00:00<00:00, 120.33it/s]\n",
      "Evaluating Model: 100%|██████████| 15/15 [00:00<00:00, 142.89it/s]\n"
     ]
    },
    {
     "name": "stdout",
     "output_type": "stream",
     "text": [
      "Epoch 19 -- Train_Loss: 0.11879563691504931 -- Val_Loss: 0.5395357449849446 -- Val_Accuracy: 0.8355437665782494 -- Val_F1: 0.8331372902411669\n"
     ]
    },
    {
     "name": "stderr",
     "output_type": "stream",
     "text": [
      "Training Model: 100%|██████████| 118/118 [00:00<00:00, 119.85it/s]\n",
      "Evaluating Model: 100%|██████████| 15/15 [00:00<00:00, 139.98it/s]\n"
     ]
    },
    {
     "name": "stdout",
     "output_type": "stream",
     "text": [
      "Epoch 20 -- Train_Loss: 0.09989350589023809 -- Val_Loss: 0.5314420600732167 -- Val_Accuracy: 0.8413793103448276 -- Val_F1: 0.8388728833199366\n"
     ]
    },
    {
     "name": "stderr",
     "output_type": "stream",
     "text": [
      "Training Model: 100%|██████████| 118/118 [00:01<00:00, 115.16it/s]\n",
      "Evaluating Model: 100%|██████████| 15/15 [00:00<00:00, 135.49it/s]\n"
     ]
    },
    {
     "name": "stdout",
     "output_type": "stream",
     "text": [
      "Epoch 21 -- Train_Loss: 0.08415602318058579 -- Val_Loss: 0.5224226832389831 -- Val_Accuracy: 0.8424403183023873 -- Val_F1: 0.8402196305830752\n"
     ]
    },
    {
     "name": "stderr",
     "output_type": "stream",
     "text": [
      "Training Model: 100%|██████████| 118/118 [00:00<00:00, 120.19it/s]\n",
      "Evaluating Model: 100%|██████████| 15/15 [00:00<00:00, 149.90it/s]\n"
     ]
    },
    {
     "name": "stdout",
     "output_type": "stream",
     "text": [
      "Epoch 22 -- Train_Loss: 0.07094908991860131 -- Val_Loss: 0.5217297573884329 -- Val_Accuracy: 0.8419098143236075 -- Val_F1: 0.8399556413742305\n"
     ]
    },
    {
     "name": "stderr",
     "output_type": "stream",
     "text": [
      "Training Model: 100%|██████████| 118/118 [00:00<00:00, 124.58it/s]\n",
      "Evaluating Model: 100%|██████████| 15/15 [00:00<00:00, 150.47it/s]\n"
     ]
    },
    {
     "name": "stdout",
     "output_type": "stream",
     "text": [
      "Epoch 23 -- Train_Loss: 0.05976412603158062 -- Val_Loss: 0.5160642604033152 -- Val_Accuracy: 0.843501326259947 -- Val_F1: 0.8413868624250613\n"
     ]
    },
    {
     "name": "stderr",
     "output_type": "stream",
     "text": [
      "Training Model: 100%|██████████| 118/118 [00:00<00:00, 127.89it/s]\n",
      "Evaluating Model: 100%|██████████| 15/15 [00:00<00:00, 144.81it/s]\n"
     ]
    },
    {
     "name": "stdout",
     "output_type": "stream",
     "text": [
      "Epoch 24 -- Train_Loss: 0.050604248198412236 -- Val_Loss: 0.5124892075856526 -- Val_Accuracy: 0.8493368700265252 -- Val_F1: 0.846650323506465\n"
     ]
    },
    {
     "name": "stderr",
     "output_type": "stream",
     "text": [
      "Training Model: 100%|██████████| 118/118 [00:00<00:00, 127.51it/s]\n",
      "Evaluating Model: 100%|██████████| 15/15 [00:00<00:00, 151.32it/s]\n"
     ]
    },
    {
     "name": "stdout",
     "output_type": "stream",
     "text": [
      "Epoch 25 -- Train_Loss: 0.04296699355719453 -- Val_Loss: 0.5168835580348968 -- Val_Accuracy: 0.849867374005305 -- Val_F1: 0.8473626575146715\n"
     ]
    },
    {
     "name": "stderr",
     "output_type": "stream",
     "text": [
      "Training Model: 100%|██████████| 118/118 [00:00<00:00, 127.15it/s]\n",
      "Evaluating Model: 100%|██████████| 15/15 [00:00<00:00, 151.19it/s]\n"
     ]
    },
    {
     "name": "stdout",
     "output_type": "stream",
     "text": [
      "Epoch 26 -- Train_Loss: 0.03654275368899107 -- Val_Loss: 0.5128443082173665 -- Val_Accuracy: 0.8557029177718833 -- Val_F1: 0.8538985024140471\n"
     ]
    },
    {
     "name": "stderr",
     "output_type": "stream",
     "text": [
      "Training Model: 100%|██████████| 118/118 [00:00<00:00, 125.80it/s]\n",
      "Evaluating Model: 100%|██████████| 15/15 [00:00<00:00, 148.14it/s]\n"
     ]
    },
    {
     "name": "stdout",
     "output_type": "stream",
     "text": [
      "Epoch 27 -- Train_Loss: 0.03120173211604104 -- Val_Loss: 0.5195033391316731 -- Val_Accuracy: 0.8519893899204244 -- Val_F1: 0.8489820156788663\n"
     ]
    },
    {
     "name": "stderr",
     "output_type": "stream",
     "text": [
      "Training Model: 100%|██████████| 118/118 [00:00<00:00, 124.81it/s]\n",
      "Evaluating Model: 100%|██████████| 15/15 [00:00<00:00, 148.33it/s]\n"
     ]
    },
    {
     "name": "stdout",
     "output_type": "stream",
     "text": [
      "Epoch 28 -- Train_Loss: 0.026781376569642353 -- Val_Loss: 0.5117274522781372 -- Val_Accuracy: 0.8551724137931035 -- Val_F1: 0.852957036586236\n"
     ]
    },
    {
     "name": "stderr",
     "output_type": "stream",
     "text": [
      "Training Model: 100%|██████████| 118/118 [00:00<00:00, 122.84it/s]\n",
      "Evaluating Model: 100%|██████████| 15/15 [00:00<00:00, 134.69it/s]\n"
     ]
    },
    {
     "name": "stdout",
     "output_type": "stream",
     "text": [
      "Epoch 29 -- Train_Loss: 0.023167584904359054 -- Val_Loss: 0.5162407596906026 -- Val_Accuracy: 0.8567639257294429 -- Val_F1: 0.8550089498326484\n"
     ]
    },
    {
     "name": "stderr",
     "output_type": "stream",
     "text": [
      "Training Model: 100%|██████████| 118/118 [00:00<00:00, 119.02it/s]\n",
      "Evaluating Model: 100%|██████████| 15/15 [00:00<00:00, 139.09it/s]\n"
     ]
    },
    {
     "name": "stdout",
     "output_type": "stream",
     "text": [
      "Epoch 30 -- Train_Loss: 0.020113490119387033 -- Val_Loss: 0.515299544731776 -- Val_Accuracy: 0.8567639257294429 -- Val_F1: 0.854118344720099\n"
     ]
    },
    {
     "name": "stderr",
     "output_type": "stream",
     "text": [
      "Training Model: 100%|██████████| 118/118 [00:00<00:00, 118.93it/s]\n",
      "Evaluating Model: 100%|██████████| 15/15 [00:00<00:00, 136.16it/s]\n"
     ]
    },
    {
     "name": "stdout",
     "output_type": "stream",
     "text": [
      "Epoch 31 -- Train_Loss: 0.01750246557738569 -- Val_Loss: 0.5225182394186656 -- Val_Accuracy: 0.8567639257294429 -- Val_F1: 0.8544046628177769\n"
     ]
    },
    {
     "name": "stderr",
     "output_type": "stream",
     "text": [
      "Training Model: 100%|██████████| 118/118 [00:01<00:00, 116.06it/s]\n",
      "Evaluating Model: 100%|██████████| 15/15 [00:00<00:00, 150.11it/s]\n"
     ]
    },
    {
     "name": "stdout",
     "output_type": "stream",
     "text": [
      "Epoch 32 -- Train_Loss: 0.015280898202652647 -- Val_Loss: 0.523122376203537 -- Val_Accuracy: 0.8567639257294429 -- Val_F1: 0.855177819240763\n"
     ]
    },
    {
     "name": "stderr",
     "output_type": "stream",
     "text": [
      "Training Model: 100%|██████████| 118/118 [00:00<00:00, 126.75it/s]\n",
      "Evaluating Model: 100%|██████████| 15/15 [00:00<00:00, 143.37it/s]\n"
     ]
    },
    {
     "name": "stdout",
     "output_type": "stream",
     "text": [
      "Epoch 33 -- Train_Loss: 0.013450508222962588 -- Val_Loss: 0.5195671359697978 -- Val_Accuracy: 0.8615384615384616 -- Val_F1: 0.8595635055917048\n"
     ]
    },
    {
     "name": "stderr",
     "output_type": "stream",
     "text": [
      "Training Model: 100%|██████████| 118/118 [00:00<00:00, 125.46it/s]\n",
      "Evaluating Model: 100%|██████████| 15/15 [00:00<00:00, 141.93it/s]\n"
     ]
    },
    {
     "name": "stdout",
     "output_type": "stream",
     "text": [
      "Epoch 34 -- Train_Loss: 0.011862186123064514 -- Val_Loss: 0.5283705492814382 -- Val_Accuracy: 0.8604774535809019 -- Val_F1: 0.8586351844665104\n"
     ]
    },
    {
     "name": "stderr",
     "output_type": "stream",
     "text": [
      "Training Model: 100%|██████████| 118/118 [00:00<00:00, 125.41it/s]\n",
      "Evaluating Model: 100%|██████████| 15/15 [00:00<00:00, 150.10it/s]\n"
     ]
    },
    {
     "name": "stdout",
     "output_type": "stream",
     "text": [
      "Epoch 35 -- Train_Loss: 0.010635692417084917 -- Val_Loss: 0.5304999272028605 -- Val_Accuracy: 0.8578249336870026 -- Val_F1: 0.8561253480661651\n"
     ]
    },
    {
     "name": "stderr",
     "output_type": "stream",
     "text": [
      "Training Model: 100%|██████████| 118/118 [00:00<00:00, 128.35it/s]\n",
      "Evaluating Model: 100%|██████████| 15/15 [00:00<00:00, 153.23it/s]\n"
     ]
    },
    {
     "name": "stdout",
     "output_type": "stream",
     "text": [
      "Epoch 36 -- Train_Loss: 0.009412248318983336 -- Val_Loss: 0.5284222682317098 -- Val_Accuracy: 0.8625994694960212 -- Val_F1: 0.8608027975820972\n"
     ]
    },
    {
     "name": "stderr",
     "output_type": "stream",
     "text": [
      "Training Model: 100%|██████████| 118/118 [00:00<00:00, 126.10it/s]\n",
      "Evaluating Model: 100%|██████████| 15/15 [00:00<00:00, 148.67it/s]\n"
     ]
    },
    {
     "name": "stdout",
     "output_type": "stream",
     "text": [
      "Epoch 37 -- Train_Loss: 0.008352562591780797 -- Val_Loss: 0.5259868919849395 -- Val_Accuracy: 0.8636604774535809 -- Val_F1: 0.8613981723587563\n"
     ]
    },
    {
     "name": "stderr",
     "output_type": "stream",
     "text": [
      "Training Model: 100%|██████████| 118/118 [00:01<00:00, 117.66it/s]\n",
      "Evaluating Model: 100%|██████████| 15/15 [00:00<00:00, 151.59it/s]\n"
     ]
    },
    {
     "name": "stdout",
     "output_type": "stream",
     "text": [
      "Epoch 38 -- Train_Loss: 0.007617446092762432 -- Val_Loss: 0.5363359014193217 -- Val_Accuracy: 0.8604774535809019 -- Val_F1: 0.8585219774583175\n"
     ]
    },
    {
     "name": "stderr",
     "output_type": "stream",
     "text": [
      "Training Model: 100%|██████████| 118/118 [00:00<00:00, 121.94it/s]\n",
      "Evaluating Model: 100%|██████████| 15/15 [00:00<00:00, 145.29it/s]\n"
     ]
    },
    {
     "name": "stdout",
     "output_type": "stream",
     "text": [
      "Epoch 39 -- Train_Loss: 0.00693617828221897 -- Val_Loss: 0.5384610017140706 -- Val_Accuracy: 0.8610079575596817 -- Val_F1: 0.8594398404671375\n"
     ]
    },
    {
     "name": "stderr",
     "output_type": "stream",
     "text": [
      "Training Model: 100%|██████████| 118/118 [00:00<00:00, 125.76it/s]\n",
      "Evaluating Model: 100%|██████████| 15/15 [00:00<00:00, 146.38it/s]\n"
     ]
    },
    {
     "name": "stdout",
     "output_type": "stream",
     "text": [
      "Epoch 40 -- Train_Loss: 0.0063771985755380935 -- Val_Loss: 0.5368834575017293 -- Val_Accuracy: 0.863129973474801 -- Val_F1: 0.8613842113326795\n"
     ]
    },
    {
     "name": "stderr",
     "output_type": "stream",
     "text": [
      "Training Model: 100%|██████████| 118/118 [00:00<00:00, 130.18it/s]\n",
      "Evaluating Model: 100%|██████████| 15/15 [00:00<00:00, 152.13it/s]\n"
     ]
    },
    {
     "name": "stdout",
     "output_type": "stream",
     "text": [
      "Epoch 41 -- Train_Loss: 0.005620975670862501 -- Val_Loss: 0.5420555690924327 -- Val_Accuracy: 0.8620689655172413 -- Val_F1: 0.8600250049522342\n"
     ]
    },
    {
     "name": "stderr",
     "output_type": "stream",
     "text": [
      "Training Model: 100%|██████████| 118/118 [00:00<00:00, 130.65it/s]\n",
      "Evaluating Model: 100%|██████████| 15/15 [00:00<00:00, 154.01it/s]\n"
     ]
    },
    {
     "name": "stdout",
     "output_type": "stream",
     "text": [
      "Epoch 42 -- Train_Loss: 0.005288454327116705 -- Val_Loss: 0.5467195371786754 -- Val_Accuracy: 0.8625994694960212 -- Val_F1: 0.8606542531062571\n"
     ]
    },
    {
     "name": "stderr",
     "output_type": "stream",
     "text": [
      "Training Model: 100%|██████████| 118/118 [00:00<00:00, 130.46it/s]\n",
      "Evaluating Model: 100%|██████████| 15/15 [00:00<00:00, 153.57it/s]\n"
     ]
    },
    {
     "name": "stdout",
     "output_type": "stream",
     "text": [
      "Epoch 43 -- Train_Loss: 0.004871563472927122 -- Val_Loss: 0.5486674745877583 -- Val_Accuracy: 0.8636604774535809 -- Val_F1: 0.8618474548684215\n"
     ]
    },
    {
     "name": "stderr",
     "output_type": "stream",
     "text": [
      "Training Model: 100%|██████████| 118/118 [00:00<00:00, 127.22it/s]\n",
      "Evaluating Model: 100%|██████████| 15/15 [00:00<00:00, 153.44it/s]\n"
     ]
    },
    {
     "name": "stdout",
     "output_type": "stream",
     "text": [
      "Epoch 44 -- Train_Loss: 0.004383446396154873 -- Val_Loss: 0.5441565056641896 -- Val_Accuracy: 0.86684350132626 -- Val_F1: 0.8644386784303475\n"
     ]
    },
    {
     "name": "stderr",
     "output_type": "stream",
     "text": [
      "Training Model: 100%|██████████| 118/118 [00:00<00:00, 129.62it/s]\n",
      "Evaluating Model: 100%|██████████| 15/15 [00:00<00:00, 154.20it/s]\n"
     ]
    },
    {
     "name": "stdout",
     "output_type": "stream",
     "text": [
      "Epoch 45 -- Train_Loss: 0.004069260112404571 -- Val_Loss: 0.5407962878545125 -- Val_Accuracy: 0.8673740053050398 -- Val_F1: 0.8650200160491204\n"
     ]
    },
    {
     "name": "stderr",
     "output_type": "stream",
     "text": [
      "Training Model: 100%|██████████| 118/118 [00:00<00:00, 127.58it/s]\n",
      "Evaluating Model: 100%|██████████| 15/15 [00:00<00:00, 133.93it/s]\n"
     ]
    },
    {
     "name": "stdout",
     "output_type": "stream",
     "text": [
      "Epoch 46 -- Train_Loss: 0.003863257800931332 -- Val_Loss: 0.5481567800045013 -- Val_Accuracy: 0.8641909814323607 -- Val_F1: 0.862196831582606\n"
     ]
    },
    {
     "name": "stderr",
     "output_type": "stream",
     "text": [
      "Training Model: 100%|██████████| 118/118 [00:00<00:00, 119.37it/s]\n",
      "Evaluating Model: 100%|██████████| 15/15 [00:00<00:00, 149.13it/s]\n"
     ]
    },
    {
     "name": "stdout",
     "output_type": "stream",
     "text": [
      "Epoch 47 -- Train_Loss: 0.003405427147823749 -- Val_Loss: 0.5463534474372864 -- Val_Accuracy: 0.8694960212201591 -- Val_F1: 0.8672461711842748\n"
     ]
    },
    {
     "name": "stderr",
     "output_type": "stream",
     "text": [
      "Training Model: 100%|██████████| 118/118 [00:01<00:00, 111.20it/s]\n",
      "Evaluating Model: 100%|██████████| 15/15 [00:00<00:00, 139.83it/s]\n"
     ]
    },
    {
     "name": "stdout",
     "output_type": "stream",
     "text": [
      "Epoch 48 -- Train_Loss: 0.0032607552919031706 -- Val_Loss: 0.5571573615074158 -- Val_Accuracy: 0.8636604774535809 -- Val_F1: 0.861346111369272\n"
     ]
    },
    {
     "name": "stderr",
     "output_type": "stream",
     "text": [
      "Training Model: 100%|██████████| 118/118 [00:00<00:00, 122.46it/s]\n",
      "Evaluating Model: 100%|██████████| 15/15 [00:00<00:00, 152.95it/s]\n"
     ]
    },
    {
     "name": "stdout",
     "output_type": "stream",
     "text": [
      "Epoch 49 -- Train_Loss: 0.003121770465533423 -- Val_Loss: 0.5651135961214702 -- Val_Accuracy: 0.8636604774535809 -- Val_F1: 0.861886790482304\n"
     ]
    },
    {
     "name": "stderr",
     "output_type": "stream",
     "text": [
      "Training Model: 100%|██████████| 118/118 [00:01<00:00, 114.42it/s]\n",
      "Evaluating Model: 100%|██████████| 15/15 [00:00<00:00, 139.85it/s]\n"
     ]
    },
    {
     "name": "stdout",
     "output_type": "stream",
     "text": [
      "Epoch 50 -- Train_Loss: 0.0028839793531776612 -- Val_Loss: 0.565399303038915 -- Val_Accuracy: 0.8663129973474801 -- Val_F1: 0.864795157700685\n"
     ]
    },
    {
     "name": "stderr",
     "output_type": "stream",
     "text": [
      "Training Model: 100%|██████████| 118/118 [00:01<00:00, 115.88it/s]\n",
      "Evaluating Model: 100%|██████████| 15/15 [00:00<00:00, 141.37it/s]\n"
     ]
    },
    {
     "name": "stdout",
     "output_type": "stream",
     "text": [
      "Epoch 51 -- Train_Loss: 0.0027354031937370485 -- Val_Loss: 0.5637051184972127 -- Val_Accuracy: 0.8625994694960212 -- Val_F1: 0.8606264652543263\n"
     ]
    },
    {
     "name": "stderr",
     "output_type": "stream",
     "text": [
      "Training Model: 100%|██████████| 118/118 [00:00<00:00, 125.98it/s]\n",
      "Evaluating Model: 100%|██████████| 15/15 [00:00<00:00, 144.99it/s]\n"
     ]
    },
    {
     "name": "stdout",
     "output_type": "stream",
     "text": [
      "Epoch 52 -- Train_Loss: 0.002340447437314127 -- Val_Loss: 0.5670036842425664 -- Val_Accuracy: 0.8641909814323607 -- Val_F1: 0.8625118116527531\n"
     ]
    },
    {
     "name": "stderr",
     "output_type": "stream",
     "text": [
      "Training Model: 100%|██████████| 118/118 [00:00<00:00, 119.93it/s]\n",
      "Evaluating Model: 100%|██████████| 15/15 [00:00<00:00, 147.77it/s]\n"
     ]
    },
    {
     "name": "stdout",
     "output_type": "stream",
     "text": [
      "Epoch 53 -- Train_Loss: 0.002389590464082499 -- Val_Loss: 0.5573677500089009 -- Val_Accuracy: 0.8694960212201591 -- Val_F1: 0.8670422448877403\n"
     ]
    },
    {
     "name": "stderr",
     "output_type": "stream",
     "text": [
      "Training Model: 100%|██████████| 118/118 [00:00<00:00, 121.80it/s]\n",
      "Evaluating Model: 100%|██████████| 15/15 [00:00<00:00, 146.37it/s]\n"
     ]
    },
    {
     "name": "stdout",
     "output_type": "stream",
     "text": [
      "Epoch 54 -- Train_Loss: 0.0022736493452704684 -- Val_Loss: 0.5668290466070175 -- Val_Accuracy: 0.870026525198939 -- Val_F1: 0.8677295290377962\n"
     ]
    },
    {
     "name": "stderr",
     "output_type": "stream",
     "text": [
      "Training Model: 100%|██████████| 118/118 [00:00<00:00, 126.87it/s]\n",
      "Evaluating Model: 100%|██████████| 15/15 [00:00<00:00, 148.82it/s]\n"
     ]
    },
    {
     "name": "stdout",
     "output_type": "stream",
     "text": [
      "Epoch 55 -- Train_Loss: 0.001949342841803396 -- Val_Loss: 0.5699666639169058 -- Val_Accuracy: 0.8710875331564987 -- Val_F1: 0.8684510987948724\n"
     ]
    },
    {
     "name": "stderr",
     "output_type": "stream",
     "text": [
      "Training Model: 100%|██████████| 118/118 [00:00<00:00, 128.76it/s]\n",
      "Evaluating Model: 100%|██████████| 15/15 [00:00<00:00, 147.95it/s]\n"
     ]
    },
    {
     "name": "stdout",
     "output_type": "stream",
     "text": [
      "Epoch 56 -- Train_Loss: 0.0019029589504066665 -- Val_Loss: 0.5701338768005371 -- Val_Accuracy: 0.8710875331564987 -- Val_F1: 0.8687335263718671\n"
     ]
    },
    {
     "name": "stderr",
     "output_type": "stream",
     "text": [
      "Training Model: 100%|██████████| 118/118 [00:00<00:00, 127.93it/s]\n",
      "Evaluating Model: 100%|██████████| 15/15 [00:00<00:00, 147.64it/s]\n"
     ]
    },
    {
     "name": "stdout",
     "output_type": "stream",
     "text": [
      "Epoch 57 -- Train_Loss: 0.0019123283495053145 -- Val_Loss: 0.5866093893845876 -- Val_Accuracy: 0.8657824933687003 -- Val_F1: 0.863854819469258\n"
     ]
    },
    {
     "name": "stderr",
     "output_type": "stream",
     "text": [
      "Training Model: 100%|██████████| 118/118 [00:00<00:00, 124.04it/s]\n",
      "Evaluating Model: 100%|██████████| 15/15 [00:00<00:00, 145.62it/s]\n"
     ]
    },
    {
     "name": "stdout",
     "output_type": "stream",
     "text": [
      "Epoch 58 -- Train_Loss: 0.0017022727855473315 -- Val_Loss: 0.5724113643169403 -- Val_Accuracy: 0.8694960212201591 -- Val_F1: 0.8676118899709246\n"
     ]
    },
    {
     "name": "stderr",
     "output_type": "stream",
     "text": [
      "Training Model: 100%|██████████| 118/118 [00:00<00:00, 123.40it/s]\n",
      "Evaluating Model: 100%|██████████| 15/15 [00:00<00:00, 146.78it/s]\n"
     ]
    },
    {
     "name": "stdout",
     "output_type": "stream",
     "text": [
      "Epoch 59 -- Train_Loss: 0.0016499281297556235 -- Val_Loss: 0.5871356785297394 -- Val_Accuracy: 0.8705570291777188 -- Val_F1: 0.8683056688407402\n"
     ]
    },
    {
     "name": "stderr",
     "output_type": "stream",
     "text": [
      "Training Model: 100%|██████████| 118/118 [00:00<00:00, 127.63it/s]\n",
      "Evaluating Model: 100%|██████████| 15/15 [00:00<00:00, 138.38it/s]\n"
     ]
    },
    {
     "name": "stdout",
     "output_type": "stream",
     "text": [
      "Epoch 60 -- Train_Loss: 0.0014821733629244176 -- Val_Loss: 0.5960259278615315 -- Val_Accuracy: 0.8679045092838197 -- Val_F1: 0.8667878371977867\n"
     ]
    },
    {
     "name": "stderr",
     "output_type": "stream",
     "text": [
      "Training Model: 100%|██████████| 118/118 [00:00<00:00, 127.86it/s]\n",
      "Evaluating Model: 100%|██████████| 15/15 [00:00<00:00, 144.72it/s]\n"
     ]
    },
    {
     "name": "stdout",
     "output_type": "stream",
     "text": [
      "Epoch 61 -- Train_Loss: 0.0014350696282374468 -- Val_Loss: 0.5825295786062876 -- Val_Accuracy: 0.8748010610079575 -- Val_F1: 0.872484705146554\n"
     ]
    },
    {
     "name": "stderr",
     "output_type": "stream",
     "text": [
      "Training Model: 100%|██████████| 118/118 [00:00<00:00, 128.11it/s]\n",
      "Evaluating Model: 100%|██████████| 15/15 [00:00<00:00, 142.71it/s]\n"
     ]
    },
    {
     "name": "stdout",
     "output_type": "stream",
     "text": [
      "Epoch 62 -- Train_Loss: 0.001379673150703469 -- Val_Loss: 0.5860692063967387 -- Val_Accuracy: 0.8684350132625994 -- Val_F1: 0.8660108822595338\n"
     ]
    },
    {
     "name": "stderr",
     "output_type": "stream",
     "text": [
      "Training Model: 100%|██████████| 118/118 [00:00<00:00, 128.88it/s]\n",
      "Evaluating Model: 100%|██████████| 15/15 [00:00<00:00, 147.37it/s]\n"
     ]
    },
    {
     "name": "stdout",
     "output_type": "stream",
     "text": [
      "Epoch 63 -- Train_Loss: 0.0012881863525362244 -- Val_Loss: 0.5809035738309224 -- Val_Accuracy: 0.870026525198939 -- Val_F1: 0.8683159833295161\n"
     ]
    },
    {
     "name": "stderr",
     "output_type": "stream",
     "text": [
      "Training Model: 100%|██████████| 118/118 [00:00<00:00, 128.94it/s]\n",
      "Evaluating Model: 100%|██████████| 15/15 [00:00<00:00, 146.35it/s]\n"
     ]
    },
    {
     "name": "stdout",
     "output_type": "stream",
     "text": [
      "Epoch 64 -- Train_Loss: 0.0012968207062794275 -- Val_Loss: 0.5946649273236593 -- Val_Accuracy: 0.8684350132625994 -- Val_F1: 0.8655341965263803\n"
     ]
    },
    {
     "name": "stderr",
     "output_type": "stream",
     "text": [
      "Training Model: 100%|██████████| 118/118 [00:00<00:00, 127.34it/s]\n",
      "Evaluating Model: 100%|██████████| 15/15 [00:00<00:00, 148.61it/s]\n"
     ]
    },
    {
     "name": "stdout",
     "output_type": "stream",
     "text": [
      "Epoch 65 -- Train_Loss: 0.0013031182340563323 -- Val_Loss: 0.5914243380228679 -- Val_Accuracy: 0.8737400530503979 -- Val_F1: 0.8720482538667632\n"
     ]
    },
    {
     "name": "stderr",
     "output_type": "stream",
     "text": [
      "Training Model: 100%|██████████| 118/118 [00:00<00:00, 119.89it/s]\n",
      "Evaluating Model: 100%|██████████| 15/15 [00:00<00:00, 146.78it/s]\n"
     ]
    },
    {
     "name": "stdout",
     "output_type": "stream",
     "text": [
      "Epoch 66 -- Train_Loss: 0.001329683408908688 -- Val_Loss: 0.5944021999835968 -- Val_Accuracy: 0.8694960212201591 -- Val_F1: 0.8676314187596704\n"
     ]
    },
    {
     "name": "stderr",
     "output_type": "stream",
     "text": [
      "Training Model: 100%|██████████| 118/118 [00:00<00:00, 129.13it/s]\n",
      "Evaluating Model: 100%|██████████| 15/15 [00:00<00:00, 143.50it/s]\n"
     ]
    },
    {
     "name": "stdout",
     "output_type": "stream",
     "text": [
      "Epoch 67 -- Train_Loss: 0.0011188230697771976 -- Val_Loss: 0.598238883415858 -- Val_Accuracy: 0.8694960212201591 -- Val_F1: 0.8681781905300155\n"
     ]
    },
    {
     "name": "stderr",
     "output_type": "stream",
     "text": [
      "Training Model: 100%|██████████| 118/118 [00:00<00:00, 128.91it/s]\n",
      "Evaluating Model: 100%|██████████| 15/15 [00:00<00:00, 147.98it/s]\n"
     ]
    },
    {
     "name": "stdout",
     "output_type": "stream",
     "text": [
      "Epoch 68 -- Train_Loss: 0.0009627884300228334 -- Val_Loss: 0.6155142545700073 -- Val_Accuracy: 0.8679045092838197 -- Val_F1: 0.8660215490157415\n"
     ]
    },
    {
     "name": "stderr",
     "output_type": "stream",
     "text": [
      "Training Model: 100%|██████████| 118/118 [00:00<00:00, 123.55it/s]\n",
      "Evaluating Model: 100%|██████████| 15/15 [00:00<00:00, 147.04it/s]\n"
     ]
    },
    {
     "name": "stdout",
     "output_type": "stream",
     "text": [
      "Epoch 69 -- Train_Loss: 0.0013452694152967246 -- Val_Loss: 0.6075445334116618 -- Val_Accuracy: 0.870026525198939 -- Val_F1: 0.8678225455823361\n"
     ]
    },
    {
     "name": "stderr",
     "output_type": "stream",
     "text": [
      "Training Model: 100%|██████████| 118/118 [00:00<00:00, 123.05it/s]\n",
      "Evaluating Model: 100%|██████████| 15/15 [00:00<00:00, 147.06it/s]\n"
     ]
    },
    {
     "name": "stdout",
     "output_type": "stream",
     "text": [
      "Epoch 70 -- Train_Loss: 0.0008978672849480063 -- Val_Loss: 0.6041668554147085 -- Val_Accuracy: 0.8732095490716181 -- Val_F1: 0.8714328232056971\n"
     ]
    },
    {
     "name": "stderr",
     "output_type": "stream",
     "text": [
      "Training Model: 100%|██████████| 118/118 [00:00<00:00, 125.60it/s]\n",
      "Evaluating Model: 100%|██████████| 15/15 [00:00<00:00, 148.92it/s]\n"
     ]
    },
    {
     "name": "stdout",
     "output_type": "stream",
     "text": [
      "Epoch 71 -- Train_Loss: 0.0007858863020250653 -- Val_Loss: 0.6046989222367605 -- Val_Accuracy: 0.8716180371352785 -- Val_F1: 0.8695468976715768\n"
     ]
    },
    {
     "name": "stderr",
     "output_type": "stream",
     "text": [
      "Training Model: 100%|██████████| 118/118 [00:00<00:00, 126.12it/s]\n",
      "Evaluating Model: 100%|██████████| 15/15 [00:00<00:00, 148.18it/s]\n"
     ]
    },
    {
     "name": "stdout",
     "output_type": "stream",
     "text": [
      "Epoch 72 -- Train_Loss: 0.0009640544010188146 -- Val_Loss: 0.6145198782285054 -- Val_Accuracy: 0.8684350132625994 -- Val_F1: 0.8665429605448676\n"
     ]
    },
    {
     "name": "stderr",
     "output_type": "stream",
     "text": [
      "Training Model: 100%|██████████| 118/118 [00:00<00:00, 125.57it/s]\n",
      "Evaluating Model: 100%|██████████| 15/15 [00:00<00:00, 145.03it/s]\n"
     ]
    },
    {
     "name": "stdout",
     "output_type": "stream",
     "text": [
      "Epoch 73 -- Train_Loss: 0.000763850641151756 -- Val_Loss: 0.6455592314402262 -- Val_Accuracy: 0.8689655172413793 -- Val_F1: 0.8667464083418969\n"
     ]
    },
    {
     "name": "stderr",
     "output_type": "stream",
     "text": [
      "Training Model: 100%|██████████| 118/118 [00:00<00:00, 124.09it/s]\n",
      "Evaluating Model: 100%|██████████| 15/15 [00:00<00:00, 150.12it/s]\n"
     ]
    },
    {
     "name": "stdout",
     "output_type": "stream",
     "text": [
      "Epoch 74 -- Train_Loss: 0.0007420899496922837 -- Val_Loss: 0.6158489465713501 -- Val_Accuracy: 0.8748010610079575 -- Val_F1: 0.8724505605064652\n"
     ]
    },
    {
     "name": "stderr",
     "output_type": "stream",
     "text": [
      "Training Model: 100%|██████████| 118/118 [00:00<00:00, 123.51it/s]\n",
      "Evaluating Model: 100%|██████████| 15/15 [00:00<00:00, 147.09it/s]\n"
     ]
    },
    {
     "name": "stdout",
     "output_type": "stream",
     "text": [
      "Epoch 75 -- Train_Loss: 0.0009835940907547502 -- Val_Loss: 0.6321350495020549 -- Val_Accuracy: 0.8710875331564987 -- Val_F1: 0.8682082534160223\n"
     ]
    },
    {
     "name": "stderr",
     "output_type": "stream",
     "text": [
      "Training Model: 100%|██████████| 118/118 [00:00<00:00, 124.35it/s]\n",
      "Evaluating Model: 100%|██████████| 15/15 [00:00<00:00, 145.51it/s]\n"
     ]
    },
    {
     "name": "stdout",
     "output_type": "stream",
     "text": [
      "Epoch 76 -- Train_Loss: 0.000830894976388663 -- Val_Loss: 0.6352553188800811 -- Val_Accuracy: 0.870026525198939 -- Val_F1: 0.8682203939143325\n"
     ]
    },
    {
     "name": "stderr",
     "output_type": "stream",
     "text": [
      "Training Model: 100%|██████████| 118/118 [00:00<00:00, 123.84it/s]\n",
      "Evaluating Model: 100%|██████████| 15/15 [00:00<00:00, 147.47it/s]\n"
     ]
    },
    {
     "name": "stdout",
     "output_type": "stream",
     "text": [
      "Epoch 77 -- Train_Loss: 0.0007132424518389043 -- Val_Loss: 0.660839530825615 -- Val_Accuracy: 0.8673740053050398 -- Val_F1: 0.8651957749001129\n"
     ]
    },
    {
     "name": "stderr",
     "output_type": "stream",
     "text": [
      "Training Model: 100%|██████████| 118/118 [00:00<00:00, 125.61it/s]\n",
      "Evaluating Model: 100%|██████████| 15/15 [00:00<00:00, 145.32it/s]\n"
     ]
    },
    {
     "name": "stdout",
     "output_type": "stream",
     "text": [
      "Epoch 78 -- Train_Loss: 0.0008513799573046202 -- Val_Loss: 0.6124343931674957 -- Val_Accuracy: 0.8763925729442971 -- Val_F1: 0.8742671918755012\n"
     ]
    },
    {
     "name": "stderr",
     "output_type": "stream",
     "text": [
      "Training Model: 100%|██████████| 118/118 [00:00<00:00, 126.14it/s]\n",
      "Evaluating Model: 100%|██████████| 15/15 [00:00<00:00, 148.53it/s]\n"
     ]
    },
    {
     "name": "stdout",
     "output_type": "stream",
     "text": [
      "Epoch 79 -- Train_Loss: 0.0009419540415904721 -- Val_Loss: 0.6240533709526062 -- Val_Accuracy: 0.8769230769230769 -- Val_F1: 0.875203765984172\n"
     ]
    },
    {
     "name": "stderr",
     "output_type": "stream",
     "text": [
      "Training Model: 100%|██████████| 118/118 [00:00<00:00, 121.52it/s]\n",
      "Evaluating Model: 100%|██████████| 15/15 [00:00<00:00, 146.52it/s]\n"
     ]
    },
    {
     "name": "stdout",
     "output_type": "stream",
     "text": [
      "Epoch 80 -- Train_Loss: 0.0011532052964666637 -- Val_Loss: 0.6648921966552734 -- Val_Accuracy: 0.8684350132625994 -- Val_F1: 0.8656275402086748\n"
     ]
    },
    {
     "name": "stderr",
     "output_type": "stream",
     "text": [
      "Training Model: 100%|██████████| 118/118 [00:00<00:00, 120.99it/s]\n",
      "Evaluating Model: 100%|██████████| 15/15 [00:00<00:00, 142.97it/s]\n"
     ]
    },
    {
     "name": "stdout",
     "output_type": "stream",
     "text": [
      "Epoch 81 -- Train_Loss: 0.001085530432045728 -- Val_Loss: 0.645951384305954 -- Val_Accuracy: 0.8705570291777188 -- Val_F1: 0.8684887412754339\n"
     ]
    },
    {
     "name": "stderr",
     "output_type": "stream",
     "text": [
      "Training Model: 100%|██████████| 118/118 [00:00<00:00, 124.77it/s]\n",
      "Evaluating Model: 100%|██████████| 15/15 [00:00<00:00, 148.42it/s]\n"
     ]
    },
    {
     "name": "stdout",
     "output_type": "stream",
     "text": [
      "Epoch 82 -- Train_Loss: 0.000715999734924388 -- Val_Loss: 0.6493061860402425 -- Val_Accuracy: 0.8684350132625994 -- Val_F1: 0.8670306051703532\n"
     ]
    },
    {
     "name": "stderr",
     "output_type": "stream",
     "text": [
      "Training Model: 100%|██████████| 118/118 [00:00<00:00, 128.86it/s]\n",
      "Evaluating Model: 100%|██████████| 15/15 [00:00<00:00, 149.88it/s]\n"
     ]
    },
    {
     "name": "stdout",
     "output_type": "stream",
     "text": [
      "Epoch 83 -- Train_Loss: 0.0005075307389680825 -- Val_Loss: 0.617177402973175 -- Val_Accuracy: 0.8732095490716181 -- Val_F1: 0.871963367127405\n"
     ]
    },
    {
     "name": "stderr",
     "output_type": "stream",
     "text": [
      "Training Model: 100%|██████████| 118/118 [00:00<00:00, 126.41it/s]\n",
      "Evaluating Model: 100%|██████████| 15/15 [00:00<00:00, 148.59it/s]\n"
     ]
    },
    {
     "name": "stdout",
     "output_type": "stream",
     "text": [
      "Epoch 84 -- Train_Loss: 0.0007605548122166696 -- Val_Loss: 0.6228298763434092 -- Val_Accuracy: 0.8748010610079575 -- Val_F1: 0.873075261256885\n"
     ]
    },
    {
     "name": "stderr",
     "output_type": "stream",
     "text": [
      "Training Model: 100%|██████████| 118/118 [00:00<00:00, 121.98it/s]\n",
      "Evaluating Model: 100%|██████████| 15/15 [00:00<00:00, 145.03it/s]\n"
     ]
    },
    {
     "name": "stdout",
     "output_type": "stream",
     "text": [
      "Epoch 85 -- Train_Loss: 0.0006152222460699149 -- Val_Loss: 0.6330125391483307 -- Val_Accuracy: 0.8710875331564987 -- Val_F1: 0.8693404404427877\n"
     ]
    },
    {
     "name": "stderr",
     "output_type": "stream",
     "text": [
      "Training Model: 100%|██████████| 118/118 [00:00<00:00, 123.87it/s]\n",
      "Evaluating Model: 100%|██████████| 15/15 [00:00<00:00, 147.62it/s]\n"
     ]
    },
    {
     "name": "stdout",
     "output_type": "stream",
     "text": [
      "Epoch 86 -- Train_Loss: 0.0005145256756064956 -- Val_Loss: 0.6257631917794545 -- Val_Accuracy: 0.8758620689655172 -- Val_F1: 0.874219803882713\n"
     ]
    },
    {
     "name": "stderr",
     "output_type": "stream",
     "text": [
      "Training Model: 100%|██████████| 118/118 [00:00<00:00, 123.63it/s]\n",
      "Evaluating Model: 100%|██████████| 15/15 [00:00<00:00, 147.42it/s]\n"
     ]
    },
    {
     "name": "stdout",
     "output_type": "stream",
     "text": [
      "Epoch 87 -- Train_Loss: 0.0005301843654197617 -- Val_Loss: 0.6490249355634053 -- Val_Accuracy: 0.8758620689655172 -- Val_F1: 0.8746002518357774\n"
     ]
    },
    {
     "name": "stderr",
     "output_type": "stream",
     "text": [
      "Training Model: 100%|██████████| 118/118 [00:00<00:00, 125.18it/s]\n",
      "Evaluating Model: 100%|██████████| 15/15 [00:00<00:00, 147.03it/s]\n"
     ]
    },
    {
     "name": "stdout",
     "output_type": "stream",
     "text": [
      "Epoch 88 -- Train_Loss: 0.0006235010011350515 -- Val_Loss: 0.6490782697995504 -- Val_Accuracy: 0.870026525198939 -- Val_F1: 0.8683458219190909\n"
     ]
    },
    {
     "name": "stderr",
     "output_type": "stream",
     "text": [
      "Training Model: 100%|██████████| 118/118 [00:00<00:00, 128.93it/s]\n",
      "Evaluating Model: 100%|██████████| 15/15 [00:00<00:00, 147.86it/s]\n"
     ]
    },
    {
     "name": "stdout",
     "output_type": "stream",
     "text": [
      "Epoch 89 -- Train_Loss: 0.00038881641147920656 -- Val_Loss: 0.645594714085261 -- Val_Accuracy: 0.8742705570291777 -- Val_F1: 0.8735468715794579\n"
     ]
    },
    {
     "name": "stderr",
     "output_type": "stream",
     "text": [
      "Training Model: 100%|██████████| 118/118 [00:00<00:00, 124.73it/s]\n",
      "Evaluating Model: 100%|██████████| 15/15 [00:00<00:00, 147.10it/s]\n"
     ]
    },
    {
     "name": "stdout",
     "output_type": "stream",
     "text": [
      "Epoch 90 -- Train_Loss: 0.00031683834243005426 -- Val_Loss: 0.6266843100388845 -- Val_Accuracy: 0.8774535809018568 -- Val_F1: 0.8754644491336526\n"
     ]
    },
    {
     "name": "stderr",
     "output_type": "stream",
     "text": [
      "Training Model: 100%|██████████| 118/118 [00:00<00:00, 122.11it/s]\n",
      "Evaluating Model: 100%|██████████| 15/15 [00:00<00:00, 145.95it/s]\n"
     ]
    },
    {
     "name": "stdout",
     "output_type": "stream",
     "text": [
      "Epoch 91 -- Train_Loss: 0.0004527452150857968 -- Val_Loss: 0.6620452721913656 -- Val_Accuracy: 0.8716180371352785 -- Val_F1: 0.8692062545926049\n"
     ]
    },
    {
     "name": "stderr",
     "output_type": "stream",
     "text": [
      "Training Model: 100%|██████████| 118/118 [00:00<00:00, 121.28it/s]\n",
      "Evaluating Model: 100%|██████████| 15/15 [00:00<00:00, 147.24it/s]\n"
     ]
    },
    {
     "name": "stdout",
     "output_type": "stream",
     "text": [
      "Epoch 92 -- Train_Loss: 0.00029403957338772826 -- Val_Loss: 0.6525631586710612 -- Val_Accuracy: 0.8721485411140584 -- Val_F1: 0.8710225108768151\n"
     ]
    },
    {
     "name": "stderr",
     "output_type": "stream",
     "text": [
      "Training Model: 100%|██████████| 118/118 [00:00<00:00, 127.84it/s]\n",
      "Evaluating Model: 100%|██████████| 15/15 [00:00<00:00, 148.39it/s]\n"
     ]
    },
    {
     "name": "stdout",
     "output_type": "stream",
     "text": [
      "Epoch 93 -- Train_Loss: 0.0004015692593075998 -- Val_Loss: 0.6341794699430465 -- Val_Accuracy: 0.8838196286472149 -- Val_F1: 0.8821345981712303\n"
     ]
    },
    {
     "name": "stderr",
     "output_type": "stream",
     "text": [
      "Training Model: 100%|██████████| 118/118 [00:00<00:00, 128.43it/s]\n",
      "Evaluating Model: 100%|██████████| 15/15 [00:00<00:00, 143.26it/s]\n"
     ]
    },
    {
     "name": "stdout",
     "output_type": "stream",
     "text": [
      "Epoch 94 -- Train_Loss: 0.0003550940564926319 -- Val_Loss: 0.6923808018366496 -- Val_Accuracy: 0.86684350132626 -- Val_F1: 0.8646851505572531\n"
     ]
    },
    {
     "name": "stderr",
     "output_type": "stream",
     "text": [
      "Training Model: 100%|██████████| 118/118 [00:00<00:00, 125.62it/s]\n",
      "Evaluating Model: 100%|██████████| 15/15 [00:00<00:00, 146.89it/s]\n"
     ]
    },
    {
     "name": "stdout",
     "output_type": "stream",
     "text": [
      "Epoch 95 -- Train_Loss: 0.0005837732522935365 -- Val_Loss: 0.6463147362073263 -- Val_Accuracy: 0.8758620689655172 -- Val_F1: 0.8740844266393019\n"
     ]
    },
    {
     "name": "stderr",
     "output_type": "stream",
     "text": [
      "Training Model: 100%|██████████| 118/118 [00:00<00:00, 123.06it/s]\n",
      "Evaluating Model: 100%|██████████| 15/15 [00:00<00:00, 146.32it/s]\n"
     ]
    },
    {
     "name": "stdout",
     "output_type": "stream",
     "text": [
      "Epoch 96 -- Train_Loss: 0.0004313801600184919 -- Val_Loss: 0.673085238536199 -- Val_Accuracy: 0.8795755968169762 -- Val_F1: 0.8789278376774254\n"
     ]
    },
    {
     "name": "stderr",
     "output_type": "stream",
     "text": [
      "Training Model: 100%|██████████| 118/118 [00:00<00:00, 125.16it/s]\n",
      "Evaluating Model: 100%|██████████| 15/15 [00:00<00:00, 146.46it/s]\n"
     ]
    },
    {
     "name": "stdout",
     "output_type": "stream",
     "text": [
      "Epoch 97 -- Train_Loss: 0.0003759657125957054 -- Val_Loss: 0.6726473828156789 -- Val_Accuracy: 0.8753315649867374 -- Val_F1: 0.8746165411066731\n"
     ]
    },
    {
     "name": "stderr",
     "output_type": "stream",
     "text": [
      "Training Model: 100%|██████████| 118/118 [00:00<00:00, 122.28it/s]\n",
      "Evaluating Model: 100%|██████████| 15/15 [00:00<00:00, 147.63it/s]\n"
     ]
    },
    {
     "name": "stdout",
     "output_type": "stream",
     "text": [
      "Epoch 98 -- Train_Loss: 0.0005265157294269232 -- Val_Loss: 0.6474437276522319 -- Val_Accuracy: 0.8785145888594165 -- Val_F1: 0.8756041304631104\n"
     ]
    },
    {
     "name": "stderr",
     "output_type": "stream",
     "text": [
      "Training Model: 100%|██████████| 118/118 [00:00<00:00, 123.96it/s]\n",
      "Evaluating Model: 100%|██████████| 15/15 [00:00<00:00, 148.27it/s]\n"
     ]
    },
    {
     "name": "stdout",
     "output_type": "stream",
     "text": [
      "Epoch 99 -- Train_Loss: 0.0003555757754792605 -- Val_Loss: 0.669276162981987 -- Val_Accuracy: 0.8758620689655172 -- Val_F1: 0.8748280582321332\n"
     ]
    },
    {
     "name": "stderr",
     "output_type": "stream",
     "text": [
      "Training Model: 100%|██████████| 118/118 [00:00<00:00, 122.27it/s]\n",
      "Evaluating Model: 100%|██████████| 15/15 [00:00<00:00, 147.15it/s]"
     ]
    },
    {
     "name": "stdout",
     "output_type": "stream",
     "text": [
      "Epoch 100 -- Train_Loss: 0.0006401304763747217 -- Val_Loss: 0.6434926648934682 -- Val_Accuracy: 0.8779840848806366 -- Val_F1: 0.8760073795969534\n",
      "Checkpoint saved to /home/jblevins32/NLP_HW1/model_weights/checkpoint_dan_ce.pt\n"
     ]
    },
    {
     "name": "stderr",
     "output_type": "stream",
     "text": [
      "\n"
     ]
    }
   ],
   "source": [
    "# This is the main training loop. You'll need to complete the train_loop and val_loop functions.\n",
    "# You'll also need to complete the criterion and optimizer functions.\n",
    "# Feel free to experiment with different optimizers and learning rates.\n",
    "# Do not change anything else in this cell\n",
    "learning_rate, epochs, hidden_layer_dimensions, embedding_dim = get_hyperparams_dan()\n",
    "dan_model = get_dan_model(len(train_vocab.keys()), embedding_dim, hidden_layer_dimensions).to(device)\n",
    "criterion = get_criterion()\n",
    "optimizer = get_optimizer(dan_model, learning_rate)\n",
    "train_loss_over_time_dan = []\n",
    "val_loss_over_time_dan = []\n",
    "for epoch in range(epochs):\n",
    "    train_loss = train_loop(dan_model, criterion, optimizer, train_iterator, epoch, save_every=2)\n",
    "    true, pred, val_loss = val_loop(dan_model, criterion, val_iterator)\n",
    "    accuracy, f1 = get_accuracy_and_f1_score(true, pred)\n",
    "    train_loss_over_time_dan.append(train_loss)\n",
    "    val_loss_over_time_dan.append(val_loss)\n",
    "    print(f\"Epoch {epoch+1} -- Train_Loss: {train_loss} -- Val_Loss: {val_loss} -- Val_Accuracy: {accuracy} -- Val_F1: {f1}\")\n",
    "\n",
    "save_checkpoint(dan_model, 'dan')"
   ]
  },
  {
   "cell_type": "code",
   "execution_count": 383,
   "id": "3662383d",
   "metadata": {},
   "outputs": [
    {
     "data": {
      "image/png": "[encoded data removed]",
      "text/plain": [
       "<Figure size 1000x600 with 1 Axes>"
      ]
     },
     "metadata": {},
     "output_type": "display_data"
    }
   ],
   "source": [
    "# DO NOT CHANGE THIS CELL - retain the outputs in submission PDF to get credits  \n",
    "plot_loss(train_loss_over_time_dan, val_loss_over_time_dan, 'DAN')"
   ]
  },
  {
   "cell_type": "markdown",
   "id": "e7c756e6",
   "metadata": {},
   "source": [
    "### 4.3. Model Evaluation [2 points - Programming]\n",
    "The final points for this will be awarded as per Gradescope's test split, which is different from the local versions. The cell below is just for a sanity check. Your metrics here may not exactly match with the ones on Gradescope, but if your model is fairly generalized, it should not be far off.\n",
    "- 0 points for accuracy <= 84%\n",
    "- 1 point for accuracy > 84% but <= 88%\n",
    "- 2 points for accuracy > 88%"
   ]
  },
  {
   "cell_type": "code",
   "execution_count": 384,
   "id": "a708bf89",
   "metadata": {
    "ExecuteTime": {
     "end_time": "2024-09-06T14:01:27.924820Z",
     "start_time": "2024-09-06T14:01:27.149608Z"
    }
   },
   "outputs": [
    {
     "name": "stderr",
     "output_type": "stream",
     "text": [
      "Evaluating Model: 100%|██████████| 15/15 [00:00<00:00, 147.53it/s]"
     ]
    },
    {
     "name": "stdout",
     "output_type": "stream",
     "text": [
      "Final Validation Accuracy: 0.8779840848806366\n",
      "Final Validation F1-Score: 0.8760073795969534\n"
     ]
    },
    {
     "name": "stderr",
     "output_type": "stream",
     "text": [
      "\n"
     ]
    }
   ],
   "source": [
    "# DO NOT CHANGE THIS CELL\n",
    "learning_rate, epochs, hidden_layer_dimensions, embedding_dim = get_hyperparams_dan()\n",
    "dan_model = get_dan_model(len(train_vocab.keys()), embedding_dim, hidden_layer_dimensions).to(device)\n",
    "load_checkpoint(dan_model, 'dan', map_location=device)\n",
    "\n",
    "true, pred, val_loss = val_loop(dan_model, criterion, val_iterator)\n",
    "accuracy, f1 = get_accuracy_and_f1_score(true, pred)\n",
    "print(f\"Final Validation Accuracy: {accuracy}\")\n",
    "print(f\"Final Validation F1-Score: {f1}\")"
   ]
  },
  {
   "cell_type": "code",
   "execution_count": 385,
   "id": "9cc4d3ae",
   "metadata": {},
   "outputs": [
    {
     "data": {
      "image/png": "[encoded data removed]",
      "text/plain": [
       "<Figure size 640x480 with 2 Axes>"
      ]
     },
     "metadata": {},
     "output_type": "display_data"
    }
   ],
   "source": [
    "# DO NOT CHANGE THIS CELL\n",
    "plot_confusion_matrix(true, pred, classes=id2label.values())"
   ]
  },
  {
   "cell_type": "markdown",
   "id": "f011d1e5aa84ae54",
   "metadata": {},
   "source": [
    "## 5. Attention-based Models [21 points - Programming + 9 points - Non-programming]\n",
    " In the simplest terms, attention allows a network to differentially focus on specific input words rather considering their importance equally, as done in the previous sections by averaging. For example, often times the mere presence of word \"election\" is enough to ascertain the category of the sentence to be politics. \n",
    "\n",
    " There are various types of attention which we will dsicuss in much more depth throughout course. This section is just to provide a conceptual flavor of attention as a concept. In the below parts, you will work with three different simple types of attention. "
   ]
  },
  {
   "cell_type": "markdown",
   "id": "20687e406d1feaa4",
   "metadata": {},
   "source": [
    "### 5.1. Attention-weighted NBOW [7 points - Programming + 3 points - Non-programming]"
   ]
  },
  {
   "cell_type": "markdown",
   "id": "659df7f91798f1d5",
   "metadata": {},
   "source": [
    "\n",
    "\n",
    "You will now define an encoder that uses a simple attention function to produce a weight for each word in the sentence followed by a sum of the attention-weighted word embeddings. Simple attention allows the model to learn a weight vector $\\alpha_t$ which represents how important will different tokens in a document be.\n",
    "\n",
    "Consider $u$ to be a single attention head (a learnable PyTorch parameter). With this,\n",
    "\n",
    "$$ \\alpha_t \\varpropto \\exp\\{cos(u,emb(x_t))\\} $$\n",
    "\n",
    "*Note*: This needs to be normalized.\n",
    "\n",
    "$$ h_{att} = \\sum_t \\alpha_t emb(x_t) $$\n",
    "\n",
    "The probability of a data instance belonging to class $y_i$ is given by:\n",
    "\n",
    "$$ p(y|x) = softmax(w^T h_{att}) $$\n",
    "\n",
    "where $w \\in R^d$ is a parameter vector.\n",
    "\n",
    "In this model, the unnormalized attention weight for a word $x$ is computed using the cosine similarity between a learnable parameter $u$ and the word embedding for $x$ followed by exponentiation. To get normalized weights $\\alpha_t$, normalize across all words in the sentence. Then multiply the attention weights by the word embeddings and sum the attention-weighted embeddings.\n",
    "\n",
    "*HINT*: See if Softmax function can help with this\n",
    "\n",
    "*Hint*: Make sure to handle the case where the input contains pad tokens."
   ]
  },
  {
   "cell_type": "markdown",
   "id": "2f5194f9",
   "metadata": {},
   "source": [
    "#### 5.1.1. Model Definition [5 points - Programming]\n",
    "\n",
    "Define your simple attention model below."
   ]
  },
  {
   "cell_type": "code",
   "execution_count": null,
   "id": "a6f08f67204699bd",
   "metadata": {
    "ExecuteTime": {
     "end_time": "2024-09-06T14:01:45.380976Z",
     "start_time": "2024-09-06T14:01:45.375347Z"
    }
   },
   "outputs": [],
   "source": [
    "#export\n",
    "\n",
    "class SimpleAttentionNBOW(nn.Module):\n",
    "    \"\"\"\n",
    "    This class implements the Attention-weighted Neural Bag of Words model.\n",
    "    \"\"\"\n",
    "    \n",
    "    def __init__(self, vocab_size, embedding_dim, num_classes=20):\n",
    "        super(SimpleAttentionNBOW, self).__init__()\n",
    "        ## YOUR CODE STARTS HERE ##\n",
    "        \n",
    "        self.vocab_size = vocab_size\n",
    "        self.embedding_dim = embedding_dim\n",
    "        self.num_classes = num_classes\n",
    "\n",
    "        self.embedding = nn.Embedding(vocab_size, embedding_dim)  # Embedding layer\n",
    "        self.attention = nn.Parameter(torch.randn(embedding_dim), requires_grad=True)  # Attention layer\n",
    "        self.linear = nn.Linear(embedding_dim, num_classes)  # Linear layer for classification\n",
    "\n",
    "        ## YOUR CODE ENDS HERE ##\n",
    "    \n",
    "    def forward(self, x):\n",
    "        ## YOUR CODE STARTS HERE ##\n",
    "        \n",
    "        attn = self.get_attention_matrix(x)  # Get attention weights\n",
    "        embeddings = self.get_embeddings(x)  # Get embeddings\n",
    "        hidden = (embeddings * attn.unsqueeze(-1)).sum(dim=1)  # Apply attention weights\n",
    "        predictions = self.linear(hidden)  # Pass through linear layer\n",
    "\n",
    "        print(predictions.shape)\n",
    "        ## YOUR CODE ENDS HERE ##\n",
    "        \n",
    "        return predictions\n",
    "    \n",
    "    def get_embeddings(self, x):\n",
    "        '''\n",
    "        This function returns the embeddings of the input x\n",
    "        '''\n",
    "        ### YOUR CODE STARTS HERE ###\n",
    "        \n",
    "        return self.embedding(x)\n",
    "\n",
    "        ### YOUR CODE ENDS HERE ###\n",
    "    \n",
    "    def set_embedding_weight(self, weight):\n",
    "        '''\n",
    "        This function sets the embedding weights to the input weight ensure you aren't recording gradients for this\n",
    "        Args:\n",
    "            weight: torch.tensor of shape (vocab_size, embedding_dim)\n",
    "        '''\n",
    "        ### YOUR CODE STARTS HERE ###\n",
    "        \n",
    "        self.embedding.weight = nn.Parameter(weight, requires_grad=False)\n",
    "\n",
    "        ### YOUR CODE ENDS HERE ###\n",
    "            \n",
    "    def set_attention_weights(self, weight):\n",
    "        '''\n",
    "        This function sets the attention weights to the input weight ensure you aren't recording gradients for this\n",
    "        Args:\n",
    "            weight: torch.tensor of shape (embedding_dim)\n",
    "        '''\n",
    "        ### YOUR CODE STARTS HERE ###\n",
    "        \n",
    "        self.attention = nn.Parameter(weight, requires_grad=False)\n",
    "\n",
    "        ### YOUR CODE ENDS HERE ###\n",
    "    \n",
    "    def get_attention_matrix(self, x):\n",
    "        '''\n",
    "        This function returns the normalized attention matrix for the input x\n",
    "        Args:\n",
    "            x: torch.tensor of shape (BATCH_SIZE, max seq length in batch))\n",
    "        Returns:\n",
    "            attention_weights: torch.tensor of shape (BATCH_SIZE, max seq length in batch))\n",
    "        '''\n",
    "        ### YOUR CODE STARTS HERE ###\n",
    "        embeddings = self.get_embeddings(x)\n",
    "        attn = self.attention.expand(embeddings.size(0), embeddings.size(1), -1)\n",
    "        cos_sim = torch.cosine_similarity(embeddings, attn, dim=-1)\n",
    "\n",
    "        # Mask to ignore padding tokens\n",
    "        mask = (x != 0)\n",
    "        cos_sim = cos_sim.masked_fill(~mask, float('-inf'))\n",
    "\n",
    "        return torch.softmax(cos_sim, dim=-1) * mask.float()\n",
    "\n",
    "        ### YOUR CODE ENDS HERE ###\n",
    "        "
   ]
  },
  {
   "cell_type": "code",
   "execution_count": 408,
   "id": "17b8882f",
   "metadata": {
    "ExecuteTime": {
     "end_time": "2024-09-06T14:01:49.312348Z",
     "start_time": "2024-09-06T14:01:49.298612Z"
    }
   },
   "outputs": [
    {
     "name": "stdout",
     "output_type": "stream",
     "text": [
      "Passed local embedding test\n",
      "Attn Test failed, expected value was\n",
      "tensor([[0.2033, 0.1995, 0.1975, 0.1964, 0.2033],\n",
      "        [0.3387, 0.3323, 0.3290, 0.0000, 0.0000]])\n",
      "but you got:\n",
      "tensor([[0., 0., 0., 0., 0.],\n",
      "        [0., 0., 0., 0., 0.]])\n"
     ]
    }
   ],
   "source": [
    "# local test for sanity:\n",
    "# DO NOT CHANGE THIS CELL\n",
    "def simple_attention_nbow_test_local_embeddings():\n",
    "    model = SimpleAttentionNBOW(embedding_dim=3, vocab_size=5)\n",
    "    model.set_embedding_weight(torch.arange(15).reshape(5,3) / 50)\n",
    "    embeddings = model.get_embeddings(torch.tensor([[1,2,3,4,1],[1,2,3,0,0]]))\n",
    "    correct_embeddings = torch.tensor([[[0.0600, 0.0800, 0.1000],\n",
    "                                        [0.1200, 0.1400, 0.1600],\n",
    "                                        [0.1800, 0.2000, 0.2200],\n",
    "                                        [0.2400, 0.2600, 0.2800],\n",
    "                                        [0.0600, 0.0800, 0.1000]],\n",
    "\n",
    "                                        [[0.0600, 0.0800, 0.1000],\n",
    "                                        [0.1200, 0.1400, 0.1600],\n",
    "                                        [0.1800, 0.2000, 0.2200],\n",
    "                                        [0.0000, 0.0200, 0.0400],\n",
    "                                        [0.0000, 0.0200, 0.0400]]])\n",
    "    if torch.allclose(embeddings, correct_embeddings, rtol=0.001):\n",
    "        print(\"Passed local embedding test\")\n",
    "    else:\n",
    "        print(f\"Embedding Test failed, expected value was\\n{correct_embeddings}\\nbut you got:\\n{embeddings}\")\n",
    "def simple_attention_nbow_test_local_attn():\n",
    "    model = SimpleAttentionNBOW(embedding_dim=3, vocab_size=5)\n",
    "    model.set_embedding_weight(torch.arange(15).reshape(5,3) / 50)\n",
    "    model.set_attention_weights(torch.tensor([0.1, 0.2, 0.3]))\n",
    "    attention_weights = model.get_attention_matrix(torch.tensor([[1,2,3,4,1],[1,2,3,0,0]]))\n",
    "    correct_attention_weights = torch.tensor([[0.2033, 0.1995, 0.1975, 0.1964, 0.2033],\n",
    "                                              [0.3387, 0.3323, 0.3290, 0.0000, 0.0000]])\n",
    "    if torch.allclose(attention_weights, correct_attention_weights, rtol=0.001):\n",
    "        print(\"Passed local Attn test\")\n",
    "    else:\n",
    "        print(f\"Attn Test failed, expected value was\\n{correct_attention_weights}\\nbut you got:\\n{attention_weights}\")\n",
    "\n",
    "simple_attention_nbow_test_local_embeddings()\n",
    "simple_attention_nbow_test_local_attn()"
   ]
  },
  {
   "cell_type": "markdown",
   "id": "a0ebffb2",
   "metadata": {},
   "source": [
    "#### 5.1.2. Model Training [3 points - Non-Programming]\n",
    "Assign and tune the below hyperparameters to optimize your model"
   ]
  },
  {
   "cell_type": "code",
   "execution_count": null,
   "id": "f9d019244aa92cce",
   "metadata": {
    "ExecuteTime": {
     "end_time": "2024-09-06T14:04:27.232668Z",
     "start_time": "2024-09-06T14:04:27.229756Z"
    }
   },
   "outputs": [],
   "source": [
    "#export\n",
    "# Assign hyperparameters and training parameters\n",
    "# Experiment with different values for these hyperparaters to optimize your model's performance\n",
    "def get_hyperparams_simple_attention():\n",
    "  ### your hyper parameters\n",
    "    learning_rate = None\n",
    "    epochs = None\n",
    "    embedding_dim = None\n",
    "    return learning_rate, epochs, embedding_dim"
   ]
  },
  {
   "cell_type": "code",
   "execution_count": null,
   "id": "3207692320e7c2d",
   "metadata": {
    "ExecuteTime": {
     "end_time": "2024-09-06T14:03:21.299462Z",
     "start_time": "2024-09-06T14:03:21.296044Z"
    }
   },
   "outputs": [],
   "source": [
    "# export\n",
    "def get_simple_attention_model(vocab_size, embedding_dim):\n",
    "    \"\"\"\n",
    "    This function returns an instance of the SimpleAttentionNBOW model. Initialize the SimpleAttentionNBOW model here and return it.\n",
    "    \"\"\"\n",
    "    model = None\n",
    "    ## YOUR CODE STARTS HERE ##\n",
    "\n",
    "    ## YOUR CODE ENDS HERE ##\n",
    "    return model"
   ]
  },
  {
   "cell_type": "code",
   "execution_count": null,
   "id": "40187202f104838f",
   "metadata": {
    "ExecuteTime": {
     "end_time": "2024-09-06T14:05:40.236342Z",
     "start_time": "2024-09-06T14:04:28.529888Z"
    }
   },
   "outputs": [],
   "source": [
    "# This is the main training loop. You'll need to complete the train_loop and val_loop functions.\n",
    "# You'll also need to complete the criterion and optimizer functions.\n",
    "# Feel free to experiment with different optimizers and learning rates.\n",
    "# Do not change anything else in this cell\n",
    "learning_rate, epochs, embedding_dim = get_hyperparams_simple_attention()\n",
    "simple_attention_model = get_simple_attention_model(vocab_size=len(train_vocab.keys()),embedding_dim=embedding_dim).to(device)\n",
    "criterion = get_criterion()\n",
    "train_loss_over_time_sa = []\n",
    "val_loss_over_time_sa = []\n",
    "optimizer = get_optimizer(simple_attention_model, learning_rate)\n",
    "for epoch in range(epochs):\n",
    "    train_loss = train_loop(simple_attention_model, criterion, optimizer, train_iterator, epoch, save_every=2)\n",
    "    true, pred, val_loss = val_loop(simple_attention_model, criterion, val_iterator)\n",
    "    accuracy, f1 = get_accuracy_and_f1_score(true, pred)\n",
    "    train_loss_over_time_sa.append(train_loss)\n",
    "    val_loss_over_time_sa.append(val_loss)\n",
    "    print(f\"Epoch {epoch+1} -- Train_Loss: {train_loss} -- Val_Loss: {val_loss} -- Val_Accuracy: {accuracy} -- Val_F1: {f1}\")\n",
    "save_checkpoint(simple_attention_model, 'simple_attention')"
   ]
  },
  {
   "cell_type": "code",
   "execution_count": null,
   "id": "58e75ecb",
   "metadata": {},
   "outputs": [],
   "source": [
    "# DO NOT CHANGE THIS CELL - retain the outputs in submission PDF to get credits   \n",
    "plot_loss(train_loss_over_time_sa, val_loss_over_time_sa, 'Simple Attention NBOW')"
   ]
  },
  {
   "cell_type": "markdown",
   "id": "8f55108a",
   "metadata": {},
   "source": [
    "#### 5.1.3. Model Evaluation [2 points - Programming]\n",
    "The final points for this will be awarded as per Gradescope's test split, which is different from the local versions. The cell below is just for a sanity check. Your metrics here may not exactly match with the ones on Gradescope, but if your model is fairly generalized, it should not be far off.\n",
    "- 0 points for accuracy <= 85%\n",
    "- 1 point for accuracy > 85% but <= 90%\n",
    "- 2 points for accuracy > 90%"
   ]
  },
  {
   "cell_type": "code",
   "execution_count": null,
   "id": "21e3fba6a2c41556",
   "metadata": {
    "ExecuteTime": {
     "end_time": "2024-09-06T14:07:27.391423Z",
     "start_time": "2024-09-06T14:07:26.365329Z"
    }
   },
   "outputs": [],
   "source": [
    "# DO NOT CHANGE THIS CELL\n",
    "learning_rate, epochs, embedding_dim = get_hyperparams_simple_attention()\n",
    "simple_attention_model = get_simple_attention_model(vocab_size=len(train_vocab.keys()),embedding_dim=embedding_dim).to(device)\n",
    "load_checkpoint(simple_attention_model, 'simple_attention', map_location=device)\n",
    "\n",
    "true, pred, val_loss = val_loop(simple_attention_model, criterion, val_iterator)\n",
    "accuracy, f1 = get_accuracy_and_f1_score(true, pred)\n",
    "print(f\"Final Validation Accuracy: {accuracy}\")\n",
    "print(f\"Final Validation F1-Score: {f1}\")"
   ]
  },
  {
   "cell_type": "code",
   "execution_count": null,
   "id": "53ac30d0",
   "metadata": {},
   "outputs": [],
   "source": [
    "# DO NOT CHANGE THIS CELL\n",
    "plot_confusion_matrix(true, pred, classes=id2label.values())"
   ]
  },
  {
   "cell_type": "markdown",
   "id": "0b45e6c8",
   "metadata": {},
   "source": [
    "### 5.2. MultiHead Attention NBOW [7 points - Programming + 3 points - Non-programming]"
   ]
  },
  {
   "cell_type": "markdown",
   "id": "e3b63a64",
   "metadata": {},
   "source": [
    "The prior model only uses a single attention function. In this section, you will implement a multi-head attention model. You will use $k$ attention heads, each with its own parameters $u_i \\in R^d$ ($\\forall i \\in [1..k]$) and a single large vector before the classification to weight them all together $w \\in R^{d \\cdot k}$. \n",
    "\n",
    "$$ \\alpha_{t,i} \\varpropto \\exp\\{cos(u_i,emb(x_t))\\} $$\n",
    "\n",
    "$$ h_{att}(i) = \\sum_t\\alpha_{t,i} emb(x_t) $$\n",
    "\n",
    "With the probability of a task instance belonging to class $y_i$ is given by:\n",
    "\n",
    "$$ p(y|x) = softmax(w^T [h_{att}(1), h_{att}(2), ..., h_{att}(k)]) $$\n",
    "\n",
    "where [a,b] is the concatenation of vectors $a$ and $b$, into a single taller vector."
   ]
  },
  {
   "cell_type": "markdown",
   "id": "2941d83a",
   "metadata": {},
   "source": [
    "#### 5.2.1. Model Definition [5 points - Programming]\n",
    "\n",
    "Define your Multi-head attention below"
   ]
  },
  {
   "cell_type": "code",
   "execution_count": null,
   "id": "51d31762",
   "metadata": {
    "ExecuteTime": {
     "end_time": "2024-09-06T14:07:38.378912Z",
     "start_time": "2024-09-06T14:07:38.367534Z"
    }
   },
   "outputs": [],
   "source": [
    "#export\n",
    "\n",
    "class MultiHeadAttentionNBOW(nn.Module):\n",
    "    def __init__(self, vocab_size, embedding_dim, num_heads, num_classes=20):\n",
    "        ## YOUR CODE STARTS HERE ##\n",
    "        super(MultiHeadAttentionNBOW, self).__init__()\n",
    "        pass # remove this when you add your implementation      \n",
    "        ## YOUR CODE ENDS HERE ##\n",
    "    def forward(self, x):\n",
    "        ## YOUR CODE STARTS HERE ##\n",
    "        pass # remove this when you add your implementation\n",
    "        ## YOUR CODE ENDS HERE ##\n",
    "\n",
    "\n",
    "    def get_embeddings(self, x):\n",
    "        '''\n",
    "        This function returns the embeddings of the input x\n",
    "        '''\n",
    "        ### YOUR CODE STARTS HERE ###\n",
    "        pass # remove this when you add your implementation\n",
    "        ### YOUR CODE ENDS HERE ###\n",
    "    \n",
    "    def set_embedding_weight(self, weight):\n",
    "        '''\n",
    "        This function sets the embedding weights to the input weight ensure you aren't recording gradients for this\n",
    "        Args:\n",
    "            weight: torch.tensor of shape (vocab_size, embedding_dim)\n",
    "        '''\n",
    "        ### YOUR CODE STARTS HERE ###\n",
    "        pass # remove this when you add your implementation\n",
    "        ### YOUR CODE ENDS HERE ###\n",
    "            \n",
    "    def set_attention_weights(self, weight):\n",
    "        '''\n",
    "        This function sets the attention weights to the input weight ensure you aren't recording gradients for this\n",
    "        Args:\n",
    "            weight: torch.tensor of shape (num_heads, embedding_dim)\n",
    "        '''\n",
    "        ### YOUR CODE STARTS HERE ###\n",
    "        pass # remove this when you add your implementation\n",
    "        ### YOUR CODE ENDS HERE ###\n",
    "    \n",
    "    def get_attention_matrix(self, x):\n",
    "        '''\n",
    "        This function returns the normalized attention matrix for the input x\n",
    "        Args:\n",
    "            x: torch.tensor of shape (BATCH_SIZE, max seq length in batch))\n",
    "        Returns:\n",
    "            attention_weights: torch.tensor of shape (BATCH_SIZE, max seq length in batch, num_heads))\n",
    "        '''\n",
    "        ### YOUR CODE STARTS HERE ###\n",
    "        pass # remove this when you add your implementation\n",
    "        ### YOUR CODE ENDS HERE ###"
   ]
  },
  {
   "cell_type": "code",
   "execution_count": 402,
   "id": "ba094ac8",
   "metadata": {
    "ExecuteTime": {
     "end_time": "2024-09-06T14:08:16.954544Z",
     "start_time": "2024-09-06T14:08:16.945182Z"
    }
   },
   "outputs": [
    {
     "ename": "NameError",
     "evalue": "name 'MultiHeadAttentionNBOW' is not defined",
     "output_type": "error",
     "traceback": [
      "\u001b[31m---------------------------------------------------------------------------\u001b[39m",
      "\u001b[31mNameError\u001b[39m                                 Traceback (most recent call last)",
      "\u001b[36mCell\u001b[39m\u001b[36m \u001b[39m\u001b[32mIn[402]\u001b[39m\u001b[32m, line 69\u001b[39m\n\u001b[32m     66\u001b[39m     \u001b[38;5;28;01melse\u001b[39;00m:\n\u001b[32m     67\u001b[39m         \u001b[38;5;28mprint\u001b[39m(\u001b[33mf\u001b[39m\u001b[33m\"\u001b[39m\u001b[33mAttn Test failed, expected value was\u001b[39m\u001b[38;5;130;01m\\n\u001b[39;00m\u001b[38;5;132;01m{\u001b[39;00mcorrect_attention_weights\u001b[38;5;132;01m}\u001b[39;00m\u001b[38;5;130;01m\\n\u001b[39;00m\u001b[33mbut you got:\u001b[39m\u001b[38;5;130;01m\\n\u001b[39;00m\u001b[38;5;132;01m{\u001b[39;00mattention_weights\u001b[38;5;132;01m}\u001b[39;00m\u001b[33m\"\u001b[39m)\n\u001b[32m---> \u001b[39m\u001b[32m69\u001b[39m \u001b[43mmulti_attention_nbow_test_local_embeddings\u001b[49m\u001b[43m(\u001b[49m\u001b[43m)\u001b[49m\n\u001b[32m     70\u001b[39m multi_attention_nbow_test_local_attn()\n\u001b[32m     71\u001b[39m multihead_attn_nbow_test_local()\n",
      "\u001b[36mCell\u001b[39m\u001b[36m \u001b[39m\u001b[32mIn[402]\u001b[39m\u001b[32m, line 30\u001b[39m, in \u001b[36mmulti_attention_nbow_test_local_embeddings\u001b[39m\u001b[34m()\u001b[39m\n\u001b[32m     29\u001b[39m \u001b[38;5;28;01mdef\u001b[39;00m\u001b[38;5;250m \u001b[39m\u001b[34mmulti_attention_nbow_test_local_embeddings\u001b[39m():\n\u001b[32m---> \u001b[39m\u001b[32m30\u001b[39m     model = \u001b[43mMultiHeadAttentionNBOW\u001b[49m(embedding_dim=\u001b[32m3\u001b[39m, vocab_size=\u001b[32m5\u001b[39m, num_heads=\u001b[32m4\u001b[39m)\n\u001b[32m     31\u001b[39m     model.set_embedding_weight(torch.arange(\u001b[32m15\u001b[39m).reshape(\u001b[32m5\u001b[39m,\u001b[32m3\u001b[39m) / \u001b[32m50\u001b[39m)\n\u001b[32m     32\u001b[39m     embeddings = model.get_embeddings(torch.tensor([[\u001b[32m1\u001b[39m,\u001b[32m2\u001b[39m,\u001b[32m3\u001b[39m,\u001b[32m4\u001b[39m,\u001b[32m1\u001b[39m],[\u001b[32m1\u001b[39m,\u001b[32m2\u001b[39m,\u001b[32m3\u001b[39m,\u001b[32m0\u001b[39m,\u001b[32m0\u001b[39m]]))\n",
      "\u001b[31mNameError\u001b[39m: name 'MultiHeadAttentionNBOW' is not defined"
     ]
    }
   ],
   "source": [
    "# local test for sanity:\n",
    "# DO NOT CHANGE THIS CELL\n",
    "def multihead_attn_nbow_test_local():\n",
    "    embedding_dim = 10\n",
    "    vocab_size = 10\n",
    "    num_heads = 3\n",
    "    model = MultiHeadAttentionNBOW(vocab_size=vocab_size, embedding_dim=embedding_dim, num_heads=num_heads)\n",
    "    for _, module in model.named_parameters():\n",
    "        if hasattr(module, \"data\"):\n",
    "            nn.init.constant_(module, 0.3)\n",
    "    input = torch.tensor([[1,2,3,4,0,0,0],\n",
    "                          [5,6,7,0,0,0,0]]) % vocab_size\n",
    "    expected_result = torch.tensor(\n",
    "        [[2.7000, 2.7000, 2.7000, 2.7000, 2.7000, 2.7000, 2.7000, 2.7000, 2.7000,\n",
    "         2.7000, 2.7000, 2.7000, 2.7000, 2.7000, 2.7000, 2.7000, 2.7000, 2.7000,\n",
    "         2.7000, 2.7000],\n",
    "        [2.7000, 2.7000, 2.7000, 2.7000, 2.7000, 2.7000, 2.7000, 2.7000, 2.7000,\n",
    "         2.7000, 2.7000, 2.7000, 2.7000, 2.7000, 2.7000, 2.7000, 2.7000, 2.7000,\n",
    "         2.7000, 2.7000]]\n",
    "    )\n",
    "    with torch.no_grad():\n",
    "        local_result = model(input)\n",
    "    if torch.allclose(expected_result, local_result, rtol=0.001):\n",
    "        print(\"Passed local check\")\n",
    "    else:\n",
    "        print(f\"Test failed, expected value was\\n{expected_result}\\nbut you got:\\n{local_result}\")\n",
    "\n",
    "# local test for sanity:\n",
    "def multi_attention_nbow_test_local_embeddings():\n",
    "    model = MultiHeadAttentionNBOW(embedding_dim=3, vocab_size=5, num_heads=4)\n",
    "    model.set_embedding_weight(torch.arange(15).reshape(5,3) / 50)\n",
    "    embeddings = model.get_embeddings(torch.tensor([[1,2,3,4,1],[1,2,3,0,0]]))\n",
    "    correct_embeddings = torch.tensor([[[0.0600, 0.0800, 0.1000],\n",
    "                                        [0.1200, 0.1400, 0.1600],\n",
    "                                        [0.1800, 0.2000, 0.2200],\n",
    "                                        [0.2400, 0.2600, 0.2800],\n",
    "                                        [0.0600, 0.0800, 0.1000]],\n",
    "\n",
    "                                        [[0.0600, 0.0800, 0.1000],\n",
    "                                        [0.1200, 0.1400, 0.1600],\n",
    "                                        [0.1800, 0.2000, 0.2200],\n",
    "                                        [0.0000, 0.0200, 0.0400],\n",
    "                                        [0.0000, 0.0200, 0.0400]]])\n",
    "    if torch.allclose(embeddings, correct_embeddings, rtol=0.001):\n",
    "        print(\"Passed local embedding test\")\n",
    "    else:\n",
    "        print(f\"Embedding Test failed, expected value was\\n{correct_embeddings}\\nbut you got:\\n{embeddings}\")\n",
    "def multi_attention_nbow_test_local_attn():\n",
    "    model = MultiHeadAttentionNBOW(embedding_dim=3, vocab_size=5, num_heads=4)\n",
    "    model.set_embedding_weight(torch.arange(15).reshape(5,3) / 50)\n",
    "    model.set_attention_weights(torch.tensor([[0.1, 0.2, 0.3],[0.1, 0.2, 0.3],[0.2, 0.2, 0.2],[0, 0.3, 0.3]]))\n",
    "    attention_weights = model.get_attention_matrix(torch.tensor([[1,2,3,4,1],[1,2,3,0,0]]))\n",
    "    correct_attention_weights = torch.tensor([[[0.2033, 0.2033, 0.1981, 0.2052],\n",
    "                                                [0.1995, 0.1995, 0.2007, 0.1990],\n",
    "                                                [0.1975, 0.1975, 0.2014, 0.1961],\n",
    "                                                [0.1964, 0.1964, 0.2017, 0.1945],\n",
    "                                                [0.2033, 0.2033, 0.1981, 0.2052]],\n",
    "\n",
    "                                                [[0.3387, 0.3387, 0.3300, 0.3419],\n",
    "                                                [0.3323, 0.3323, 0.3344, 0.3314],\n",
    "                                                [0.3290, 0.3290, 0.3356, 0.3267],\n",
    "                                                [0.0000, 0.0000, 0.0000, 0.0000],\n",
    "                                                [0.0000, 0.0000, 0.0000, 0.0000]]])\n",
    "    if torch.allclose(attention_weights, correct_attention_weights, rtol=0.001):\n",
    "        print(\"Passed local Attn test\")\n",
    "    else:\n",
    "        print(f\"Attn Test failed, expected value was\\n{correct_attention_weights}\\nbut you got:\\n{attention_weights}\")\n",
    "\n",
    "multi_attention_nbow_test_local_embeddings()\n",
    "multi_attention_nbow_test_local_attn()\n",
    "multihead_attn_nbow_test_local()"
   ]
  },
  {
   "cell_type": "markdown",
   "id": "d3b569d6",
   "metadata": {},
   "source": [
    "#### 5.2.2. Model Training [3 points - Non-Programming]\n",
    "\n",
    "Assign and tune the below hyperparameters to optimize your model"
   ]
  },
  {
   "cell_type": "code",
   "execution_count": null,
   "id": "3813f290",
   "metadata": {
    "ExecuteTime": {
     "end_time": "2024-09-07T02:37:30.396855Z",
     "start_time": "2024-09-07T02:37:30.393939Z"
    }
   },
   "outputs": [],
   "source": [
    "#export\n",
    "# Assign hyperparameters and training parameters\n",
    "# Experiment with different values for these hyperparaters to optimize your model's performance\n",
    "def get_hyperparams_multihead():\n",
    "    learning_rate = None\n",
    "    epochs = None\n",
    "    num_heads = None\n",
    "    embedding_dim = None\n",
    "    return learning_rate, epochs, num_heads, embedding_dim"
   ]
  },
  {
   "cell_type": "code",
   "execution_count": null,
   "id": "f4d8d40b",
   "metadata": {
    "ExecuteTime": {
     "end_time": "2024-09-07T02:37:31.443498Z",
     "start_time": "2024-09-07T02:37:31.440545Z"
    }
   },
   "outputs": [],
   "source": [
    "#export\n",
    "def get_multihead_attention_model(vocab_size, embedding_dim, num_heads):\n",
    "    \"\"\"\n",
    "    This function returns an instance of the MultiHeadAttentionNBOW model. Initialize the MultiHeadAttentionNBOW model here and return it.\n",
    "    \"\"\"\n",
    "    model = None\n",
    "    ## YOUR CODE STARTS HERE ##\n",
    "\n",
    "    ## YOUR CODE ENDS HERE ##\n",
    "    return model"
   ]
  },
  {
   "cell_type": "code",
   "execution_count": null,
   "id": "18ddf7cc",
   "metadata": {
    "ExecuteTime": {
     "end_time": "2024-09-07T02:38:27.919330Z",
     "start_time": "2024-09-07T02:37:32.862917Z"
    }
   },
   "outputs": [],
   "source": [
    "# This is the main training loop. You'll need to complete the train_loop and val_loop functions.\n",
    "# You'll also need to complete the criterion and optimizer functions.\n",
    "# Feel free to experiment with different optimizers and learning rates.\n",
    "# Do not change anything else in this cell\n",
    "learning_rate, epochs, num_heads, embedding_dim = get_hyperparams_multihead()\n",
    "multihead_attention_model = get_multihead_attention_model(vocab_size=len(train_vocab.keys()),embedding_dim=embedding_dim, num_heads=num_heads).to(device)\n",
    "criterion = get_criterion()\n",
    "optimizer = get_optimizer(multihead_attention_model, learning_rate)\n",
    "train_loss_over_time_ma = []\n",
    "val_loss_over_time_ma = []\n",
    "for epoch in range(epochs):\n",
    "    train_loss = train_loop(multihead_attention_model, criterion, optimizer, train_iterator, epoch, save_every=2)\n",
    "    true, pred, val_loss = val_loop(multihead_attention_model, criterion, val_iterator)\n",
    "    accuracy, f1 = get_accuracy_and_f1_score(true, pred)\n",
    "    train_loss_over_time_ma.append(train_loss)\n",
    "    val_loss_over_time_ma.append(val_loss)\n",
    "    print(f\"Epoch {epoch+1} -- Train_Loss: {train_loss} -- Val_Loss: {val_loss} -- Val_Accuracy: {accuracy} -- Val_F1: {f1}\")\n",
    "save_checkpoint(multihead_attention_model, 'multihead_attention')"
   ]
  },
  {
   "cell_type": "code",
   "execution_count": null,
   "id": "af63f8b6",
   "metadata": {},
   "outputs": [],
   "source": [
    "# DO NOT CHANGE THIS CELL - retain the outputs in submission PDF for credits \n",
    "plot_loss(train_loss_over_time_ma, val_loss_over_time_ma, 'Multihead Attention NBOW')"
   ]
  },
  {
   "cell_type": "markdown",
   "id": "b7a2143a",
   "metadata": {},
   "source": [
    "#### 5.2.3. Model Evaluation [2 points - Programming]\n",
    "The final points for this will be awarded as per Gradescope's test split, which is different from the local versions. The cell below is just for a sanity check. Your metrics here may not exactly match with the ones on Gradescope, but if your model is fairly generalized, it should not be far off.\n",
    "- 0 points for accuracy <= 85%\n",
    "- 1 point for accuracy > 85% but <= 90%\n",
    "- 2 points for accuracy > 90%"
   ]
  },
  {
   "cell_type": "code",
   "execution_count": null,
   "id": "d8115a2a",
   "metadata": {
    "ExecuteTime": {
     "end_time": "2024-09-06T14:13:43.903039Z",
     "start_time": "2024-09-06T14:13:43.058502Z"
    }
   },
   "outputs": [],
   "source": [
    "# DO NOT CHANGE THIS CELL\n",
    "learning_rate, epochs, num_heads, embedding_dim = get_hyperparams_multihead()\n",
    "multihead_attention_model = get_multihead_attention_model(vocab_size=len(train_vocab.keys()),embedding_dim=embedding_dim, num_heads=num_heads).to(device)\n",
    "load_checkpoint(multihead_attention_model, 'multihead_attention')\n",
    "\n",
    "true, pred, val_loss = val_loop(multihead_attention_model, criterion, val_iterator)\n",
    "accuracy, f1 = get_accuracy_and_f1_score(true, pred)\n",
    "print(f\"Final Validation Accuracy: {accuracy}\")\n",
    "print(f\"Final Validation F1-Score: {f1}\")"
   ]
  },
  {
   "cell_type": "code",
   "execution_count": null,
   "id": "c5d23454",
   "metadata": {},
   "outputs": [],
   "source": [
    "# DO NOT CHANGE THIS CELL\n",
    "plot_confusion_matrix(true, pred, classes=id2label.values())"
   ]
  },
  {
   "cell_type": "markdown",
   "id": "2ad4227e",
   "metadata": {},
   "source": [
    "### 5.3. Self-Attention NBOW [7 points - Programming + 3 points - Non-programming]\n",
    "\n",
    "Self-attention is a mechanism in neural networks that enables each element in a sequence to consider and weigh the importance of every other element. This facilitates a more nuanced and context-aware representation of the sequence, greatly enhancing the capabilities of models in tasks involving sequential data, particularly in NLP. It has gained prominence with the introduction and success of Transformer models, like BERT, GPT (including GPT-3), and others. This is not a full-fledged implementation of it, but instead a conceptual flavor of the mechanism."
   ]
  },
  {
   "cell_type": "markdown",
   "id": "974fdb51",
   "metadata": {},
   "source": [
    "We will now define an encoder that uses a simple form of self-attention when producing attention weights for each word in the sentence:\n",
    "$$a_{ts} = emb(x_t)^Temb(x_s)$$\n",
    "$$α_t \\propto exp(\\sum_s a_{ts})$$\n",
    "$$h_{self} = \\sum α_temb(x_t)$$\n",
    "Then, the probability of a class is given by\n",
    "$$softmax(w^Th_{self})$$\n",
    "The unnormalized attention weight for a word $x$ is computed using the dot product between its embedding and those for all other words in the sentence, followed by a summation and exponentiation. Unlike the model in Section 5.1., this model does not introduce any new parameters for computing the attention function, simply using the same word embeddings for the attention. Therefore, this model has the same number of parameters as the model in Section 2.\n",
    "For improved stability, we can also add a “residual connection”, which would change Eq. 1 to\n",
    "$$softmax(w^T(h_{self} + h_{avg}))$$\n",
    "where $h_{avg}$ is computed as in Section 2 (though using the same word embeddings as in $h_{self}$).\n"
   ]
  },
  {
   "cell_type": "markdown",
   "id": "2d6f4df1",
   "metadata": {},
   "source": [
    "#### 5.3.1. Model Definition [5 points - Programming]\n",
    "Define your self attention model below"
   ]
  },
  {
   "cell_type": "code",
   "execution_count": null,
   "id": "63c9a563",
   "metadata": {
    "ExecuteTime": {
     "end_time": "2024-09-06T14:13:49.118448Z",
     "start_time": "2024-09-06T14:13:49.111063Z"
    }
   },
   "outputs": [],
   "source": [
    "#export\n",
    "class SelfAttentionNBOW(nn.Module):\n",
    "    \n",
    "    def __init__(self, vocab_size, embedding_dim, num_classes=20):\n",
    "        super(SelfAttentionNBOW, self).__init__()\n",
    "        # YOUR CODE STARTS HERE\n",
    "        pass # remove this when you add your implementation        \n",
    "        # YOUR CODE ENDS HERE\n",
    "\n",
    "    def forward(self, x):\n",
    "        # YOUR CODE STARTS HERE\n",
    "        pass # remove this when you add your implementation       \n",
    "        # YOUR CODE ENDS HERE\n",
    "    def get_embeddings(self, x):\n",
    "        '''\n",
    "        This function returns the embeddings of the input x\n",
    "        '''\n",
    "        ### YOUR CODE STARTS HERE ###\n",
    "        pass # remove this when you add your implementation\n",
    "        ### YOUR CODE ENDS HERE ###\n",
    "    def set_embedding_weight(self, weight):\n",
    "        '''\n",
    "        This function sets the embedding weights to the input weight ensure you aren't recording gradients for this\n",
    "        Args:\n",
    "            weight: torch.tensor of shape (vocab_size, embedding_dim)\n",
    "        '''\n",
    "        ### YOUR CODE STARTS HERE ###\n",
    "        pass # remove this when you add your implementation\n",
    "        ### YOUR CODE ENDS HERE ###\n",
    "    def get_attention_matrix(self, x):\n",
    "        '''\n",
    "        This function returns the normalized attention matrix for the input x\n",
    "        Args:\n",
    "            x: torch.tensor of shape (BATCH_SIZE, max seq length in batch)\n",
    "        Returns:\n",
    "            attention_weights: torch.tensor of shape (BATCH_SIZE, max seq length in batch, max seq length in batch)\n",
    "        '''\n",
    "        ### YOUR CODE STARTS HERE ###\n",
    "        pass # remove this when you add your implementation\n",
    "        ### YOUR CODE ENDS HERE ###\n",
    "    "
   ]
  },
  {
   "cell_type": "code",
   "execution_count": 401,
   "id": "f48ce212",
   "metadata": {
    "ExecuteTime": {
     "end_time": "2024-09-06T14:14:10.886664Z",
     "start_time": "2024-09-06T14:14:10.878505Z"
    }
   },
   "outputs": [
    {
     "ename": "NameError",
     "evalue": "name 'SelfAttentionNBOW' is not defined",
     "output_type": "error",
     "traceback": [
      "\u001b[31m---------------------------------------------------------------------------\u001b[39m",
      "\u001b[31mNameError\u001b[39m                                 Traceback (most recent call last)",
      "\u001b[36mCell\u001b[39m\u001b[36m \u001b[39m\u001b[32mIn[401]\u001b[39m\u001b[32m, line 55\u001b[39m\n\u001b[32m     53\u001b[39m     \u001b[38;5;28;01melse\u001b[39;00m:\n\u001b[32m     54\u001b[39m         \u001b[38;5;28mprint\u001b[39m(\u001b[33mf\u001b[39m\u001b[33m\"\u001b[39m\u001b[33mAttn Test failed, expected value was\u001b[39m\u001b[38;5;130;01m\\n\u001b[39;00m\u001b[38;5;132;01m{\u001b[39;00mcorrect_attention_weights\u001b[38;5;132;01m}\u001b[39;00m\u001b[38;5;130;01m\\n\u001b[39;00m\u001b[33mbut you got:\u001b[39m\u001b[38;5;130;01m\\n\u001b[39;00m\u001b[38;5;132;01m{\u001b[39;00mattention_weights\u001b[38;5;132;01m}\u001b[39;00m\u001b[33m\"\u001b[39m)\n\u001b[32m---> \u001b[39m\u001b[32m55\u001b[39m \u001b[43mself_attention_nbow_test_local\u001b[49m\u001b[43m(\u001b[49m\u001b[43m)\u001b[49m\n\u001b[32m     56\u001b[39m self_attention_nbow_test_local_embeddings()\n\u001b[32m     57\u001b[39m self_attention_nbow_test_local_attn()\n",
      "\u001b[36mCell\u001b[39m\u001b[36m \u001b[39m\u001b[32mIn[401]\u001b[39m\u001b[32m, line 3\u001b[39m, in \u001b[36mself_attention_nbow_test_local\u001b[39m\u001b[34m()\u001b[39m\n\u001b[32m      2\u001b[39m \u001b[38;5;28;01mdef\u001b[39;00m\u001b[38;5;250m \u001b[39m\u001b[34mself_attention_nbow_test_local\u001b[39m():\n\u001b[32m----> \u001b[39m\u001b[32m3\u001b[39m     model = \u001b[43mSelfAttentionNBOW\u001b[49m(vocab_size=\u001b[32m10\u001b[39m, embedding_dim=\u001b[32m10\u001b[39m)\n\u001b[32m      4\u001b[39m     \u001b[38;5;28;01mfor\u001b[39;00m _, module \u001b[38;5;129;01min\u001b[39;00m model.named_parameters():\n\u001b[32m      5\u001b[39m         \u001b[38;5;28;01mif\u001b[39;00m \u001b[38;5;28mhasattr\u001b[39m(module, \u001b[33m\"\u001b[39m\u001b[33mdata\u001b[39m\u001b[33m\"\u001b[39m):\n",
      "\u001b[31mNameError\u001b[39m: name 'SelfAttentionNBOW' is not defined"
     ]
    }
   ],
   "source": [
    "# local test for sanity:\n",
    "def self_attention_nbow_test_local():\n",
    "    model = SelfAttentionNBOW(vocab_size=10, embedding_dim=10)\n",
    "    for _, module in model.named_parameters():\n",
    "        if hasattr(module, \"data\"):\n",
    "            nn.init.constant_(module, 0.3)\n",
    "    input = torch.tensor([[1,2,3,4,0,0,0],\n",
    "                          [5,6,7,0,0,0,0]]) % 10\n",
    "    \n",
    "    expected_result = torch.tensor(\n",
    "        [[1.8000, 1.8000, 1.8000, 1.8000, 1.8000, 1.8000, 1.8000, 1.8000, 1.8000,\n",
    "         1.8000, 1.8000, 1.8000, 1.8000, 1.8000, 1.8000, 1.8000, 1.8000, 1.8000,\n",
    "         1.8000, 1.8000],\n",
    "        [1.8000, 1.8000, 1.8000, 1.8000, 1.8000, 1.8000, 1.8000, 1.8000, 1.8000,\n",
    "         1.8000, 1.8000, 1.8000, 1.8000, 1.8000, 1.8000, 1.8000, 1.8000, 1.8000,\n",
    "         1.8000, 1.8000]]\n",
    "    )\n",
    "    with torch.no_grad():\n",
    "        local_result = model(input)\n",
    "    if torch.allclose(expected_result, local_result, rtol=0.001):\n",
    "        print(\"Passed local check\")\n",
    "    else:\n",
    "        print(f\"Test failed, expected value was\\n{expected_result}\\nbut you got:\\n{local_result}\")\n",
    "\n",
    "def self_attention_nbow_test_local_embeddings():\n",
    "    model = SelfAttentionNBOW(vocab_size=5, embedding_dim=3)\n",
    "    model.set_embedding_weight(torch.arange(15).reshape(5, 3) / 50)\n",
    "    embeddings = model.get_embeddings(torch.tensor([[1, 2, 3, 4, 1], [1, 2, 3, 0, 0]]))\n",
    "    correct_embeddings = torch.tensor([[[0.0600, 0.0800, 0.1000],\n",
    "                                        [0.1200, 0.1400, 0.1600],\n",
    "                                        [0.1800, 0.2000, 0.2200],\n",
    "                                        [0.2400, 0.2600, 0.2800],\n",
    "                                        [0.0600, 0.0800, 0.1000]],\n",
    "\n",
    "                                        [[0.0600, 0.0800, 0.1000],\n",
    "                                        [0.1200, 0.1400, 0.1600],\n",
    "                                        [0.1800, 0.2000, 0.2200],\n",
    "                                        [0.0000, 0.0200, 0.0400],\n",
    "                                        [0.0000, 0.0200, 0.0400]]])\n",
    "    if torch.allclose(embeddings, correct_embeddings, rtol=0.001):\n",
    "        print(\"Passed local embedding test\")\n",
    "    else:\n",
    "        print(f\"Embedding Test failed, expected value was\\n{correct_embeddings}\\nbut you got:\\n{embeddings}\")\n",
    "\n",
    "def self_attention_nbow_test_local_attn():\n",
    "    model = SelfAttentionNBOW(vocab_size=5, embedding_dim=3)\n",
    "    model.set_embedding_weight(torch.arange(15).reshape(5,3) / 50)\n",
    "    attention_weights = model.get_attention_matrix(torch.tensor([[1,2,3,4,1],[1,2,3,0,0]]))\n",
    "    correct_attention_weights = torch.tensor([[0.1675, 0.1921, 0.2203, 0.2526, 0.1675],\n",
    "        [0.3085, 0.3327, 0.3588, 0.0000, 0.0000]])\n",
    "    if torch.allclose(attention_weights, correct_attention_weights, rtol=0.001):\n",
    "        print(\"Passed local Attn test\")\n",
    "    else:\n",
    "        print(f\"Attn Test failed, expected value was\\n{correct_attention_weights}\\nbut you got:\\n{attention_weights}\")\n",
    "self_attention_nbow_test_local()\n",
    "self_attention_nbow_test_local_embeddings()\n",
    "self_attention_nbow_test_local_attn()\n"
   ]
  },
  {
   "cell_type": "code",
   "execution_count": null,
   "id": "ae90cc4a",
   "metadata": {
    "ExecuteTime": {
     "end_time": "2024-09-06T14:14:13.399905Z",
     "start_time": "2024-09-06T14:14:13.397111Z"
    }
   },
   "outputs": [],
   "source": [
    "#export\n",
    "def get_self_attention_model(vocab_size, embedding_dim):\n",
    "    \"\"\"\n",
    "    This function returns an instance of the Self Attention model. Initialize the Self Attention model here and return it.\n",
    "    \"\"\"\n",
    "    model = None\n",
    "    ## YOUR CODE STARTS HERE ##\n",
    "\n",
    "    ## YOUR CODE ENDS HERE ##\n",
    "    return model"
   ]
  },
  {
   "cell_type": "markdown",
   "id": "31c1a348",
   "metadata": {},
   "source": [
    "#### 5.3.2. Model Training [3 points - Non-Programming]\n",
    "Assign and tune the below hyperparameters to optimize your model"
   ]
  },
  {
   "cell_type": "code",
   "execution_count": null,
   "id": "135edd83",
   "metadata": {
    "ExecuteTime": {
     "end_time": "2024-09-06T14:22:31.700556Z",
     "start_time": "2024-09-06T14:22:31.695913Z"
    }
   },
   "outputs": [],
   "source": [
    "#export\n",
    "# Assign hyperparameters and training parameters\n",
    "# Experiment with different values for these hyperparaters to optimize your model's performance\n",
    "def get_hyperparams_self_attn():\n",
    "    learning_rate = None\n",
    "    epochs = None\n",
    "    embedding_dim = None\n",
    "    return learning_rate, epochs, embedding_dim"
   ]
  },
  {
   "cell_type": "code",
   "execution_count": null,
   "id": "f9671794",
   "metadata": {
    "ExecuteTime": {
     "end_time": "2024-09-06T14:23:24.581441Z",
     "start_time": "2024-09-06T14:22:34.449703Z"
    },
    "scrolled": false
   },
   "outputs": [],
   "source": [
    "# This is the main training loop. You'll need to complete the train_loop and val_loop functions.\n",
    "# You'll also need to complete the criterion and optimizer functions.\n",
    "# Feel free to experiment with different optimizers and learning rates.\n",
    "# Do not change anything else in this cell \n",
    "learning_rate, epochs, embedding_dim = get_hyperparams_self_attn()\n",
    "self_attention_model = get_self_attention_model(len(train_vocab.keys()),embedding_dim).to(device)\n",
    "criterion = get_criterion()\n",
    "optimizer = get_optimizer(self_attention_model, learning_rate)\n",
    "train_loss_over_time_sea = []\n",
    "val_loss_over_time_sea = []\n",
    "for epoch in range(epochs):\n",
    "    train_loss = train_loop(self_attention_model, criterion, optimizer, train_iterator, epoch, save_every=2)\n",
    "    true, pred, val_loss = val_loop(self_attention_model, criterion, val_iterator)\n",
    "    accuracy, f1 = get_accuracy_and_f1_score(true, pred)\n",
    "    train_loss_over_time_sea.append(train_loss)\n",
    "    val_loss_over_time_sea.append(val_loss)\n",
    "    print(f\"Epoch {epoch+1} -- Train_Loss: {train_loss} -- Val_Loss: {val_loss} -- Val_Accuracy: {accuracy} -- Val_F1: {f1}\")\n",
    "save_checkpoint(self_attention_model, 'self_attention')"
   ]
  },
  {
   "cell_type": "code",
   "execution_count": null,
   "id": "1704ef10",
   "metadata": {},
   "outputs": [],
   "source": [
    "# DO NOT CHANGE THIS CELL - retain the outputs in submission PDF for credits \n",
    "plot_loss(train_loss_over_time_sea, val_loss_over_time_sea, 'Self Attention NBOW')"
   ]
  },
  {
   "cell_type": "markdown",
   "id": "adf4a628",
   "metadata": {},
   "source": [
    "#### 5.3.3. Model Evaluation Model Evaluation [2 points - Programming]\n",
    "The final points for this will be awarded as per Gradescope's test split, which is different from the local versions. The cell below is just for a sanity check. Your metrics here may not exactly match with the ones on Gradescope, but if your model is fairly generalized, it should not be far off.\n",
    "- 0 points for accuracy <= 85%\n",
    "- 1 point for accuracy > 85% but <= 90%\n",
    "- 2 points for accuracy > 90%"
   ]
  },
  {
   "cell_type": "code",
   "execution_count": null,
   "id": "2e3be9d0",
   "metadata": {
    "ExecuteTime": {
     "end_time": "2024-09-06T14:24:34.940756Z",
     "start_time": "2024-09-06T14:24:34.280144Z"
    },
    "scrolled": true
   },
   "outputs": [],
   "source": [
    "# DO NOT CHANGE THIS CELL\n",
    "learning_rate, epochs, embedding_dim = get_hyperparams_self_attn()\n",
    "self_attention_model = get_self_attention_model(len(train_vocab.keys()),embedding_dim).to(device)\n",
    "load_checkpoint(self_attention_model, 'self_attention', map_location=device)\n",
    "\n",
    "true, pred, val_loss = val_loop(self_attention_model, criterion, val_iterator)\n",
    "accuracy, f1 = get_accuracy_and_f1_score(true, pred)\n",
    "print(f\"Final Validation Accuracy: {accuracy}\")\n",
    "print(f\"Final Validation F1-Score: {f1}\")"
   ]
  },
  {
   "cell_type": "code",
   "execution_count": null,
   "id": "7172d399",
   "metadata": {},
   "outputs": [],
   "source": [
    "# DO NOT CHANGE THIS CELL\n",
    "plot_confusion_matrix(true, pred, classes=id2label.values())"
   ]
  },
  {
   "cell_type": "markdown",
   "id": "d5d07564",
   "metadata": {},
   "source": [
    "## 6. Perceptron and Hinge Losses (16 Points - Programming)\n",
    "\n"
   ]
  },
  {
   "cell_type": "markdown",
   "id": "968228bd",
   "metadata": {},
   "source": [
    "### 6.1. Perceptron Loss (5 points - Programming)\n",
    "\n",
    "The perceptron loss penalizes the model only when the true class is not the most confident prediction. If the model incorrectly assigns a higher score to another class, the perceptron loss encourages the model to adjust its weights to fix this mistake.\n",
    "\n",
    "This is achieved by considering the difference between the maximum score among all other classes and the score of the true class. If the maximum incorrect score is higher than the true class score, the model receives a penalty proportional to how much worse the true class was predicted compared to the highest incorrect class.\n",
    "\n",
    "Given a set of predictions from the perceptron model for a batch of samples, we denote:\n",
    "\n",
    "- $ \\mathbf{y} \\in \\mathbb{R}^{B \\times C} $: The matrix of predicted scores, where $B$ is the batch size and $C$ is the number of classes. Each row represents the predicted scores for one sample.\n",
    "- $\\mathbf{y}_{\\text{true}} \\in \\{0, 1, \\ldots, C-1\\}^{B}$: The ground truth labels, where each entry is an integer representing the correct class label for each sample.\n",
    "\n",
    "For a given sample \\( i \\), let:\n",
    "\n",
    "- $s_j $ be the score for class $j$ (from the predicted score vector).\n",
    "- $ s_{\\text{true}} $ be the score for the true class.\n",
    "\n",
    "The **perceptron loss** for data instance $x_i$ is defined as:\n",
    "\n",
    "$$\n",
    "L_{\\text{perceptron}}(i) = \\max \\left( 0, \\max_{j} (s_j) - s_{\\text{true}} \\right)\n",
    "$$\n",
    "\n",
    "For batches, we compute the loss for each sample and take the mean over the batch\n",
    "\n",
    "Implement this PerceptronLoss in the forward method below.\n",
    "\n",
    "NOTE: The scores are logits, the predictions of models before doing any softmax.\n"
   ]
  },
  {
   "cell_type": "code",
   "execution_count": null,
   "id": "2acb6aed",
   "metadata": {},
   "outputs": [],
   "source": [
    "# export\n",
    "\n",
    "class PerceptronLoss(nn.Module):\n",
    "    def __init__(self):\n",
    "        super(PerceptronLoss, self).__init__()\n",
    "\n",
    "    def forward(self, predictions, labels):\n",
    "        \"\"\"\n",
    "        Calculate the perceptron loss between predictions and labels.\n",
    "\n",
    "        Args:\n",
    "            predictions (torch.Tensor): The predictions from the model for a batch of inputs.\n",
    "                                        Shape should be (batch_size, num_classes).\n",
    "            labels (torch.Tensor): The ground truth labels for each input in the batch.\n",
    "                                   Shape should be (batch_size,) with each value between 0 and num_classes-1.\n",
    "\n",
    "        Returns:\n",
    "            scalar: The mean perceptron loss for the batch.\n",
    "        \"\"\"\n",
    "        loss = None\n",
    "        # YOUR CODE STARTS HERE\n",
    "\n",
    "        # YOUR CODE ENDS HERE\n",
    "        return loss"
   ]
  },
  {
   "cell_type": "code",
   "execution_count": null,
   "id": "05f7d9eb",
   "metadata": {},
   "outputs": [],
   "source": [
    "# DO NOT CHANGE THIS CELL\n",
    "perceptron_loss = PerceptronLoss()\n",
    "\n",
    "def test_correct_classification():\n",
    "    predictions = torch.tensor([[3.0, 2.0, 1.0],\n",
    "                                [1.0, 4.0, 2.0]])\n",
    "    labels = torch.tensor([0, 1])\n",
    "    loss = perceptron_loss(predictions, labels).item()\n",
    "    expected_loss = 0.0\n",
    "    rtol = 0.001  # Relative tolerance\n",
    "    if abs(expected_loss - loss) <= rtol * abs(expected_loss):\n",
    "        print('Test case passed for correct classification')\n",
    "    else:\n",
    "        print(f\"Test case failed for correct classification, expected value was\\n{expected_loss}\\nbut you got:\\n{loss}\")\n",
    "\n",
    "# Test for incorrect classification\n",
    "def test_incorrect_classification():\n",
    "    predictions = torch.tensor([[1.0, 3.0, 2.0],\n",
    "                                [1.0, 2.0, 4.0]])\n",
    "    labels = torch.tensor([0, 1])\n",
    "    \n",
    "    expected_loss = 2.0\n",
    "    loss = perceptron_loss(predictions, labels).item()\n",
    "    \n",
    "    rtol = 0.001  # Relative tolerance\n",
    "    if abs(expected_loss - loss) <= rtol * abs(expected_loss):\n",
    "        print('Test case passed for incorrect classification')\n",
    "    else:\n",
    "        print(f\"Test case failed for incorrect classification, expected value was\\n{expected_loss}\\nbut you got:\\n{loss}\")\n",
    "\n",
    "# Execute test cases\n",
    "test_correct_classification()\n",
    "test_incorrect_classification()"
   ]
  },
  {
   "cell_type": "markdown",
   "id": "26e23769",
   "metadata": {},
   "source": [
    "### 6.2. NBOW Training using Perceptron Loss (3 points - Programming)\n",
    "\n",
    "Credits will be awarded as per the following final results on the Gradescope split -\n",
    "- 0 points for accuracy <= 75%\n",
    "- 1 point for accuracy > 75% but <= 80% \n",
    "- 2 points for accuracy > 80%"
   ]
  },
  {
   "cell_type": "code",
   "execution_count": null,
   "id": "4a5cc940",
   "metadata": {
    "scrolled": false
   },
   "outputs": [],
   "source": [
    "# This is the main training loop. You'll need to complete the train_loop and val_loop functions.\n",
    "# You'll also need to complete the criterion and optimizer functions.\n",
    "# Feel free to experiment with different optimizers and learning rates.\n",
    "# Do not change anything else in this cell\n",
    "learning_rate, epochs, embedding_dim = get_hyperparams_nbow()\n",
    "nbow_model = get_nbow_model(vocab_size= len(train_vocab.keys()), embedding_dim = embedding_dim).to(device)\n",
    "criterion = PerceptronLoss()\n",
    "optimizer = get_optimizer(nbow_model, learning_rate)\n",
    "train_loss_over_time_perceptron = []\n",
    "val_loss_over_time_perceptron = []\n",
    "for epoch in range(epochs):\n",
    "    train_loss = train_loop(nbow_model, criterion, optimizer, train_iterator, epoch, save_every=2)\n",
    "    true, pred, val_loss = val_loop(nbow_model, criterion, val_iterator)\n",
    "    accuracy, f1 = get_accuracy_and_f1_score(true, pred)\n",
    "    train_loss_over_time_perceptron.append(train_loss)\n",
    "    val_loss_over_time_perceptron.append(val_loss)\n",
    "    print(f\"Epoch {epoch+1} -- Train_Loss: {train_loss} -- Val_Loss: {val_loss} -- Val_Accuracy: {accuracy} -- Val_F1: {f1}\")\n",
    "    \n",
    "save_checkpoint(nbow_model, 'nbow', loss_fn='perceptron')"
   ]
  },
  {
   "cell_type": "code",
   "execution_count": null,
   "id": "4266b528",
   "metadata": {},
   "outputs": [],
   "source": [
    "# DO NOT CHANGE THIS CELL\n",
    "plot_loss(train_loss_over_time_perceptron, val_loss_over_time_perceptron, 'NBOW with Perceptron Loss')"
   ]
  },
  {
   "cell_type": "code",
   "execution_count": null,
   "id": "4931b22f",
   "metadata": {},
   "outputs": [],
   "source": [
    "# DO NOT CHANGE THIS CELL\n",
    "# load best model from checkpoint \n",
    "learning_rate, epochs, embedding_dim = get_hyperparams_nbow()\n",
    "nbow_model = get_nbow_model(vocab_size= len(train_vocab.keys()), embedding_dim = embedding_dim).to(device)\n",
    "load_checkpoint(nbow_model, 'nbow', 'perceptron', map_location=device)\n",
    "\n",
    "# evaluate model \n",
    "true, pred, val_loss = val_loop(nbow_model, criterion, val_iterator)\n",
    "accuracy, f1 = get_accuracy_and_f1_score(true, pred)\n",
    "print(f\"Final Validation Accuracy: {accuracy}\")\n",
    "print(f\"Final Validation F1-Score: {f1}\")"
   ]
  },
  {
   "cell_type": "code",
   "execution_count": null,
   "id": "d4d6fbbb",
   "metadata": {},
   "outputs": [],
   "source": [
    "# DO NOT CHANGE THIS CELL\n",
    "plot_confusion_matrix(true, pred, classes=id2label.values())"
   ]
  },
  {
   "cell_type": "markdown",
   "id": "35442a25",
   "metadata": {},
   "source": [
    "### 6.3. Hinge Loss (5 points - Programming)\n",
    "\n",
    "Read through the dataset documentation link provided with this notebook, or feel free to Google and read about 20 Newsgroups dataset, it's quite popular. If you try to understand the labels, they are more similar to some of them than others, semantically. For example, `talk.politics.mideast` is more closer to `talk.politics.misc` than `sci.space`. \n",
    "\n",
    "Mathematically speaking, it means that misclassification of a label to some classes may be less penalizable than some other classes. This is the perfect scenario of using hinge loss.\n",
    "\n",
    "The **hinge loss** is another loss function commonly used for classification, especially in **support vector machines (SVMs)**. It is designed to maximize the margin between the decision boundary and the closest data points from each class.\n",
    "\n",
    "The hinge loss penalizes predictions based on how confident the model is about the correct class relative to other classes. It aims to push the score of the true class far above the scores of all other classes, ensuring that the model not only predicts the correct class but does so confidently.\n",
    "\n",
    "For each input sample $x_i$, the model computes a score for each class. The hinge loss compares the score for the true class to the scores for all other classes and penalizes the model if the true class score is not sufficiently higher than the scores for the other classes.\n",
    "\n",
    "Given a set of predictions from the model for a batch of samples, we denote:\n",
    "\n",
    "- $\\mathbf{y} \\in \\mathbb{R}^{B \\times C}$: The matrix of predicted scores, where $B$ is the batch size and $C$ is the number of classes. Each row represents the predicted scores for one sample.\n",
    "- $\\mathbf{y}_{\\text{true}} \\in \\{0, 1, \\ldots, C-1\\}^{B}$: The ground truth labels, where each entry is an integer representing the correct class label for each sample.\n",
    "\n",
    "For a given sample \\( i \\), let:\n",
    "\n",
    "- $s_j$ be the score for class $j$ (from the predicted score vector).\n",
    "- $s_{\\text{true}}$ be the score for the true class.\n",
    "- $l(j, true)$ be the cost if a task instance belonging to $true$ has highest score for $j$\n",
    "\n",
    "The **hinge loss** for a task instance \\( x_i \\) is defined as:\n",
    "\n",
    "$$\n",
    "L_{\\text{hinge}}(i) = \\max \\left( 0, \\max_j\\left(s_j + l(j, true)\\right) - s_{\\text{true}}\\right)\n",
    "$$\n",
    "\n",
    "For batches, we compute the loss for each sample and take the mean over the batch to obtain a scalar value representing the average hinge loss.\n",
    "\n",
    "HINT: The non-recommended solution is to use one loop. However, it is highly recommended to not do that for efficiency reasons. `torch.gather()` should be helpful.\n"
   ]
  },
  {
   "cell_type": "code",
   "execution_count": null,
   "id": "c04003c6",
   "metadata": {},
   "outputs": [],
   "source": [
    "# export\n",
    "class HingeLoss(nn.Module):\n",
    "    def __init__(self, cost_matrix, device):\n",
    "        super(HingeLoss, self).__init__()\n",
    "        \"\"\"\n",
    "        cost_matrix is a 2D list. Convert it to a tensor on appropriate device.\n",
    "        \"\"\"\n",
    "        # YOUR CODE STARTS HERE\n",
    "\n",
    "        # YOUR CODE ENDS HERE\n",
    "\n",
    "    def forward(self, predictions, labels):\n",
    "        \"\"\"\n",
    "        Calculate the hinge loss between predictions and labels, adjusting for cost.\n",
    "\n",
    "        Args:\n",
    "            predictions (torch.Tensor): The predictions from the model for a batch of inputs.\n",
    "                                        Shape should be (batch_size, num_classes).\n",
    "            labels (torch.Tensor): The ground truth labels for each input in the batch.\n",
    "                                   Shape should be (batch_size,) with each value between 0 and num_classes-1.\n",
    "\n",
    "        Returns:\n",
    "            scalar: The mean hinge loss for the batch, adjusted for the defined cost.\n",
    "        \"\"\"\n",
    "        loss = None\n",
    "        # YOUR CODE STARTS HERE\n",
    "\n",
    "        # YOUR CODE ENDS HERE\n",
    "        return loss"
   ]
  },
  {
   "cell_type": "code",
   "execution_count": null,
   "id": "daa5891f",
   "metadata": {},
   "outputs": [],
   "source": [
    "# DO NOT CHANGE THIS CELL\n",
    "def test_correct_classification(hinge_loss):\n",
    "    \"\"\"\n",
    "    Test case where the true class has the highest score.\n",
    "    The loss should be 0.\n",
    "    \"\"\"\n",
    "    rtol = 0.0001\n",
    "    predictions = torch.tensor([[3.0, 2.0, 1.0], \n",
    "                                [1.0, 4.0, 2.0]])  \n",
    "    labels = torch.tensor([0, 1])  \n",
    "    loss = hinge_loss(predictions, labels).item()\n",
    "    expected_loss = 0.0\n",
    "    if abs(expected_loss - loss) <= rtol * abs(expected_loss):\n",
    "        print('Test case 1 passed')\n",
    "    else:\n",
    "        print(f\"Test case 1 failed, expected value was\\n{expected_loss}\\nbut you got:\\n{loss}\")\n",
    "    \n",
    "def test_incorrect_classification(hinge_loss):\n",
    "    \"\"\"\n",
    "    Test case where the true class does not have the highest score.\n",
    "    The loss should be greater than 0.\n",
    "    \"\"\"\n",
    "    rtol = 0.0001\n",
    "    predictions = torch.tensor([[1.0, 3.0, 2.0], \n",
    "                                [1.0, 2.0, 4.0]])  \n",
    "    labels = torch.tensor([0, 1])  \n",
    "\n",
    "    expected_loss = 3.0\n",
    "    loss = hinge_loss(predictions, labels).item()\n",
    "    \n",
    "    if abs(expected_loss - loss) <= rtol * abs(expected_loss):\n",
    "        print('Test case 2 passed')\n",
    "    else:\n",
    "        print(f\"Test case 2 failed, expected value was\\n{expected_loss}\\nbut you got:\\n{loss}\")\n",
    "        \n",
    "cost_matrix = [[0, 1, 1], [1, 0, 1], [1, 1, 0]]\n",
    "hinge_loss = HingeLoss(costslack_matrix, device='cpu')\n",
    "test_correct_classification(hinge_loss)\n",
    "test_incorrect_classification(hinge_loss)"
   ]
  },
  {
   "cell_type": "markdown",
   "id": "34af004c",
   "metadata": {},
   "source": [
    "### 6.4. NBOW Training using Hinge Loss [3 points - Programming]\n",
    "\n",
    "First, define a cost matrix. Take inspiration from the confusion matrix of `PerceptronLoss` results, `id2label` map and your knowledge of what dataset labels are. This will help is constructing a good cost matrix.\n",
    "\n",
    "Credits will be awarded on the following cutoffs on Gradescope split -\n",
    "- 0 points for accuracy <= 84%, \n",
    "- 1 point for accuracy > 84% but <= 88%, \n",
    "- 2 points for accuracy > 88%"
   ]
  },
  {
   "cell_type": "code",
   "execution_count": null,
   "id": "be1af43f",
   "metadata": {},
   "outputs": [],
   "source": [
    "# export\n",
    "def get_cost_matrix(num_classes=20):\n",
    "    \"\"\"\n",
    "    Generates a cost matrix for a specified number of classes using Python lists.\n",
    "\n",
    "    Args:\n",
    "        num_classes (int): The number of classes for which the cost matrix is to be created.\n",
    "\n",
    "    Returns:\n",
    "        list of lists: A 2D list where element (i, j) is the absolute difference between i and j,\n",
    "                       set to zero if i equals j.\n",
    "    \"\"\"\n",
    "    cost_matrix = None\n",
    "    # YOUR CODE STARTS HERE\n",
    "\n",
    "    # YOUR CODE ENDS HERE\n",
    "    return cost_matrix"
   ]
  },
  {
   "cell_type": "code",
   "execution_count": null,
   "id": "a5a7f2a0",
   "metadata": {},
   "outputs": [],
   "source": [
    "# DO NOT CHANGE THIS CELL\n",
    "def test_cost(matrix):\n",
    "    n = len(matrix)\n",
    "    \n",
    "    # Check if the matrix is square\n",
    "    for row in matrix:\n",
    "        if len(row) != n:\n",
    "            print('Incorrect cost matrix: Not a square matrix.')\n",
    "    \n",
    "    # Check for symmetry and zero diagonal elements\n",
    "    for i in range(n):\n",
    "        if matrix[i][i] != 0:\n",
    "            print('Incorrect cost matrix: Diagonal elements are not zero.')\n",
    "        \n",
    "        for j in range(i + 1, n):\n",
    "            if matrix[i][j] != matrix[j][i]:\n",
    "                print('Incorrect cost matrix: Not a symmetric matrix.')\n",
    "    \n",
    "    print('Valid cost matrix')\n",
    "\n",
    "cost_matrix = get_cost_matrix()\n",
    "test_cost(cost_matrix)"
   ]
  },
  {
   "cell_type": "code",
   "execution_count": null,
   "id": "368d2dc4",
   "metadata": {},
   "outputs": [],
   "source": [
    "# This is the main training loop. You'll need to complete the train_loop and val_loop functions.\n",
    "# You'll also need to complete the criterion and optimizer functions.\n",
    "# Feel free to experiment with different optimizers and learning rates.\n",
    "# Do not change anything else in this cell\n",
    "learning_rate, epochs, embedding_dim = get_hyperparams_nbow()\n",
    "nbow_model = get_nbow_model(vocab_size= len(train_vocab.keys()), embedding_dim = embedding_dim).to(device)\n",
    "cost_matrix = get_cost_matrix()\n",
    "criterion = HingeLoss(cost_matrix, device=device)\n",
    "optimizer = get_optimizer(nbow_model, learning_rate)\n",
    "train_loss_over_time_hinge = []\n",
    "val_loss_over_time_hinge = []\n",
    "for epoch in range(epochs):\n",
    "    train_loss = train_loop(nbow_model, criterion, optimizer, train_iterator, epoch, save_every=2)\n",
    "    true, pred, val_loss = val_loop(nbow_model, criterion, val_iterator)\n",
    "    accuracy, f1 = get_accuracy_and_f1_score(true, pred)\n",
    "    train_loss_over_time_hinge.append(train_loss)\n",
    "    val_loss_over_time_hinge.append(val_loss)\n",
    "    print(f\"Epoch {epoch+1} -- Train_Loss: {train_loss} -- Val_Loss: {val_loss} -- Val_Accuracy: {accuracy} -- Val_F1: {f1}\")\n",
    "    \n",
    "save_checkpoint(nbow_model, 'nbow', loss_fn='hinge')"
   ]
  },
  {
   "cell_type": "code",
   "execution_count": null,
   "id": "9a52fe6e",
   "metadata": {},
   "outputs": [],
   "source": [
    "# DO NOT CHANGE THIS CELL\n",
    "plot_loss(train_loss_over_time_hinge, val_loss_over_time_hinge, 'NBOW with Hinge Loss')"
   ]
  },
  {
   "cell_type": "code",
   "execution_count": null,
   "id": "b7cf8cd0",
   "metadata": {},
   "outputs": [],
   "source": [
    "# DO NOT CHANGE THIS CELL\n",
    "# load best model from checkpoint \n",
    "learning_rate, epochs, embedding_dim = get_hyperparams_nbow()\n",
    "nbow_model = get_nbow_model(vocab_size= len(train_vocab.keys()), embedding_dim = embedding_dim).to(device)\n",
    "load_checkpoint(nbow_model, 'nbow', 'hinge', map_location=device)\n",
    "\n",
    "# evaluate model \n",
    "true, pred, val_loss = val_loop(nbow_model, criterion, val_iterator)\n",
    "accuracy, f1 = get_accuracy_and_f1_score(true, pred)\n",
    "print(f\"Final Validation Accuracy: {accuracy}\")\n",
    "print(f\"Final Validation F1-Score: {f1}\")"
   ]
  },
  {
   "cell_type": "code",
   "execution_count": null,
   "id": "d5289b09",
   "metadata": {},
   "outputs": [],
   "source": [
    "# DO NOT CHANGE THIS CELL\n",
    "plot_confusion_matrix(true, pred, classes=id2label.values())"
   ]
  },
  {
   "cell_type": "markdown",
   "id": "2aea6785",
   "metadata": {},
   "source": [
    "## 7. Analysis [21 Points - Non-programming]\n",
    "\n",
    "These are some analytical questions based on implementations done above.\n",
    "\n",
    "Note for all analysis questions: Be sure to isolate all your code/textual answers into separate cells without modifying code in other exported functions as they are still used for grade scope test cases. Feel free to add as many code and markdown cells as you see fit to explain your answer.\n",
    "\n",
    "Code should be in code cells and write-ups should strictly be in markdown cells. Please note, these will be manually evaluated due to large variation in possible answers. So, visibility of code, explanation and output in the PDF is the key."
   ]
  },
  {
   "cell_type": "markdown",
   "id": "e0d2d5e7",
   "metadata": {},
   "source": [
    "### 7.1. Analyzing NBOW Weights [7 points - Non-programming]\n",
    "\n",
    "Load your trained `NBOW` model here, and let $w$ be the weight of your linear layer of the model. It will be of the shape of `(num_classes, embedding_dim)`.\n",
    "\n",
    "For this tensor, compute $ww^T$ and show it as a heatmap (a sample code to generate heatmap is shown below). \n",
    "\n",
    "Explain the generated output. What does it resemble? What do high and low values of coefficients at position i, j indicate? With the help of the dataset documentation and `id2label` map displayed earlier in this notebook, can you reason why certain values are high and why certain values are low? What does it tell you about the class labels?"
   ]
  },
  {
   "cell_type": "code",
   "execution_count": null,
   "id": "0a33681a",
   "metadata": {},
   "outputs": [],
   "source": [
    "# YOUR CODE HERE\n",
    "# Example Heatmap Generation Code\n",
    "# matrix = np.array([[1, 2, 3], [4, 5, 6], [7, 8, 9]])\n",
    "\n",
    "# # Display heatmap using Matplotlib\n",
    "# plt.imshow(matrix, cmap='hot', interpolation='nearest')\n",
    "# plt.colorbar()  # Add a color bar to show the scale\n",
    "# plt.title('Heatmap using Matplotlib')\n",
    "# plt.show()"
   ]
  },
  {
   "cell_type": "markdown",
   "id": "f308afec",
   "metadata": {},
   "source": [
    "YOUR ANSWER HERE"
   ]
  },
  {
   "cell_type": "markdown",
   "id": "a4df34b1",
   "metadata": {},
   "source": [
    "### 7.2. Word Embeddings and the Attention Vector [7 points - Non Programming]\n",
    "\n",
    "From your trained `SimpleAttentionNBOW` model, analyze all word embeddings and the attention vector `u`. Look at the words which have the highest cosine similarity with `u`. Print the 15 words with highest cosine similarity to `u` and the 15 with lowest cosine similarity to `u`. Why do you think those words have high/low cosine similarity to `u` (and therefore high/low attention weights on average)? Form a hypothesis to explain what you see."
   ]
  },
  {
   "cell_type": "code",
   "execution_count": null,
   "id": "4d019448",
   "metadata": {},
   "outputs": [],
   "source": [
    "# YOUR CODE HERE"
   ]
  },
  {
   "cell_type": "markdown",
   "id": "03afff04",
   "metadata": {},
   "source": [
    "YOUR ANSWER HERE"
   ]
  },
  {
   "cell_type": "markdown",
   "id": "87948930",
   "metadata": {},
   "source": [
    "### 7.3. Analysis of Cost Matrix in Hinge Loss [7 points - Non-programming]\n",
    "\n",
    "Display the confusion matrices of prediction of `NBOW` with `PerceptronLoss` and `HingeLoss`. Also print the cost matrix you used for the Hinge Loss. \n",
    "\n",
    "Using this confusion matrix, `id2label` mapping provided earlier, your knowledge about what labels in the dataset represent, explain the motivation behind creating the provided cost matrix. Why were some of the coefficients higher than others (if)?"
   ]
  },
  {
   "cell_type": "code",
   "execution_count": null,
   "id": "54d1074e",
   "metadata": {},
   "outputs": [],
   "source": [
    "# YOUR CODE HERE"
   ]
  },
  {
   "cell_type": "markdown",
   "id": "850dd25e",
   "metadata": {},
   "source": [
    "YOUR ANSWER HERE"
   ]
  },
  {
   "cell_type": "markdown",
   "id": "359d26e4a7fc359d",
   "metadata": {},
   "source": [
    "## 8. Improving Attention Models [BONUS] [10 points - Non-programming]"
   ]
  },
  {
   "cell_type": "markdown",
   "id": "11b09c0394963ab9",
   "metadata": {},
   "source": [
    "Hopefully you’ve developed some intuition for using attention for this task. Now, come up with your own ways of modifying the attention function and experiment with them. Can you find an idea that outperforms your models from Sections 5?\n",
    "Some potential ideas are below:\n",
    "- Use transformation matrices to distinguish key, query, and value representations\n",
    "- Add additional layers of self-attention before the attention-weighted sum of embeddings\n",
    "- Compute features in the attention function based on characteristics of where the word is in the sentence, e.g., features of the sentence length, nearby words, the presence of negation words before or after the word, information from a part-of-speech tagger or syntactic parse of the sentence, etc.\n",
    "- Use multiple word embedding spaces for when words are used as keys, queries, and values, or some subset of the three.\n",
    "\n",
    "Describe your best new attention function formally below, along with the execution code and experimental results. Add as many code and markdown cells as you want, and submit the complete working with explanation."
   ]
  },
  {
   "cell_type": "markdown",
   "id": "28db6978",
   "metadata": {},
   "source": [
    "## 9. Submitting Your Assignment"
   ]
  },
  {
   "cell_type": "markdown",
   "id": "a2e93176",
   "metadata": {},
   "source": [
    "This is the end. Congratulations!  \n",
    "\n",
    "Now, follow the steps below to submit your homework on Gradescope."
   ]
  },
  {
   "cell_type": "markdown",
   "id": "5e47daf5",
   "metadata": {},
   "source": [
    "### 9.1. Programming\n",
    "\n",
    "The programming will be evaluated through an autograder. To create the file to submit for autograder, follow the steps below -\n",
    "1. Open a terminal from the root directory of the project\n",
    "2. Run the collect_submission.py file\n",
    "3. Agree to the Late Policy and Honor Pledge\n",
    "4. After the file is executed, your root project will have a submission directory.\n",
    "5. Submit all the contents of this file to GradeScope"
   ]
  },
  {
   "cell_type": "markdown",
   "id": "13221269",
   "metadata": {},
   "source": [
    "### 9.2. Non-Programming\n",
    "\n",
    "The analysis parts will be evaluated manually. For this, export the notebook to a PDF file, and submit it on GradeScope. Please ensure no written code or output is clipped when you create your PDF. One reliable way to do it is first download it as HTML through Jupyter Notebook and then print it to get PDF."
   ]
  }
 ],
 "metadata": {
  "accelerator": "GPU",
  "colab": {
   "machine_shape": "hm",
   "provenance": []
  },
  "kernelspec": {
   "display_name": "NLP_HW0",
   "language": "python",
   "name": "python3"
  },
  "language_info": {
   "codemirror_mode": {
    "name": "ipython",
    "version": 3
   },
   "file_extension": ".py",
   "mimetype": "text/x-python",
   "name": "python",
   "nbconvert_exporter": "python",
   "pygments_lexer": "ipython3",
   "version": "3.11.13"
  }
 },
 "nbformat": 4,
 "nbformat_minor": 5
}
